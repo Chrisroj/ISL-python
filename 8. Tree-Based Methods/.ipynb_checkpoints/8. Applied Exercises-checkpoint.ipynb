{
 "cells": [
  {
   "cell_type": "markdown",
   "id": "d3739579",
   "metadata": {},
   "source": [
    "### Exercise 7\n",
    "In the lab, we applied random forests to the Boston data using $mtry = 6$ and using $ntree = 25$ and $ntree = 500$. Create a plot displaying the test error resulting from random forests on this data set for a more comprehensive range of values for mtry and ntree. You can model your plot after Figure 8.10. Describe the results obtained."
   ]
  },
  {
   "cell_type": "markdown",
   "id": "683d1153",
   "metadata": {},
   "source": [
    "### Solution 7"
   ]
  },
  {
   "cell_type": "code",
   "execution_count": 1,
   "id": "a479e570",
   "metadata": {},
   "outputs": [],
   "source": [
    "import numpy as np\n",
    "import pandas as pd\n",
    "import matplotlib.pyplot as plt\n",
    "from tqdm.notebook import tqdm\n",
    "from sklearn.ensemble import RandomForestRegressor\n",
    "from sklearn.model_selection import train_test_split\n",
    "from sklearn.metrics import mean_squared_error"
   ]
  },
  {
   "cell_type": "code",
   "execution_count": 2,
   "id": "fbb30f6c",
   "metadata": {},
   "outputs": [
    {
     "data": {
      "text/html": [
       "<div>\n",
       "<style scoped>\n",
       "    .dataframe tbody tr th:only-of-type {\n",
       "        vertical-align: middle;\n",
       "    }\n",
       "\n",
       "    .dataframe tbody tr th {\n",
       "        vertical-align: top;\n",
       "    }\n",
       "\n",
       "    .dataframe thead th {\n",
       "        text-align: right;\n",
       "    }\n",
       "</style>\n",
       "<table border=\"1\" class=\"dataframe\">\n",
       "  <thead>\n",
       "    <tr style=\"text-align: right;\">\n",
       "      <th></th>\n",
       "      <th>CRIM</th>\n",
       "      <th>ZN</th>\n",
       "      <th>INDUS</th>\n",
       "      <th>CHAS</th>\n",
       "      <th>NOX</th>\n",
       "      <th>RM</th>\n",
       "      <th>AGE</th>\n",
       "      <th>DIS</th>\n",
       "      <th>RAD</th>\n",
       "      <th>TAX</th>\n",
       "      <th>PTRATIO</th>\n",
       "      <th>B</th>\n",
       "      <th>LSTAT</th>\n",
       "      <th>MEDV</th>\n",
       "    </tr>\n",
       "  </thead>\n",
       "  <tbody>\n",
       "    <tr>\n",
       "      <th>0</th>\n",
       "      <td>0.00632</td>\n",
       "      <td>18.0</td>\n",
       "      <td>2.31</td>\n",
       "      <td>0.0</td>\n",
       "      <td>0.538</td>\n",
       "      <td>6.575</td>\n",
       "      <td>65.2</td>\n",
       "      <td>4.0900</td>\n",
       "      <td>1.0</td>\n",
       "      <td>296.0</td>\n",
       "      <td>15.3</td>\n",
       "      <td>396.90</td>\n",
       "      <td>4.98</td>\n",
       "      <td>24.0</td>\n",
       "    </tr>\n",
       "    <tr>\n",
       "      <th>1</th>\n",
       "      <td>0.02731</td>\n",
       "      <td>0.0</td>\n",
       "      <td>7.07</td>\n",
       "      <td>0.0</td>\n",
       "      <td>0.469</td>\n",
       "      <td>6.421</td>\n",
       "      <td>78.9</td>\n",
       "      <td>4.9671</td>\n",
       "      <td>2.0</td>\n",
       "      <td>242.0</td>\n",
       "      <td>17.8</td>\n",
       "      <td>396.90</td>\n",
       "      <td>9.14</td>\n",
       "      <td>21.6</td>\n",
       "    </tr>\n",
       "    <tr>\n",
       "      <th>2</th>\n",
       "      <td>0.02729</td>\n",
       "      <td>0.0</td>\n",
       "      <td>7.07</td>\n",
       "      <td>0.0</td>\n",
       "      <td>0.469</td>\n",
       "      <td>7.185</td>\n",
       "      <td>61.1</td>\n",
       "      <td>4.9671</td>\n",
       "      <td>2.0</td>\n",
       "      <td>242.0</td>\n",
       "      <td>17.8</td>\n",
       "      <td>392.83</td>\n",
       "      <td>4.03</td>\n",
       "      <td>34.7</td>\n",
       "    </tr>\n",
       "    <tr>\n",
       "      <th>3</th>\n",
       "      <td>0.03237</td>\n",
       "      <td>0.0</td>\n",
       "      <td>2.18</td>\n",
       "      <td>0.0</td>\n",
       "      <td>0.458</td>\n",
       "      <td>6.998</td>\n",
       "      <td>45.8</td>\n",
       "      <td>6.0622</td>\n",
       "      <td>3.0</td>\n",
       "      <td>222.0</td>\n",
       "      <td>18.7</td>\n",
       "      <td>394.63</td>\n",
       "      <td>2.94</td>\n",
       "      <td>33.4</td>\n",
       "    </tr>\n",
       "    <tr>\n",
       "      <th>4</th>\n",
       "      <td>0.06905</td>\n",
       "      <td>0.0</td>\n",
       "      <td>2.18</td>\n",
       "      <td>0.0</td>\n",
       "      <td>0.458</td>\n",
       "      <td>7.147</td>\n",
       "      <td>54.2</td>\n",
       "      <td>6.0622</td>\n",
       "      <td>3.0</td>\n",
       "      <td>222.0</td>\n",
       "      <td>18.7</td>\n",
       "      <td>396.90</td>\n",
       "      <td>5.33</td>\n",
       "      <td>36.2</td>\n",
       "    </tr>\n",
       "  </tbody>\n",
       "</table>\n",
       "</div>"
      ],
      "text/plain": [
       "      CRIM    ZN  INDUS  CHAS    NOX     RM   AGE     DIS  RAD    TAX  \\\n",
       "0  0.00632  18.0   2.31   0.0  0.538  6.575  65.2  4.0900  1.0  296.0   \n",
       "1  0.02731   0.0   7.07   0.0  0.469  6.421  78.9  4.9671  2.0  242.0   \n",
       "2  0.02729   0.0   7.07   0.0  0.469  7.185  61.1  4.9671  2.0  242.0   \n",
       "3  0.03237   0.0   2.18   0.0  0.458  6.998  45.8  6.0622  3.0  222.0   \n",
       "4  0.06905   0.0   2.18   0.0  0.458  7.147  54.2  6.0622  3.0  222.0   \n",
       "\n",
       "   PTRATIO       B  LSTAT  MEDV  \n",
       "0     15.3  396.90   4.98  24.0  \n",
       "1     17.8  396.90   9.14  21.6  \n",
       "2     17.8  392.83   4.03  34.7  \n",
       "3     18.7  394.63   2.94  33.4  \n",
       "4     18.7  396.90   5.33  36.2  "
      ]
     },
     "execution_count": 2,
     "metadata": {},
     "output_type": "execute_result"
    }
   ],
   "source": [
    "# Import Boston Data\n",
    "boston = pd.read_csv(\"data/boston.csv\")\n",
    "boston.head()\n",
    "# Source: http://lib.stat.cmu.edu/datasets/boston"
   ]
  },
  {
   "cell_type": "code",
   "execution_count": 3,
   "id": "43af98bf",
   "metadata": {},
   "outputs": [],
   "source": [
    "# Target and Predictor Variables\n",
    "X = boston.drop(\"MEDV\", axis = 1)\n",
    "y = boston[\"MEDV\"]"
   ]
  },
  {
   "cell_type": "code",
   "execution_count": 4,
   "id": "83f5a0c8",
   "metadata": {},
   "outputs": [],
   "source": [
    "# Split Data\n",
    "X_train, X_test, y_train, y_test = train_test_split(X, y, test_size = 0.5, random_state = 123)"
   ]
  },
  {
   "cell_type": "code",
   "execution_count": 5,
   "id": "db76d53c",
   "metadata": {},
   "outputs": [
    {
     "data": {
      "application/vnd.jupyter.widget-view+json": {
       "model_id": "e2c2926d1e784cf4873a979ed97212af",
       "version_major": 2,
       "version_minor": 0
      },
      "text/plain": [
       "  0%|          | 0/4 [00:00<?, ?it/s]"
      ]
     },
     "metadata": {},
     "output_type": "display_data"
    }
   ],
   "source": [
    "# Calculating Test Error for RFR\n",
    "mtry_list = [3, 6, 9, 13]\n",
    "error_test_dict = {}\n",
    "\n",
    "for mtry in mtry_list:\n",
    "    error_test_dict[f\"m = {mtry}\"] = []\n",
    "    \n",
    "for mtry in tqdm(mtry_list):\n",
    "    for ntree in range(1, 501, 10):\n",
    "        forestreg = RandomForestRegressor(n_estimators = ntree,\n",
    "                                          max_features = mtry,\n",
    "                                          random_state = 123)\n",
    "        forestreg.fit(X_train, y_train)\n",
    "        test_error = mean_squared_error(y_test, forestreg.predict(X_test))\n",
    "        error_test_dict[f\"m = {mtry}\"].append(test_error)"
   ]
  },
  {
   "cell_type": "markdown",
   "id": "86f57a1f",
   "metadata": {},
   "source": [
    "We larger values of $m$ we got worst results in test error. we got the best result with $m = 6$ it is in fact $\\frac{p}{2}$."
   ]
  },
  {
   "cell_type": "code",
   "execution_count": 6,
   "id": "dce2aff1",
   "metadata": {},
   "outputs": [
    {
     "data": {
      "image/png": "[encoded data removed]",
      "text/plain": [
       "<Figure size 864x576 with 1 Axes>"
      ]
     },
     "metadata": {
      "needs_background": "light"
     },
     "output_type": "display_data"
    }
   ],
   "source": [
    "# Plot Random Forest\n",
    "plt.figure(figsize = (12, 8))\n",
    "\n",
    "for mtry in error_test_dict.keys():\n",
    "    plt.plot(range(1, 501, 10), error_test_dict[mtry], label = mtry)\n",
    "plt.title(\"Random Forest Test Error\")\n",
    "plt.xlabel(\"Number of Trees\")\n",
    "plt.ylabel(\"Test Error\")\n",
    "plt.legend();"
   ]
  },
  {
   "cell_type": "markdown",
   "id": "2c668e4e",
   "metadata": {},
   "source": [
    "### Exercise 8\n",
    "\n",
    "In the lab, a classification tree was applied to the Carseats data set after converting Sales into a qualitative response variable. Now we will seek to predict Sales using regression trees and related approaches treating the response as a quantitative variable.\n",
    "\n",
    "    a) Split the data set into a training set and a test set.\n",
    "    b) Fit a regression tree to the training set. Plot the tree, and interpret the results. What test MSE do you obtain?\n",
    "    c) Use cross-validation in order to determine the optimal level of tree complexity. Does pruning the tree improve the test MSE?\n",
    "    d) Use the bagging approach in order to analyze this data. What test MSE do you obtain? Use the importance() function to determine which variables are most important.\n",
    "    e) Use random forests to analyze this data. What test MSE do you obtain? Use the importance() function to determine which variables are most important. Describe the effect of m, the number of variables considered at each split, on the error rate obtained.\n",
    "    f) Now analyze the data using BART, and report your results."
   ]
  },
  {
   "cell_type": "markdown",
   "id": "3ec4edc3",
   "metadata": {},
   "source": [
    "### Solution 8"
   ]
  },
  {
   "cell_type": "code",
   "execution_count": 7,
   "id": "0fdbbd6b",
   "metadata": {},
   "outputs": [],
   "source": [
    "import numpy as np\n",
    "import pandas as pd \n",
    "import seaborn as sns\n",
    "import matplotlib.pyplot as plt\n",
    "from sklearn.model_selection import train_test_split, GridSearchCV\n",
    "from sklearn.tree import DecisionTreeRegressor, export_graphviz\n",
    "from sklearn.ensemble import RandomForestRegressor\n",
    "from sklearn.compose import ColumnTransformer\n",
    "from sklearn.preprocessing import OneHotEncoder\n",
    "from sklearn.metrics import mean_squared_error\n",
    "from graphviz import Source\n",
    "\n",
    "# Seaborn Theme \n",
    "sns.set_theme(style = \"whitegrid\")"
   ]
  },
  {
   "cell_type": "code",
   "execution_count": 19,
   "id": "28de2553",
   "metadata": {},
   "outputs": [],
   "source": [
    "def plot_importances(columns, importances):\n",
    "    pd.DataFrame({\"Feature\": columns, \"Importances\": importances})\\\n",
    "        .set_index(\"Feature\")\\\n",
    "        .sort_values(\"Importances\", ascending = False)\\\n",
    "        .plot.bar(fontsize = 15, figsize = (10, 7));\n",
    "    plt.xlabel(\"Feature\", fontdict = {'fontsize': 20})\n",
    "    plt.ylabel(\"Importance\", fontdict = {'fontsize': 20})\n",
    "    plt.title(\"Feature Importances\", fontdict = {'fontsize': 25});"
   ]
  },
  {
   "cell_type": "code",
   "execution_count": 9,
   "id": "5d452015",
   "metadata": {},
   "outputs": [
    {
     "data": {
      "text/html": [
       "<div>\n",
       "<style scoped>\n",
       "    .dataframe tbody tr th:only-of-type {\n",
       "        vertical-align: middle;\n",
       "    }\n",
       "\n",
       "    .dataframe tbody tr th {\n",
       "        vertical-align: top;\n",
       "    }\n",
       "\n",
       "    .dataframe thead th {\n",
       "        text-align: right;\n",
       "    }\n",
       "</style>\n",
       "<table border=\"1\" class=\"dataframe\">\n",
       "  <thead>\n",
       "    <tr style=\"text-align: right;\">\n",
       "      <th></th>\n",
       "      <th>Sales</th>\n",
       "      <th>CompPrice</th>\n",
       "      <th>Income</th>\n",
       "      <th>Advertising</th>\n",
       "      <th>Population</th>\n",
       "      <th>Price</th>\n",
       "      <th>ShelveLoc</th>\n",
       "      <th>Age</th>\n",
       "      <th>Education</th>\n",
       "      <th>Urban</th>\n",
       "      <th>US</th>\n",
       "    </tr>\n",
       "  </thead>\n",
       "  <tbody>\n",
       "    <tr>\n",
       "      <th>0</th>\n",
       "      <td>9.50</td>\n",
       "      <td>138</td>\n",
       "      <td>73</td>\n",
       "      <td>11</td>\n",
       "      <td>276</td>\n",
       "      <td>120</td>\n",
       "      <td>Bad</td>\n",
       "      <td>42</td>\n",
       "      <td>17</td>\n",
       "      <td>Yes</td>\n",
       "      <td>Yes</td>\n",
       "    </tr>\n",
       "    <tr>\n",
       "      <th>1</th>\n",
       "      <td>11.22</td>\n",
       "      <td>111</td>\n",
       "      <td>48</td>\n",
       "      <td>16</td>\n",
       "      <td>260</td>\n",
       "      <td>83</td>\n",
       "      <td>Good</td>\n",
       "      <td>65</td>\n",
       "      <td>10</td>\n",
       "      <td>Yes</td>\n",
       "      <td>Yes</td>\n",
       "    </tr>\n",
       "    <tr>\n",
       "      <th>2</th>\n",
       "      <td>10.06</td>\n",
       "      <td>113</td>\n",
       "      <td>35</td>\n",
       "      <td>10</td>\n",
       "      <td>269</td>\n",
       "      <td>80</td>\n",
       "      <td>Medium</td>\n",
       "      <td>59</td>\n",
       "      <td>12</td>\n",
       "      <td>Yes</td>\n",
       "      <td>Yes</td>\n",
       "    </tr>\n",
       "    <tr>\n",
       "      <th>3</th>\n",
       "      <td>7.40</td>\n",
       "      <td>117</td>\n",
       "      <td>100</td>\n",
       "      <td>4</td>\n",
       "      <td>466</td>\n",
       "      <td>97</td>\n",
       "      <td>Medium</td>\n",
       "      <td>55</td>\n",
       "      <td>14</td>\n",
       "      <td>Yes</td>\n",
       "      <td>Yes</td>\n",
       "    </tr>\n",
       "    <tr>\n",
       "      <th>4</th>\n",
       "      <td>4.15</td>\n",
       "      <td>141</td>\n",
       "      <td>64</td>\n",
       "      <td>3</td>\n",
       "      <td>340</td>\n",
       "      <td>128</td>\n",
       "      <td>Bad</td>\n",
       "      <td>38</td>\n",
       "      <td>13</td>\n",
       "      <td>Yes</td>\n",
       "      <td>No</td>\n",
       "    </tr>\n",
       "  </tbody>\n",
       "</table>\n",
       "</div>"
      ],
      "text/plain": [
       "   Sales  CompPrice  Income  Advertising  Population  Price ShelveLoc  Age  \\\n",
       "0   9.50        138      73           11         276    120       Bad   42   \n",
       "1  11.22        111      48           16         260     83      Good   65   \n",
       "2  10.06        113      35           10         269     80    Medium   59   \n",
       "3   7.40        117     100            4         466     97    Medium   55   \n",
       "4   4.15        141      64            3         340    128       Bad   38   \n",
       "\n",
       "   Education Urban   US  \n",
       "0         17   Yes  Yes  \n",
       "1         10   Yes  Yes  \n",
       "2         12   Yes  Yes  \n",
       "3         14   Yes  Yes  \n",
       "4         13   Yes   No  "
      ]
     },
     "execution_count": 9,
     "metadata": {},
     "output_type": "execute_result"
    }
   ],
   "source": [
    "# Import Carseats Data\n",
    "carseats = pd.read_csv(\"data/carseats.csv\")\n",
    "carseats.head()"
   ]
  },
  {
   "cell_type": "code",
   "execution_count": 10,
   "id": "417445c3",
   "metadata": {},
   "outputs": [],
   "source": [
    "# Target and Predictor Variables\n",
    "X = carseats.drop(\"Sales\", axis = 1)\n",
    "y = carseats[\"Sales\"]"
   ]
  },
  {
   "cell_type": "markdown",
   "id": "4164734c",
   "metadata": {},
   "source": [
    "**a) Split the data set into a training set and a test set.**"
   ]
  },
  {
   "cell_type": "code",
   "execution_count": 11,
   "id": "2c6323cb",
   "metadata": {},
   "outputs": [],
   "source": [
    "# Split Data\n",
    "X_train, X_test, y_train, y_test = train_test_split(X, y, random_state = 123)"
   ]
  },
  {
   "cell_type": "markdown",
   "id": "338e6ddb",
   "metadata": {},
   "source": [
    "**b) Fit a regression tree to the training set. Plot the tree, and interpret the results. What test MSE do you obtain?**"
   ]
  },
  {
   "cell_type": "markdown",
   "id": "c872689b",
   "metadata": {},
   "source": [
    "We have three categorial variables *ShelveLoc*, *Urban* and *US*. We have to apply binarization (one-hot-encoding) to the variables."
   ]
  },
  {
   "cell_type": "code",
   "execution_count": 12,
   "id": "79352849",
   "metadata": {},
   "outputs": [
    {
     "data": {
      "text/html": [
       "<div>\n",
       "<style scoped>\n",
       "    .dataframe tbody tr th:only-of-type {\n",
       "        vertical-align: middle;\n",
       "    }\n",
       "\n",
       "    .dataframe tbody tr th {\n",
       "        vertical-align: top;\n",
       "    }\n",
       "\n",
       "    .dataframe thead th {\n",
       "        text-align: right;\n",
       "    }\n",
       "</style>\n",
       "<table border=\"1\" class=\"dataframe\">\n",
       "  <thead>\n",
       "    <tr style=\"text-align: right;\">\n",
       "      <th></th>\n",
       "      <th>ShelveLoc_Bad</th>\n",
       "      <th>ShelveLoc_Good</th>\n",
       "      <th>ShelveLoc_Medium</th>\n",
       "      <th>Urban_No</th>\n",
       "      <th>Urban_Yes</th>\n",
       "      <th>US_No</th>\n",
       "      <th>US_Yes</th>\n",
       "      <th>CompPrice</th>\n",
       "      <th>Income</th>\n",
       "      <th>Advertising</th>\n",
       "      <th>Population</th>\n",
       "      <th>Price</th>\n",
       "      <th>Age</th>\n",
       "      <th>Education</th>\n",
       "    </tr>\n",
       "  </thead>\n",
       "  <tbody>\n",
       "    <tr>\n",
       "      <th>0</th>\n",
       "      <td>0.0</td>\n",
       "      <td>0.0</td>\n",
       "      <td>1.0</td>\n",
       "      <td>0.0</td>\n",
       "      <td>1.0</td>\n",
       "      <td>0.0</td>\n",
       "      <td>1.0</td>\n",
       "      <td>128.0</td>\n",
       "      <td>39.0</td>\n",
       "      <td>12.0</td>\n",
       "      <td>356.0</td>\n",
       "      <td>118.0</td>\n",
       "      <td>71.0</td>\n",
       "      <td>10.0</td>\n",
       "    </tr>\n",
       "    <tr>\n",
       "      <th>1</th>\n",
       "      <td>1.0</td>\n",
       "      <td>0.0</td>\n",
       "      <td>0.0</td>\n",
       "      <td>0.0</td>\n",
       "      <td>1.0</td>\n",
       "      <td>0.0</td>\n",
       "      <td>1.0</td>\n",
       "      <td>118.0</td>\n",
       "      <td>83.0</td>\n",
       "      <td>13.0</td>\n",
       "      <td>276.0</td>\n",
       "      <td>104.0</td>\n",
       "      <td>75.0</td>\n",
       "      <td>10.0</td>\n",
       "    </tr>\n",
       "    <tr>\n",
       "      <th>2</th>\n",
       "      <td>0.0</td>\n",
       "      <td>0.0</td>\n",
       "      <td>1.0</td>\n",
       "      <td>1.0</td>\n",
       "      <td>0.0</td>\n",
       "      <td>0.0</td>\n",
       "      <td>1.0</td>\n",
       "      <td>110.0</td>\n",
       "      <td>119.0</td>\n",
       "      <td>0.0</td>\n",
       "      <td>384.0</td>\n",
       "      <td>97.0</td>\n",
       "      <td>72.0</td>\n",
       "      <td>14.0</td>\n",
       "    </tr>\n",
       "    <tr>\n",
       "      <th>3</th>\n",
       "      <td>0.0</td>\n",
       "      <td>1.0</td>\n",
       "      <td>0.0</td>\n",
       "      <td>1.0</td>\n",
       "      <td>0.0</td>\n",
       "      <td>1.0</td>\n",
       "      <td>0.0</td>\n",
       "      <td>132.0</td>\n",
       "      <td>68.0</td>\n",
       "      <td>0.0</td>\n",
       "      <td>264.0</td>\n",
       "      <td>123.0</td>\n",
       "      <td>34.0</td>\n",
       "      <td>11.0</td>\n",
       "    </tr>\n",
       "    <tr>\n",
       "      <th>4</th>\n",
       "      <td>0.0</td>\n",
       "      <td>0.0</td>\n",
       "      <td>1.0</td>\n",
       "      <td>0.0</td>\n",
       "      <td>1.0</td>\n",
       "      <td>1.0</td>\n",
       "      <td>0.0</td>\n",
       "      <td>122.0</td>\n",
       "      <td>35.0</td>\n",
       "      <td>2.0</td>\n",
       "      <td>393.0</td>\n",
       "      <td>136.0</td>\n",
       "      <td>62.0</td>\n",
       "      <td>18.0</td>\n",
       "    </tr>\n",
       "  </tbody>\n",
       "</table>\n",
       "</div>"
      ],
      "text/plain": [
       "   ShelveLoc_Bad  ShelveLoc_Good  ShelveLoc_Medium  Urban_No  Urban_Yes  \\\n",
       "0            0.0             0.0               1.0       0.0        1.0   \n",
       "1            1.0             0.0               0.0       0.0        1.0   \n",
       "2            0.0             0.0               1.0       1.0        0.0   \n",
       "3            0.0             1.0               0.0       1.0        0.0   \n",
       "4            0.0             0.0               1.0       0.0        1.0   \n",
       "\n",
       "   US_No  US_Yes  CompPrice  Income  Advertising  Population  Price   Age  \\\n",
       "0    0.0     1.0      128.0    39.0         12.0       356.0  118.0  71.0   \n",
       "1    0.0     1.0      118.0    83.0         13.0       276.0  104.0  75.0   \n",
       "2    0.0     1.0      110.0   119.0          0.0       384.0   97.0  72.0   \n",
       "3    1.0     0.0      132.0    68.0          0.0       264.0  123.0  34.0   \n",
       "4    1.0     0.0      122.0    35.0          2.0       393.0  136.0  62.0   \n",
       "\n",
       "   Education  \n",
       "0       10.0  \n",
       "1       10.0  \n",
       "2       14.0  \n",
       "3       11.0  \n",
       "4       18.0  "
      ]
     },
     "execution_count": 12,
     "metadata": {},
     "output_type": "execute_result"
    }
   ],
   "source": [
    "# Get Categorial Column Names\n",
    "cat_cols = X_train.select_dtypes(include = [\"object\"]).columns.to_list()\n",
    "numeric_cols = X_train.select_dtypes(include = [\"int64\"]).columns.to_list()\n",
    "\n",
    "# One-Hot-Encoding just for Categorical Columns\n",
    "preprocessor = ColumnTransformer(\n",
    "                    [('onehot', OneHotEncoder(handle_unknown = 'ignore'), cat_cols)],\n",
    "                    remainder='passthrough'\n",
    ")\n",
    "\n",
    "X_train_prep = preprocessor.fit_transform(X_train) # Numpy Array\n",
    "X_test_prep = preprocessor.transform(X_test) # Numpy Array\n",
    "\n",
    "# Get Labels for One-Hot-Encoding\n",
    "encoded_cat = preprocessor.named_transformers_['onehot'].get_feature_names_out(cat_cols)\n",
    "labels = np.concatenate([encoded_cat, numeric_cols])\n",
    "X_train_prep = pd.DataFrame(X_train_prep, columns=labels)\n",
    "X_test_prep = pd.DataFrame(X_test_prep, columns=labels)\n",
    "\n",
    "X_train_prep.head()"
   ]
  },
  {
   "cell_type": "code",
   "execution_count": 13,
   "id": "fe3d62d0",
   "metadata": {},
   "outputs": [
    {
     "data": {
      "text/plain": [
       "DecisionTreeRegressor(max_depth=4, random_state=123)"
      ]
     },
     "execution_count": 13,
     "metadata": {},
     "output_type": "execute_result"
    }
   ],
   "source": [
    "# Fit Tree\n",
    "tree = DecisionTreeRegressor(max_depth = 4, random_state = 123)\n",
    "tree.fit(X_train_prep, y_train)"
   ]
  },
  {
   "cell_type": "code",
   "execution_count": 14,
   "id": "ea6c4639",
   "metadata": {},
   "outputs": [
    {
     "data": {
      "image/svg+xml": [
       "<?xml version=\"1.0\" encoding=\"UTF-8\" standalone=\"no\"?>\n",
       "<!DOCTYPE svg PUBLIC \"-//W3C//DTD SVG 1.1//EN\"\n",
       " \"http://www.w3.org/Graphics/SVG/1.1/DTD/svg11.dtd\">\n",
       "<!-- Generated by graphviz version 2.50.0 (20211204.2007)\n",
       " -->\n",
       "<!-- Title: Tree Pages: 1 -->\n",
       "<svg width=\"2774pt\" height=\"477pt\"\n",
       " viewBox=\"0.00 0.00 2774.00 477.00\" xmlns=\"http://www.w3.org/2000/svg\" xmlns:xlink=\"http://www.w3.org/1999/xlink\">\n",
       "<g id=\"graph0\" class=\"graph\" transform=\"scale(1 1) rotate(0) translate(4 473)\">\n",
       "<title>Tree</title>\n",
       "<polygon fill=\"white\" stroke=\"transparent\" points=\"-4,4 -4,-473 2770,-473 2770,4 -4,4\"/>\n",
       "<!-- 0 -->\n",
       "<g id=\"node1\" class=\"node\">\n",
       "<title>0</title>\n",
       "<path fill=\"#f5cfb4\" stroke=\"black\" d=\"M1471,-469C1471,-469 1322,-469 1322,-469 1316,-469 1310,-463 1310,-457 1310,-457 1310,-413 1310,-413 1310,-407 1316,-401 1322,-401 1322,-401 1471,-401 1471,-401 1477,-401 1483,-407 1483,-413 1483,-413 1483,-457 1483,-457 1483,-463 1477,-469 1471,-469\"/>\n",
       "<text text-anchor=\"middle\" x=\"1396.5\" y=\"-453.8\" font-family=\"Helvetica,sans-Serif\" font-size=\"14.00\">ShelveLoc_Good &lt;= 0.5</text>\n",
       "<text text-anchor=\"middle\" x=\"1396.5\" y=\"-438.8\" font-family=\"Helvetica,sans-Serif\" font-size=\"14.00\">squared_error = 8.004</text>\n",
       "<text text-anchor=\"middle\" x=\"1396.5\" y=\"-423.8\" font-family=\"Helvetica,sans-Serif\" font-size=\"14.00\">samples = 300</text>\n",
       "<text text-anchor=\"middle\" x=\"1396.5\" y=\"-408.8\" font-family=\"Helvetica,sans-Serif\" font-size=\"14.00\">value = 7.352</text>\n",
       "</g>\n",
       "<!-- 1 -->\n",
       "<g id=\"node2\" class=\"node\">\n",
       "<title>1</title>\n",
       "<path fill=\"#f7d8c2\" stroke=\"black\" d=\"M1112,-365C1112,-365 977,-365 977,-365 971,-365 965,-359 965,-353 965,-353 965,-309 965,-309 965,-303 971,-297 977,-297 977,-297 1112,-297 1112,-297 1118,-297 1124,-303 1124,-309 1124,-309 1124,-353 1124,-353 1124,-359 1118,-365 1112,-365\"/>\n",
       "<text text-anchor=\"middle\" x=\"1044.5\" y=\"-349.8\" font-family=\"Helvetica,sans-Serif\" font-size=\"14.00\">Price &lt;= 105.5</text>\n",
       "<text text-anchor=\"middle\" x=\"1044.5\" y=\"-334.8\" font-family=\"Helvetica,sans-Serif\" font-size=\"14.00\">squared_error = 5.544</text>\n",
       "<text text-anchor=\"middle\" x=\"1044.5\" y=\"-319.8\" font-family=\"Helvetica,sans-Serif\" font-size=\"14.00\">samples = 233</text>\n",
       "<text text-anchor=\"middle\" x=\"1044.5\" y=\"-304.8\" font-family=\"Helvetica,sans-Serif\" font-size=\"14.00\">value = 6.542</text>\n",
       "</g>\n",
       "<!-- 0&#45;&gt;1 -->\n",
       "<g id=\"edge1\" class=\"edge\">\n",
       "<title>0&#45;&gt;1</title>\n",
       "<path fill=\"none\" stroke=\"black\" d=\"M1309.94,-408.92C1256.47,-393.42 1188.01,-373.59 1134.01,-357.94\"/>\n",
       "<polygon fill=\"black\" stroke=\"black\" points=\"1134.68,-354.49 1124.1,-355.06 1132.73,-361.21 1134.68,-354.49\"/>\n",
       "<text text-anchor=\"middle\" x=\"1136.16\" y=\"-373.26\" font-family=\"Helvetica,sans-Serif\" font-size=\"14.00\">True</text>\n",
       "</g>\n",
       "<!-- 16 -->\n",
       "<g id=\"node17\" class=\"node\">\n",
       "<title>16</title>\n",
       "<path fill=\"#efb184\" stroke=\"black\" d=\"M1818,-365C1818,-365 1683,-365 1683,-365 1677,-365 1671,-359 1671,-353 1671,-353 1671,-309 1671,-309 1671,-303 1677,-297 1683,-297 1683,-297 1818,-297 1818,-297 1824,-297 1830,-303 1830,-309 1830,-309 1830,-353 1830,-353 1830,-359 1824,-365 1818,-365\"/>\n",
       "<text text-anchor=\"middle\" x=\"1750.5\" y=\"-349.8\" font-family=\"Helvetica,sans-Serif\" font-size=\"14.00\">Price &lt;= 135.0</text>\n",
       "<text text-anchor=\"middle\" x=\"1750.5\" y=\"-334.8\" font-family=\"Helvetica,sans-Serif\" font-size=\"14.00\">squared_error = 6.336</text>\n",
       "<text text-anchor=\"middle\" x=\"1750.5\" y=\"-319.8\" font-family=\"Helvetica,sans-Serif\" font-size=\"14.00\">samples = 67</text>\n",
       "<text text-anchor=\"middle\" x=\"1750.5\" y=\"-304.8\" font-family=\"Helvetica,sans-Serif\" font-size=\"14.00\">value = 10.17</text>\n",
       "</g>\n",
       "<!-- 0&#45;&gt;16 -->\n",
       "<g id=\"edge16\" class=\"edge\">\n",
       "<title>0&#45;&gt;16</title>\n",
       "<path fill=\"none\" stroke=\"black\" d=\"M1483.1,-409.05C1537.17,-393.47 1606.62,-373.46 1661.19,-357.73\"/>\n",
       "<polygon fill=\"black\" stroke=\"black\" points=\"1662.21,-361.08 1670.85,-354.95 1660.27,-354.36 1662.21,-361.08\"/>\n",
       "<text text-anchor=\"middle\" x=\"1658.76\" y=\"-373.13\" font-family=\"Helvetica,sans-Serif\" font-size=\"14.00\">False</text>\n",
       "</g>\n",
       "<!-- 2 -->\n",
       "<g id=\"node3\" class=\"node\">\n",
       "<title>2</title>\n",
       "<path fill=\"#f4c9aa\" stroke=\"black\" d=\"M590,-261C590,-261 455,-261 455,-261 449,-261 443,-255 443,-249 443,-249 443,-205 443,-205 443,-199 449,-193 455,-193 455,-193 590,-193 590,-193 596,-193 602,-199 602,-205 602,-205 602,-249 602,-249 602,-255 596,-261 590,-261\"/>\n",
       "<text text-anchor=\"middle\" x=\"522.5\" y=\"-245.8\" font-family=\"Helvetica,sans-Serif\" font-size=\"14.00\">CompPrice &lt;= 123.5</text>\n",
       "<text text-anchor=\"middle\" x=\"522.5\" y=\"-230.8\" font-family=\"Helvetica,sans-Serif\" font-size=\"14.00\">squared_error = 4.698</text>\n",
       "<text text-anchor=\"middle\" x=\"522.5\" y=\"-215.8\" font-family=\"Helvetica,sans-Serif\" font-size=\"14.00\">samples = 77</text>\n",
       "<text text-anchor=\"middle\" x=\"522.5\" y=\"-200.8\" font-family=\"Helvetica,sans-Serif\" font-size=\"14.00\">value = 7.956</text>\n",
       "</g>\n",
       "<!-- 1&#45;&gt;2 -->\n",
       "<g id=\"edge2\" class=\"edge\">\n",
       "<title>1&#45;&gt;2</title>\n",
       "<path fill=\"none\" stroke=\"black\" d=\"M964.94,-314.45C869.88,-295.88 711.27,-264.89 612.02,-245.49\"/>\n",
       "<polygon fill=\"black\" stroke=\"black\" points=\"612.49,-242.02 602,-243.54 611.15,-248.89 612.49,-242.02\"/>\n",
       "</g>\n",
       "<!-- 9 -->\n",
       "<g id=\"node10\" class=\"node\">\n",
       "<title>9</title>\n",
       "<path fill=\"#f9e0ce\" stroke=\"black\" d=\"M1113.5,-261C1113.5,-261 975.5,-261 975.5,-261 969.5,-261 963.5,-255 963.5,-249 963.5,-249 963.5,-205 963.5,-205 963.5,-199 969.5,-193 975.5,-193 975.5,-193 1113.5,-193 1113.5,-193 1119.5,-193 1125.5,-199 1125.5,-205 1125.5,-205 1125.5,-249 1125.5,-249 1125.5,-255 1119.5,-261 1113.5,-261\"/>\n",
       "<text text-anchor=\"middle\" x=\"1044.5\" y=\"-245.8\" font-family=\"Helvetica,sans-Serif\" font-size=\"14.00\">ShelveLoc_Bad &lt;= 0.5</text>\n",
       "<text text-anchor=\"middle\" x=\"1044.5\" y=\"-230.8\" font-family=\"Helvetica,sans-Serif\" font-size=\"14.00\">squared_error = 4.487</text>\n",
       "<text text-anchor=\"middle\" x=\"1044.5\" y=\"-215.8\" font-family=\"Helvetica,sans-Serif\" font-size=\"14.00\">samples = 156</text>\n",
       "<text text-anchor=\"middle\" x=\"1044.5\" y=\"-200.8\" font-family=\"Helvetica,sans-Serif\" font-size=\"14.00\">value = 5.844</text>\n",
       "</g>\n",
       "<!-- 1&#45;&gt;9 -->\n",
       "<g id=\"edge9\" class=\"edge\">\n",
       "<title>1&#45;&gt;9</title>\n",
       "<path fill=\"none\" stroke=\"black\" d=\"M1044.5,-296.88C1044.5,-288.78 1044.5,-279.98 1044.5,-271.47\"/>\n",
       "<polygon fill=\"black\" stroke=\"black\" points=\"1048,-271.3 1044.5,-261.3 1041,-271.3 1048,-271.3\"/>\n",
       "</g>\n",
       "<!-- 3 -->\n",
       "<g id=\"node4\" class=\"node\">\n",
       "<title>3</title>\n",
       "<path fill=\"#f5cfb3\" stroke=\"black\" d=\"M324,-157C324,-157 189,-157 189,-157 183,-157 177,-151 177,-145 177,-145 177,-101 177,-101 177,-95 183,-89 189,-89 189,-89 324,-89 324,-89 330,-89 336,-95 336,-101 336,-101 336,-145 336,-145 336,-151 330,-157 324,-157\"/>\n",
       "<text text-anchor=\"middle\" x=\"256.5\" y=\"-141.8\" font-family=\"Helvetica,sans-Serif\" font-size=\"14.00\">Price &lt;= 88.0</text>\n",
       "<text text-anchor=\"middle\" x=\"256.5\" y=\"-126.8\" font-family=\"Helvetica,sans-Serif\" font-size=\"14.00\">squared_error = 4.149</text>\n",
       "<text text-anchor=\"middle\" x=\"256.5\" y=\"-111.8\" font-family=\"Helvetica,sans-Serif\" font-size=\"14.00\">samples = 58</text>\n",
       "<text text-anchor=\"middle\" x=\"256.5\" y=\"-96.8\" font-family=\"Helvetica,sans-Serif\" font-size=\"14.00\">value = 7.423</text>\n",
       "</g>\n",
       "<!-- 2&#45;&gt;3 -->\n",
       "<g id=\"edge3\" class=\"edge\">\n",
       "<title>2&#45;&gt;3</title>\n",
       "<path fill=\"none\" stroke=\"black\" d=\"M442.69,-195.4C412.18,-183.7 377.2,-170.28 345.85,-158.26\"/>\n",
       "<polygon fill=\"black\" stroke=\"black\" points=\"346.84,-154.89 336.25,-154.58 344.34,-161.43 346.84,-154.89\"/>\n",
       "</g>\n",
       "<!-- 6 -->\n",
       "<g id=\"node7\" class=\"node\">\n",
       "<title>6</title>\n",
       "<path fill=\"#f0b78e\" stroke=\"black\" d=\"M590,-157C590,-157 455,-157 455,-157 449,-157 443,-151 443,-145 443,-145 443,-101 443,-101 443,-95 449,-89 455,-89 455,-89 590,-89 590,-89 596,-89 602,-95 602,-101 602,-101 602,-145 602,-145 602,-151 596,-157 590,-157\"/>\n",
       "<text text-anchor=\"middle\" x=\"522.5\" y=\"-141.8\" font-family=\"Helvetica,sans-Serif\" font-size=\"14.00\">Population &lt;= 60.5</text>\n",
       "<text text-anchor=\"middle\" x=\"522.5\" y=\"-126.8\" font-family=\"Helvetica,sans-Serif\" font-size=\"14.00\">squared_error = 2.859</text>\n",
       "<text text-anchor=\"middle\" x=\"522.5\" y=\"-111.8\" font-family=\"Helvetica,sans-Serif\" font-size=\"14.00\">samples = 19</text>\n",
       "<text text-anchor=\"middle\" x=\"522.5\" y=\"-96.8\" font-family=\"Helvetica,sans-Serif\" font-size=\"14.00\">value = 9.583</text>\n",
       "</g>\n",
       "<!-- 2&#45;&gt;6 -->\n",
       "<g id=\"edge6\" class=\"edge\">\n",
       "<title>2&#45;&gt;6</title>\n",
       "<path fill=\"none\" stroke=\"black\" d=\"M522.5,-192.88C522.5,-184.78 522.5,-175.98 522.5,-167.47\"/>\n",
       "<polygon fill=\"black\" stroke=\"black\" points=\"526,-167.3 522.5,-157.3 519,-167.3 526,-167.3\"/>\n",
       "</g>\n",
       "<!-- 4 -->\n",
       "<g id=\"node5\" class=\"node\">\n",
       "<title>4</title>\n",
       "<path fill=\"#f2be99\" stroke=\"black\" d=\"M147,-53C147,-53 12,-53 12,-53 6,-53 0,-47 0,-41 0,-41 0,-12 0,-12 0,-6 6,0 12,0 12,0 147,0 147,0 153,0 159,-6 159,-12 159,-12 159,-41 159,-41 159,-47 153,-53 147,-53\"/>\n",
       "<text text-anchor=\"middle\" x=\"79.5\" y=\"-37.8\" font-family=\"Helvetica,sans-Serif\" font-size=\"14.00\">squared_error = 1.816</text>\n",
       "<text text-anchor=\"middle\" x=\"79.5\" y=\"-22.8\" font-family=\"Helvetica,sans-Serif\" font-size=\"14.00\">samples = 17</text>\n",
       "<text text-anchor=\"middle\" x=\"79.5\" y=\"-7.8\" font-family=\"Helvetica,sans-Serif\" font-size=\"14.00\">value = 8.948</text>\n",
       "</g>\n",
       "<!-- 3&#45;&gt;4 -->\n",
       "<g id=\"edge4\" class=\"edge\">\n",
       "<title>3&#45;&gt;4</title>\n",
       "<path fill=\"none\" stroke=\"black\" d=\"M194.59,-88.95C175.66,-78.84 154.94,-67.78 136.36,-57.86\"/>\n",
       "<polygon fill=\"black\" stroke=\"black\" points=\"137.89,-54.71 127.42,-53.09 134.6,-60.88 137.89,-54.71\"/>\n",
       "</g>\n",
       "<!-- 5 -->\n",
       "<g id=\"node6\" class=\"node\">\n",
       "<title>5</title>\n",
       "<path fill=\"#f6d5be\" stroke=\"black\" d=\"M324,-53C324,-53 189,-53 189,-53 183,-53 177,-47 177,-41 177,-41 177,-12 177,-12 177,-6 183,0 189,0 189,0 324,0 324,0 330,0 336,-6 336,-12 336,-12 336,-41 336,-41 336,-47 330,-53 324,-53\"/>\n",
       "<text text-anchor=\"middle\" x=\"256.5\" y=\"-37.8\" font-family=\"Helvetica,sans-Serif\" font-size=\"14.00\">squared_error = 3.753</text>\n",
       "<text text-anchor=\"middle\" x=\"256.5\" y=\"-22.8\" font-family=\"Helvetica,sans-Serif\" font-size=\"14.00\">samples = 41</text>\n",
       "<text text-anchor=\"middle\" x=\"256.5\" y=\"-7.8\" font-family=\"Helvetica,sans-Serif\" font-size=\"14.00\">value = 6.791</text>\n",
       "</g>\n",
       "<!-- 3&#45;&gt;5 -->\n",
       "<g id=\"edge5\" class=\"edge\">\n",
       "<title>3&#45;&gt;5</title>\n",
       "<path fill=\"none\" stroke=\"black\" d=\"M256.5,-88.95C256.5,-80.72 256.5,-71.85 256.5,-63.48\"/>\n",
       "<polygon fill=\"black\" stroke=\"black\" points=\"260,-63.24 256.5,-53.24 253,-63.24 260,-63.24\"/>\n",
       "</g>\n",
       "<!-- 7 -->\n",
       "<g id=\"node8\" class=\"node\">\n",
       "<title>7</title>\n",
       "<path fill=\"#eb9f69\" stroke=\"black\" d=\"M501,-53C501,-53 366,-53 366,-53 360,-53 354,-47 354,-41 354,-41 354,-12 354,-12 354,-6 360,0 366,0 366,0 501,0 501,0 507,0 513,-6 513,-12 513,-12 513,-41 513,-41 513,-47 507,-53 501,-53\"/>\n",
       "<text text-anchor=\"middle\" x=\"433.5\" y=\"-37.8\" font-family=\"Helvetica,sans-Serif\" font-size=\"14.00\">squared_error = 0.318</text>\n",
       "<text text-anchor=\"middle\" x=\"433.5\" y=\"-22.8\" font-family=\"Helvetica,sans-Serif\" font-size=\"14.00\">samples = 3</text>\n",
       "<text text-anchor=\"middle\" x=\"433.5\" y=\"-7.8\" font-family=\"Helvetica,sans-Serif\" font-size=\"14.00\">value = 11.807</text>\n",
       "</g>\n",
       "<!-- 6&#45;&gt;7 -->\n",
       "<g id=\"edge7\" class=\"edge\">\n",
       "<title>6&#45;&gt;7</title>\n",
       "<path fill=\"none\" stroke=\"black\" d=\"M491.37,-88.95C482.76,-79.8 473.4,-69.87 464.78,-60.71\"/>\n",
       "<polygon fill=\"black\" stroke=\"black\" points=\"467.14,-58.12 457.74,-53.24 462.05,-62.92 467.14,-58.12\"/>\n",
       "</g>\n",
       "<!-- 8 -->\n",
       "<g id=\"node9\" class=\"node\">\n",
       "<title>8</title>\n",
       "<path fill=\"#f1bc95\" stroke=\"black\" d=\"M678,-53C678,-53 543,-53 543,-53 537,-53 531,-47 531,-41 531,-41 531,-12 531,-12 531,-6 537,0 543,0 543,0 678,0 678,0 684,0 690,-6 690,-12 690,-12 690,-41 690,-41 690,-47 684,-53 678,-53\"/>\n",
       "<text text-anchor=\"middle\" x=\"610.5\" y=\"-37.8\" font-family=\"Helvetica,sans-Serif\" font-size=\"14.00\">squared_error = 2.234</text>\n",
       "<text text-anchor=\"middle\" x=\"610.5\" y=\"-22.8\" font-family=\"Helvetica,sans-Serif\" font-size=\"14.00\">samples = 16</text>\n",
       "<text text-anchor=\"middle\" x=\"610.5\" y=\"-7.8\" font-family=\"Helvetica,sans-Serif\" font-size=\"14.00\">value = 9.166</text>\n",
       "</g>\n",
       "<!-- 6&#45;&gt;8 -->\n",
       "<g id=\"edge8\" class=\"edge\">\n",
       "<title>6&#45;&gt;8</title>\n",
       "<path fill=\"none\" stroke=\"black\" d=\"M553.28,-88.95C561.8,-79.8 571.04,-69.87 579.57,-60.71\"/>\n",
       "<polygon fill=\"black\" stroke=\"black\" points=\"582.28,-62.94 586.53,-53.24 577.16,-58.17 582.28,-62.94\"/>\n",
       "</g>\n",
       "<!-- 10 -->\n",
       "<g id=\"node11\" class=\"node\">\n",
       "<title>10</title>\n",
       "<path fill=\"#f7d9c3\" stroke=\"black\" d=\"M1024,-157C1024,-157 889,-157 889,-157 883,-157 877,-151 877,-145 877,-145 877,-101 877,-101 877,-95 883,-89 889,-89 889,-89 1024,-89 1024,-89 1030,-89 1036,-95 1036,-101 1036,-101 1036,-145 1036,-145 1036,-151 1030,-157 1024,-157\"/>\n",
       "<text text-anchor=\"middle\" x=\"956.5\" y=\"-141.8\" font-family=\"Helvetica,sans-Serif\" font-size=\"14.00\">Advertising &lt;= 5.5</text>\n",
       "<text text-anchor=\"middle\" x=\"956.5\" y=\"-126.8\" font-family=\"Helvetica,sans-Serif\" font-size=\"14.00\">squared_error = 4.118</text>\n",
       "<text text-anchor=\"middle\" x=\"956.5\" y=\"-111.8\" font-family=\"Helvetica,sans-Serif\" font-size=\"14.00\">samples = 107</text>\n",
       "<text text-anchor=\"middle\" x=\"956.5\" y=\"-96.8\" font-family=\"Helvetica,sans-Serif\" font-size=\"14.00\">value = 6.439</text>\n",
       "</g>\n",
       "<!-- 9&#45;&gt;10 -->\n",
       "<g id=\"edge10\" class=\"edge\">\n",
       "<title>9&#45;&gt;10</title>\n",
       "<path fill=\"none\" stroke=\"black\" d=\"M1015.93,-192.88C1008.24,-183.98 999.84,-174.24 991.84,-164.96\"/>\n",
       "<polygon fill=\"black\" stroke=\"black\" points=\"994.41,-162.58 985.23,-157.3 989.11,-167.16 994.41,-162.58\"/>\n",
       "</g>\n",
       "<!-- 13 -->\n",
       "<g id=\"node14\" class=\"node\">\n",
       "<title>13</title>\n",
       "<path fill=\"#fbede3\" stroke=\"black\" d=\"M1201,-157C1201,-157 1066,-157 1066,-157 1060,-157 1054,-151 1054,-145 1054,-145 1054,-101 1054,-101 1054,-95 1060,-89 1066,-89 1066,-89 1201,-89 1201,-89 1207,-89 1213,-95 1213,-101 1213,-101 1213,-145 1213,-145 1213,-151 1207,-157 1201,-157\"/>\n",
       "<text text-anchor=\"middle\" x=\"1133.5\" y=\"-141.8\" font-family=\"Helvetica,sans-Serif\" font-size=\"14.00\">Age &lt;= 70.0</text>\n",
       "<text text-anchor=\"middle\" x=\"1133.5\" y=\"-126.8\" font-family=\"Helvetica,sans-Serif\" font-size=\"14.00\">squared_error = 2.833</text>\n",
       "<text text-anchor=\"middle\" x=\"1133.5\" y=\"-111.8\" font-family=\"Helvetica,sans-Serif\" font-size=\"14.00\">samples = 49</text>\n",
       "<text text-anchor=\"middle\" x=\"1133.5\" y=\"-96.8\" font-family=\"Helvetica,sans-Serif\" font-size=\"14.00\">value = 4.545</text>\n",
       "</g>\n",
       "<!-- 9&#45;&gt;13 -->\n",
       "<g id=\"edge13\" class=\"edge\">\n",
       "<title>9&#45;&gt;13</title>\n",
       "<path fill=\"none\" stroke=\"black\" d=\"M1073.4,-192.88C1081.17,-183.98 1089.67,-174.24 1097.76,-164.96\"/>\n",
       "<polygon fill=\"black\" stroke=\"black\" points=\"1100.51,-167.14 1104.44,-157.3 1095.23,-162.53 1100.51,-167.14\"/>\n",
       "</g>\n",
       "<!-- 11 -->\n",
       "<g id=\"node12\" class=\"node\">\n",
       "<title>11</title>\n",
       "<path fill=\"#f9e3d3\" stroke=\"black\" d=\"M847,-53C847,-53 720,-53 720,-53 714,-53 708,-47 708,-41 708,-41 708,-12 708,-12 708,-6 714,0 720,0 720,0 847,0 847,0 853,0 859,-6 859,-12 859,-12 859,-41 859,-41 859,-47 853,-53 847,-53\"/>\n",
       "<text text-anchor=\"middle\" x=\"783.5\" y=\"-37.8\" font-family=\"Helvetica,sans-Serif\" font-size=\"14.00\">squared_error = 3.62</text>\n",
       "<text text-anchor=\"middle\" x=\"783.5\" y=\"-22.8\" font-family=\"Helvetica,sans-Serif\" font-size=\"14.00\">samples = 53</text>\n",
       "<text text-anchor=\"middle\" x=\"783.5\" y=\"-7.8\" font-family=\"Helvetica,sans-Serif\" font-size=\"14.00\">value = 5.539</text>\n",
       "</g>\n",
       "<!-- 10&#45;&gt;11 -->\n",
       "<g id=\"edge11\" class=\"edge\">\n",
       "<title>10&#45;&gt;11</title>\n",
       "<path fill=\"none\" stroke=\"black\" d=\"M895.99,-88.95C877.66,-78.93 857.6,-67.98 839.57,-58.13\"/>\n",
       "<polygon fill=\"black\" stroke=\"black\" points=\"840.8,-54.81 830.34,-53.09 837.44,-60.95 840.8,-54.81\"/>\n",
       "</g>\n",
       "<!-- 12 -->\n",
       "<g id=\"node13\" class=\"node\">\n",
       "<title>12</title>\n",
       "<path fill=\"#f5d0b5\" stroke=\"black\" d=\"M1024,-53C1024,-53 889,-53 889,-53 883,-53 877,-47 877,-41 877,-41 877,-12 877,-12 877,-6 883,0 889,0 889,0 1024,0 1024,0 1030,0 1036,-6 1036,-12 1036,-12 1036,-41 1036,-41 1036,-47 1030,-53 1024,-53\"/>\n",
       "<text text-anchor=\"middle\" x=\"956.5\" y=\"-37.8\" font-family=\"Helvetica,sans-Serif\" font-size=\"14.00\">squared_error = 3.032</text>\n",
       "<text text-anchor=\"middle\" x=\"956.5\" y=\"-22.8\" font-family=\"Helvetica,sans-Serif\" font-size=\"14.00\">samples = 54</text>\n",
       "<text text-anchor=\"middle\" x=\"956.5\" y=\"-7.8\" font-family=\"Helvetica,sans-Serif\" font-size=\"14.00\">value = 7.322</text>\n",
       "</g>\n",
       "<!-- 10&#45;&gt;12 -->\n",
       "<g id=\"edge12\" class=\"edge\">\n",
       "<title>10&#45;&gt;12</title>\n",
       "<path fill=\"none\" stroke=\"black\" d=\"M956.5,-88.95C956.5,-80.72 956.5,-71.85 956.5,-63.48\"/>\n",
       "<polygon fill=\"black\" stroke=\"black\" points=\"960,-63.24 956.5,-53.24 953,-63.24 960,-63.24\"/>\n",
       "</g>\n",
       "<!-- 14 -->\n",
       "<g id=\"node15\" class=\"node\">\n",
       "<title>14</title>\n",
       "<path fill=\"#fbeadd\" stroke=\"black\" d=\"M1201,-53C1201,-53 1066,-53 1066,-53 1060,-53 1054,-47 1054,-41 1054,-41 1054,-12 1054,-12 1054,-6 1060,0 1066,0 1066,0 1201,0 1201,0 1207,0 1213,-6 1213,-12 1213,-12 1213,-41 1213,-41 1213,-47 1207,-53 1201,-53\"/>\n",
       "<text text-anchor=\"middle\" x=\"1133.5\" y=\"-37.8\" font-family=\"Helvetica,sans-Serif\" font-size=\"14.00\">squared_error = 2.273</text>\n",
       "<text text-anchor=\"middle\" x=\"1133.5\" y=\"-22.8\" font-family=\"Helvetica,sans-Serif\" font-size=\"14.00\">samples = 40</text>\n",
       "<text text-anchor=\"middle\" x=\"1133.5\" y=\"-7.8\" font-family=\"Helvetica,sans-Serif\" font-size=\"14.00\">value = 4.912</text>\n",
       "</g>\n",
       "<!-- 13&#45;&gt;14 -->\n",
       "<g id=\"edge14\" class=\"edge\">\n",
       "<title>13&#45;&gt;14</title>\n",
       "<path fill=\"none\" stroke=\"black\" d=\"M1133.5,-88.95C1133.5,-80.72 1133.5,-71.85 1133.5,-63.48\"/>\n",
       "<polygon fill=\"black\" stroke=\"black\" points=\"1137,-63.24 1133.5,-53.24 1130,-63.24 1137,-63.24\"/>\n",
       "</g>\n",
       "<!-- 15 -->\n",
       "<g id=\"node16\" class=\"node\">\n",
       "<title>15</title>\n",
       "<path fill=\"#ffffff\" stroke=\"black\" d=\"M1378,-53C1378,-53 1243,-53 1243,-53 1237,-53 1231,-47 1231,-41 1231,-41 1231,-12 1231,-12 1231,-6 1237,0 1243,0 1243,0 1378,0 1378,0 1384,0 1390,-6 1390,-12 1390,-12 1390,-41 1390,-41 1390,-47 1384,-53 1378,-53\"/>\n",
       "<text text-anchor=\"middle\" x=\"1310.5\" y=\"-37.8\" font-family=\"Helvetica,sans-Serif\" font-size=\"14.00\">squared_error = 2.066</text>\n",
       "<text text-anchor=\"middle\" x=\"1310.5\" y=\"-22.8\" font-family=\"Helvetica,sans-Serif\" font-size=\"14.00\">samples = 9</text>\n",
       "<text text-anchor=\"middle\" x=\"1310.5\" y=\"-7.8\" font-family=\"Helvetica,sans-Serif\" font-size=\"14.00\">value = 2.914</text>\n",
       "</g>\n",
       "<!-- 13&#45;&gt;15 -->\n",
       "<g id=\"edge15\" class=\"edge\">\n",
       "<title>13&#45;&gt;15</title>\n",
       "<path fill=\"none\" stroke=\"black\" d=\"M1195.41,-88.95C1214.34,-78.84 1235.06,-67.78 1253.64,-57.86\"/>\n",
       "<polygon fill=\"black\" stroke=\"black\" points=\"1255.4,-60.88 1262.58,-53.09 1252.11,-54.71 1255.4,-60.88\"/>\n",
       "</g>\n",
       "<!-- 17 -->\n",
       "<g id=\"node18\" class=\"node\">\n",
       "<title>17</title>\n",
       "<path fill=\"#eda978\" stroke=\"black\" d=\"M1818,-261C1818,-261 1683,-261 1683,-261 1677,-261 1671,-255 1671,-249 1671,-249 1671,-205 1671,-205 1671,-199 1677,-193 1683,-193 1683,-193 1818,-193 1818,-193 1824,-193 1830,-199 1830,-205 1830,-205 1830,-249 1830,-249 1830,-255 1824,-261 1818,-261\"/>\n",
       "<text text-anchor=\"middle\" x=\"1750.5\" y=\"-245.8\" font-family=\"Helvetica,sans-Serif\" font-size=\"14.00\">Price &lt;= 109.5</text>\n",
       "<text text-anchor=\"middle\" x=\"1750.5\" y=\"-230.8\" font-family=\"Helvetica,sans-Serif\" font-size=\"14.00\">squared_error = 4.555</text>\n",
       "<text text-anchor=\"middle\" x=\"1750.5\" y=\"-215.8\" font-family=\"Helvetica,sans-Serif\" font-size=\"14.00\">samples = 53</text>\n",
       "<text text-anchor=\"middle\" x=\"1750.5\" y=\"-200.8\" font-family=\"Helvetica,sans-Serif\" font-size=\"14.00\">value = 10.904</text>\n",
       "</g>\n",
       "<!-- 16&#45;&gt;17 -->\n",
       "<g id=\"edge17\" class=\"edge\">\n",
       "<title>16&#45;&gt;17</title>\n",
       "<path fill=\"none\" stroke=\"black\" d=\"M1750.5,-296.88C1750.5,-288.78 1750.5,-279.98 1750.5,-271.47\"/>\n",
       "<polygon fill=\"black\" stroke=\"black\" points=\"1754,-271.3 1750.5,-261.3 1747,-271.3 1754,-271.3\"/>\n",
       "</g>\n",
       "<!-- 24 -->\n",
       "<g id=\"node25\" class=\"node\">\n",
       "<title>24</title>\n",
       "<path fill=\"#f5cfb3\" stroke=\"black\" d=\"M2339,-261C2339,-261 2204,-261 2204,-261 2198,-261 2192,-255 2192,-249 2192,-249 2192,-205 2192,-205 2192,-199 2198,-193 2204,-193 2204,-193 2339,-193 2339,-193 2345,-193 2351,-199 2351,-205 2351,-205 2351,-249 2351,-249 2351,-255 2345,-261 2339,-261\"/>\n",
       "<text text-anchor=\"middle\" x=\"2271.5\" y=\"-245.8\" font-family=\"Helvetica,sans-Serif\" font-size=\"14.00\">Price &lt;= 160.5</text>\n",
       "<text text-anchor=\"middle\" x=\"2271.5\" y=\"-230.8\" font-family=\"Helvetica,sans-Serif\" font-size=\"14.00\">squared_error = 3.339</text>\n",
       "<text text-anchor=\"middle\" x=\"2271.5\" y=\"-215.8\" font-family=\"Helvetica,sans-Serif\" font-size=\"14.00\">samples = 14</text>\n",
       "<text text-anchor=\"middle\" x=\"2271.5\" y=\"-200.8\" font-family=\"Helvetica,sans-Serif\" font-size=\"14.00\">value = 7.394</text>\n",
       "</g>\n",
       "<!-- 16&#45;&gt;24 -->\n",
       "<g id=\"edge24\" class=\"edge\">\n",
       "<title>16&#45;&gt;24</title>\n",
       "<path fill=\"none\" stroke=\"black\" d=\"M1830.2,-314.4C1925,-295.84 2082.84,-264.93 2181.83,-245.56\"/>\n",
       "<polygon fill=\"black\" stroke=\"black\" points=\"2182.67,-248.96 2191.81,-243.6 2181.33,-242.09 2182.67,-248.96\"/>\n",
       "</g>\n",
       "<!-- 18 -->\n",
       "<g id=\"node19\" class=\"node\">\n",
       "<title>18</title>\n",
       "<path fill=\"#ea9b61\" stroke=\"black\" d=\"M1730,-157C1730,-157 1595,-157 1595,-157 1589,-157 1583,-151 1583,-145 1583,-145 1583,-101 1583,-101 1583,-95 1589,-89 1595,-89 1595,-89 1730,-89 1730,-89 1736,-89 1742,-95 1742,-101 1742,-101 1742,-145 1742,-145 1742,-151 1736,-157 1730,-157\"/>\n",
       "<text text-anchor=\"middle\" x=\"1662.5\" y=\"-141.8\" font-family=\"Helvetica,sans-Serif\" font-size=\"14.00\">Price &lt;= 73.0</text>\n",
       "<text text-anchor=\"middle\" x=\"1662.5\" y=\"-126.8\" font-family=\"Helvetica,sans-Serif\" font-size=\"14.00\">squared_error = 2.386</text>\n",
       "<text text-anchor=\"middle\" x=\"1662.5\" y=\"-111.8\" font-family=\"Helvetica,sans-Serif\" font-size=\"14.00\">samples = 21</text>\n",
       "<text text-anchor=\"middle\" x=\"1662.5\" y=\"-96.8\" font-family=\"Helvetica,sans-Serif\" font-size=\"14.00\">value = 12.241</text>\n",
       "</g>\n",
       "<!-- 17&#45;&gt;18 -->\n",
       "<g id=\"edge18\" class=\"edge\">\n",
       "<title>17&#45;&gt;18</title>\n",
       "<path fill=\"none\" stroke=\"black\" d=\"M1721.93,-192.88C1714.24,-183.98 1705.84,-174.24 1697.84,-164.96\"/>\n",
       "<polygon fill=\"black\" stroke=\"black\" points=\"1700.41,-162.58 1691.23,-157.3 1695.11,-167.16 1700.41,-162.58\"/>\n",
       "</g>\n",
       "<!-- 21 -->\n",
       "<g id=\"node22\" class=\"node\">\n",
       "<title>21</title>\n",
       "<path fill=\"#efb387\" stroke=\"black\" d=\"M1907,-157C1907,-157 1772,-157 1772,-157 1766,-157 1760,-151 1760,-145 1760,-145 1760,-101 1760,-101 1760,-95 1766,-89 1772,-89 1772,-89 1907,-89 1907,-89 1913,-89 1919,-95 1919,-101 1919,-101 1919,-145 1919,-145 1919,-151 1913,-157 1907,-157\"/>\n",
       "<text text-anchor=\"middle\" x=\"1839.5\" y=\"-141.8\" font-family=\"Helvetica,sans-Serif\" font-size=\"14.00\">Advertising &lt;= 10.5</text>\n",
       "<text text-anchor=\"middle\" x=\"1839.5\" y=\"-126.8\" font-family=\"Helvetica,sans-Serif\" font-size=\"14.00\">squared_error = 4.034</text>\n",
       "<text text-anchor=\"middle\" x=\"1839.5\" y=\"-111.8\" font-family=\"Helvetica,sans-Serif\" font-size=\"14.00\">samples = 32</text>\n",
       "<text text-anchor=\"middle\" x=\"1839.5\" y=\"-96.8\" font-family=\"Helvetica,sans-Serif\" font-size=\"14.00\">value = 10.026</text>\n",
       "</g>\n",
       "<!-- 17&#45;&gt;21 -->\n",
       "<g id=\"edge21\" class=\"edge\">\n",
       "<title>17&#45;&gt;21</title>\n",
       "<path fill=\"none\" stroke=\"black\" d=\"M1779.4,-192.88C1787.17,-183.98 1795.67,-174.24 1803.76,-164.96\"/>\n",
       "<polygon fill=\"black\" stroke=\"black\" points=\"1806.51,-167.14 1810.44,-157.3 1801.23,-162.53 1806.51,-167.14\"/>\n",
       "</g>\n",
       "<!-- 19 -->\n",
       "<g id=\"node20\" class=\"node\">\n",
       "<title>19</title>\n",
       "<path fill=\"#e58139\" stroke=\"black\" d=\"M1555,-53C1555,-53 1420,-53 1420,-53 1414,-53 1408,-47 1408,-41 1408,-41 1408,-12 1408,-12 1408,-6 1414,0 1420,0 1420,0 1555,0 1555,0 1561,0 1567,-6 1567,-12 1567,-12 1567,-41 1567,-41 1567,-47 1561,-53 1555,-53\"/>\n",
       "<text text-anchor=\"middle\" x=\"1487.5\" y=\"-37.8\" font-family=\"Helvetica,sans-Serif\" font-size=\"14.00\">squared_error = 0.529</text>\n",
       "<text text-anchor=\"middle\" x=\"1487.5\" y=\"-22.8\" font-family=\"Helvetica,sans-Serif\" font-size=\"14.00\">samples = 3</text>\n",
       "<text text-anchor=\"middle\" x=\"1487.5\" y=\"-7.8\" font-family=\"Helvetica,sans-Serif\" font-size=\"14.00\">value = 14.637</text>\n",
       "</g>\n",
       "<!-- 18&#45;&gt;19 -->\n",
       "<g id=\"edge19\" class=\"edge\">\n",
       "<title>18&#45;&gt;19</title>\n",
       "<path fill=\"none\" stroke=\"black\" d=\"M1601.29,-88.95C1582.57,-78.84 1562.08,-67.78 1543.71,-57.86\"/>\n",
       "<polygon fill=\"black\" stroke=\"black\" points=\"1545.34,-54.76 1534.88,-53.09 1542.02,-60.92 1545.34,-54.76\"/>\n",
       "</g>\n",
       "<!-- 20 -->\n",
       "<g id=\"node21\" class=\"node\">\n",
       "<title>20</title>\n",
       "<path fill=\"#eb9f68\" stroke=\"black\" d=\"M1732,-53C1732,-53 1597,-53 1597,-53 1591,-53 1585,-47 1585,-41 1585,-41 1585,-12 1585,-12 1585,-6 1591,0 1597,0 1597,0 1732,0 1732,0 1738,0 1744,-6 1744,-12 1744,-12 1744,-41 1744,-41 1744,-47 1738,-53 1732,-53\"/>\n",
       "<text text-anchor=\"middle\" x=\"1664.5\" y=\"-37.8\" font-family=\"Helvetica,sans-Serif\" font-size=\"14.00\">squared_error = 1.579</text>\n",
       "<text text-anchor=\"middle\" x=\"1664.5\" y=\"-22.8\" font-family=\"Helvetica,sans-Serif\" font-size=\"14.00\">samples = 18</text>\n",
       "<text text-anchor=\"middle\" x=\"1664.5\" y=\"-7.8\" font-family=\"Helvetica,sans-Serif\" font-size=\"14.00\">value = 11.842</text>\n",
       "</g>\n",
       "<!-- 18&#45;&gt;20 -->\n",
       "<g id=\"edge20\" class=\"edge\">\n",
       "<title>18&#45;&gt;20</title>\n",
       "<path fill=\"none\" stroke=\"black\" d=\"M1663.2,-88.95C1663.37,-80.72 1663.56,-71.85 1663.74,-63.48\"/>\n",
       "<polygon fill=\"black\" stroke=\"black\" points=\"1667.24,-63.31 1663.96,-53.24 1660.24,-63.16 1667.24,-63.31\"/>\n",
       "</g>\n",
       "<!-- 22 -->\n",
       "<g id=\"node23\" class=\"node\">\n",
       "<title>22</title>\n",
       "<path fill=\"#f1bd97\" stroke=\"black\" d=\"M1901,-53C1901,-53 1774,-53 1774,-53 1768,-53 1762,-47 1762,-41 1762,-41 1762,-12 1762,-12 1762,-6 1768,0 1774,0 1774,0 1901,0 1901,0 1907,0 1913,-6 1913,-12 1913,-12 1913,-41 1913,-41 1913,-47 1907,-53 1901,-53\"/>\n",
       "<text text-anchor=\"middle\" x=\"1837.5\" y=\"-37.8\" font-family=\"Helvetica,sans-Serif\" font-size=\"14.00\">squared_error = 2.96</text>\n",
       "<text text-anchor=\"middle\" x=\"1837.5\" y=\"-22.8\" font-family=\"Helvetica,sans-Serif\" font-size=\"14.00\">samples = 20</text>\n",
       "<text text-anchor=\"middle\" x=\"1837.5\" y=\"-7.8\" font-family=\"Helvetica,sans-Serif\" font-size=\"14.00\">value = 9.081</text>\n",
       "</g>\n",
       "<!-- 21&#45;&gt;22 -->\n",
       "<g id=\"edge22\" class=\"edge\">\n",
       "<title>21&#45;&gt;22</title>\n",
       "<path fill=\"none\" stroke=\"black\" d=\"M1838.8,-88.95C1838.63,-80.72 1838.44,-71.85 1838.26,-63.48\"/>\n",
       "<polygon fill=\"black\" stroke=\"black\" points=\"1841.76,-63.16 1838.04,-53.24 1834.76,-63.31 1841.76,-63.16\"/>\n",
       "</g>\n",
       "<!-- 23 -->\n",
       "<g id=\"node24\" class=\"node\">\n",
       "<title>23</title>\n",
       "<path fill=\"#eca26c\" stroke=\"black\" d=\"M2078,-53C2078,-53 1943,-53 1943,-53 1937,-53 1931,-47 1931,-41 1931,-41 1931,-12 1931,-12 1931,-6 1937,0 1943,0 1943,0 2078,0 2078,0 2084,0 2090,-6 2090,-12 2090,-12 2090,-41 2090,-41 2090,-47 2084,-53 2078,-53\"/>\n",
       "<text text-anchor=\"middle\" x=\"2010.5\" y=\"-37.8\" font-family=\"Helvetica,sans-Serif\" font-size=\"14.00\">squared_error = 1.856</text>\n",
       "<text text-anchor=\"middle\" x=\"2010.5\" y=\"-22.8\" font-family=\"Helvetica,sans-Serif\" font-size=\"14.00\">samples = 12</text>\n",
       "<text text-anchor=\"middle\" x=\"2010.5\" y=\"-7.8\" font-family=\"Helvetica,sans-Serif\" font-size=\"14.00\">value = 11.601</text>\n",
       "</g>\n",
       "<!-- 21&#45;&gt;23 -->\n",
       "<g id=\"edge23\" class=\"edge\">\n",
       "<title>21&#45;&gt;23</title>\n",
       "<path fill=\"none\" stroke=\"black\" d=\"M1899.31,-88.95C1917.43,-78.93 1937.26,-67.98 1955.08,-58.13\"/>\n",
       "<polygon fill=\"black\" stroke=\"black\" points=\"1957.14,-60.99 1964.2,-53.09 1953.75,-54.86 1957.14,-60.99\"/>\n",
       "</g>\n",
       "<!-- 25 -->\n",
       "<g id=\"node26\" class=\"node\">\n",
       "<title>25</title>\n",
       "<path fill=\"#f4cbad\" stroke=\"black\" d=\"M2339,-157C2339,-157 2204,-157 2204,-157 2198,-157 2192,-151 2192,-145 2192,-145 2192,-101 2192,-101 2192,-95 2198,-89 2204,-89 2204,-89 2339,-89 2339,-89 2345,-89 2351,-95 2351,-101 2351,-101 2351,-145 2351,-145 2351,-151 2345,-157 2339,-157\"/>\n",
       "<text text-anchor=\"middle\" x=\"2271.5\" y=\"-141.8\" font-family=\"Helvetica,sans-Serif\" font-size=\"14.00\">CompPrice &lt;= 123.0</text>\n",
       "<text text-anchor=\"middle\" x=\"2271.5\" y=\"-126.8\" font-family=\"Helvetica,sans-Serif\" font-size=\"14.00\">squared_error = 2.438</text>\n",
       "<text text-anchor=\"middle\" x=\"2271.5\" y=\"-111.8\" font-family=\"Helvetica,sans-Serif\" font-size=\"14.00\">samples = 12</text>\n",
       "<text text-anchor=\"middle\" x=\"2271.5\" y=\"-96.8\" font-family=\"Helvetica,sans-Serif\" font-size=\"14.00\">value = 7.796</text>\n",
       "</g>\n",
       "<!-- 24&#45;&gt;25 -->\n",
       "<g id=\"edge25\" class=\"edge\">\n",
       "<title>24&#45;&gt;25</title>\n",
       "<path fill=\"none\" stroke=\"black\" d=\"M2271.5,-192.88C2271.5,-184.78 2271.5,-175.98 2271.5,-167.47\"/>\n",
       "<polygon fill=\"black\" stroke=\"black\" points=\"2275,-167.3 2271.5,-157.3 2268,-167.3 2275,-167.3\"/>\n",
       "</g>\n",
       "<!-- 28 -->\n",
       "<g id=\"node29\" class=\"node\">\n",
       "<title>28</title>\n",
       "<path fill=\"#fae9dc\" stroke=\"black\" d=\"M2601,-157C2601,-157 2466,-157 2466,-157 2460,-157 2454,-151 2454,-145 2454,-145 2454,-101 2454,-101 2454,-95 2460,-89 2466,-89 2466,-89 2601,-89 2601,-89 2607,-89 2613,-95 2613,-101 2613,-101 2613,-145 2613,-145 2613,-151 2607,-157 2601,-157\"/>\n",
       "<text text-anchor=\"middle\" x=\"2533.5\" y=\"-141.8\" font-family=\"Helvetica,sans-Serif\" font-size=\"14.00\">US_No &lt;= 0.5</text>\n",
       "<text text-anchor=\"middle\" x=\"2533.5\" y=\"-126.8\" font-family=\"Helvetica,sans-Serif\" font-size=\"14.00\">squared_error = 1.974</text>\n",
       "<text text-anchor=\"middle\" x=\"2533.5\" y=\"-111.8\" font-family=\"Helvetica,sans-Serif\" font-size=\"14.00\">samples = 2</text>\n",
       "<text text-anchor=\"middle\" x=\"2533.5\" y=\"-96.8\" font-family=\"Helvetica,sans-Serif\" font-size=\"14.00\">value = 4.985</text>\n",
       "</g>\n",
       "<!-- 24&#45;&gt;28 -->\n",
       "<g id=\"edge28\" class=\"edge\">\n",
       "<title>24&#45;&gt;28</title>\n",
       "<path fill=\"none\" stroke=\"black\" d=\"M2351.18,-194.98C2380.52,-183.56 2413.94,-170.55 2444.09,-158.81\"/>\n",
       "<polygon fill=\"black\" stroke=\"black\" points=\"2445.7,-161.94 2453.75,-155.05 2443.16,-155.41 2445.7,-161.94\"/>\n",
       "</g>\n",
       "<!-- 26 -->\n",
       "<g id=\"node27\" class=\"node\">\n",
       "<title>26</title>\n",
       "<path fill=\"#f8ddca\" stroke=\"black\" d=\"M2255,-53C2255,-53 2120,-53 2120,-53 2114,-53 2108,-47 2108,-41 2108,-41 2108,-12 2108,-12 2108,-6 2114,0 2120,0 2120,0 2255,0 2255,0 2261,0 2267,-6 2267,-12 2267,-12 2267,-41 2267,-41 2267,-47 2261,-53 2255,-53\"/>\n",
       "<text text-anchor=\"middle\" x=\"2187.5\" y=\"-37.8\" font-family=\"Helvetica,sans-Serif\" font-size=\"14.00\">squared_error = 0.976</text>\n",
       "<text text-anchor=\"middle\" x=\"2187.5\" y=\"-22.8\" font-family=\"Helvetica,sans-Serif\" font-size=\"14.00\">samples = 3</text>\n",
       "<text text-anchor=\"middle\" x=\"2187.5\" y=\"-7.8\" font-family=\"Helvetica,sans-Serif\" font-size=\"14.00\">value = 6.077</text>\n",
       "</g>\n",
       "<!-- 25&#45;&gt;26 -->\n",
       "<g id=\"edge26\" class=\"edge\">\n",
       "<title>25&#45;&gt;26</title>\n",
       "<path fill=\"none\" stroke=\"black\" d=\"M2242.12,-88.95C2233.99,-79.8 2225.16,-69.87 2217.02,-60.71\"/>\n",
       "<polygon fill=\"black\" stroke=\"black\" points=\"2219.64,-58.39 2210.38,-53.24 2214.4,-63.04 2219.64,-58.39\"/>\n",
       "</g>\n",
       "<!-- 27 -->\n",
       "<g id=\"node28\" class=\"node\">\n",
       "<title>27</title>\n",
       "<path fill=\"#f3c4a3\" stroke=\"black\" d=\"M2432,-53C2432,-53 2297,-53 2297,-53 2291,-53 2285,-47 2285,-41 2285,-41 2285,-12 2285,-12 2285,-6 2291,0 2297,0 2297,0 2432,0 2432,0 2438,0 2444,-6 2444,-12 2444,-12 2444,-41 2444,-41 2444,-47 2438,-53 2432,-53\"/>\n",
       "<text text-anchor=\"middle\" x=\"2364.5\" y=\"-37.8\" font-family=\"Helvetica,sans-Serif\" font-size=\"14.00\">squared_error = 1.611</text>\n",
       "<text text-anchor=\"middle\" x=\"2364.5\" y=\"-22.8\" font-family=\"Helvetica,sans-Serif\" font-size=\"14.00\">samples = 9</text>\n",
       "<text text-anchor=\"middle\" x=\"2364.5\" y=\"-7.8\" font-family=\"Helvetica,sans-Serif\" font-size=\"14.00\">value = 8.369</text>\n",
       "</g>\n",
       "<!-- 25&#45;&gt;27 -->\n",
       "<g id=\"edge27\" class=\"edge\">\n",
       "<title>25&#45;&gt;27</title>\n",
       "<path fill=\"none\" stroke=\"black\" d=\"M2304.03,-88.95C2313.12,-79.71 2323,-69.67 2332.08,-60.44\"/>\n",
       "<polygon fill=\"black\" stroke=\"black\" points=\"2334.65,-62.82 2339.17,-53.24 2329.66,-57.91 2334.65,-62.82\"/>\n",
       "</g>\n",
       "<!-- 29 -->\n",
       "<g id=\"node30\" class=\"node\">\n",
       "<title>29</title>\n",
       "<path fill=\"#f7dac4\" stroke=\"black\" d=\"M2593,-53C2593,-53 2474,-53 2474,-53 2468,-53 2462,-47 2462,-41 2462,-41 2462,-12 2462,-12 2462,-6 2468,0 2474,0 2474,0 2593,0 2593,0 2599,0 2605,-6 2605,-12 2605,-12 2605,-41 2605,-41 2605,-47 2599,-53 2593,-53\"/>\n",
       "<text text-anchor=\"middle\" x=\"2533.5\" y=\"-37.8\" font-family=\"Helvetica,sans-Serif\" font-size=\"14.00\">squared_error = 0.0</text>\n",
       "<text text-anchor=\"middle\" x=\"2533.5\" y=\"-22.8\" font-family=\"Helvetica,sans-Serif\" font-size=\"14.00\">samples = 1</text>\n",
       "<text text-anchor=\"middle\" x=\"2533.5\" y=\"-7.8\" font-family=\"Helvetica,sans-Serif\" font-size=\"14.00\">value = 6.39</text>\n",
       "</g>\n",
       "<!-- 28&#45;&gt;29 -->\n",
       "<g id=\"edge29\" class=\"edge\">\n",
       "<title>28&#45;&gt;29</title>\n",
       "<path fill=\"none\" stroke=\"black\" d=\"M2533.5,-88.95C2533.5,-80.72 2533.5,-71.85 2533.5,-63.48\"/>\n",
       "<polygon fill=\"black\" stroke=\"black\" points=\"2537,-63.24 2533.5,-53.24 2530,-63.24 2537,-63.24\"/>\n",
       "</g>\n",
       "<!-- 30 -->\n",
       "<g id=\"node31\" class=\"node\">\n",
       "<title>30</title>\n",
       "<path fill=\"#fef8f4\" stroke=\"black\" d=\"M2754,-53C2754,-53 2635,-53 2635,-53 2629,-53 2623,-47 2623,-41 2623,-41 2623,-12 2623,-12 2623,-6 2629,0 2635,0 2635,0 2754,0 2754,0 2760,0 2766,-6 2766,-12 2766,-12 2766,-41 2766,-41 2766,-47 2760,-53 2754,-53\"/>\n",
       "<text text-anchor=\"middle\" x=\"2694.5\" y=\"-37.8\" font-family=\"Helvetica,sans-Serif\" font-size=\"14.00\">squared_error = 0.0</text>\n",
       "<text text-anchor=\"middle\" x=\"2694.5\" y=\"-22.8\" font-family=\"Helvetica,sans-Serif\" font-size=\"14.00\">samples = 1</text>\n",
       "<text text-anchor=\"middle\" x=\"2694.5\" y=\"-7.8\" font-family=\"Helvetica,sans-Serif\" font-size=\"14.00\">value = 3.58</text>\n",
       "</g>\n",
       "<!-- 28&#45;&gt;30 -->\n",
       "<g id=\"edge30\" class=\"edge\">\n",
       "<title>28&#45;&gt;30</title>\n",
       "<path fill=\"none\" stroke=\"black\" d=\"M2589.81,-88.95C2606.72,-79.02 2625.2,-68.18 2641.86,-58.4\"/>\n",
       "<polygon fill=\"black\" stroke=\"black\" points=\"2644.06,-61.17 2650.91,-53.09 2640.51,-55.13 2644.06,-61.17\"/>\n",
       "</g>\n",
       "</g>\n",
       "</svg>\n"
      ],
      "text/plain": [
       "<graphviz.sources.Source at 0x20846e7abf0>"
      ]
     },
     "execution_count": 14,
     "metadata": {},
     "output_type": "execute_result"
    }
   ],
   "source": [
    "# Plot Tree\n",
    "tree_carseats_graph = export_graphviz(tree, \n",
    "                                    out_file = None, \n",
    "                                    feature_names = X_train_prep.columns,\n",
    "                                    filled = True, \n",
    "                                    rounded = True)\n",
    "\n",
    "Source(tree_carseats_graph)"
   ]
  },
  {
   "cell_type": "code",
   "execution_count": 15,
   "id": "fafd47a0",
   "metadata": {},
   "outputs": [
    {
     "name": "stdout",
     "output_type": "stream",
     "text": [
      "The MSE for the Tree is: 5.083336883118051\n"
     ]
    }
   ],
   "source": [
    "print(\"The MSE for the Tree is:\", mean_squared_error(y_test, tree.predict(X_test_prep)))"
   ]
  },
  {
   "cell_type": "markdown",
   "id": "4b161448",
   "metadata": {},
   "source": [
    "**c) Use cross-validation in order to determine the optimal level of tree complexity. Does pruning the tree improve the test MSE?**"
   ]
  },
  {
   "cell_type": "code",
   "execution_count": 16,
   "id": "e7fdcc55",
   "metadata": {},
   "outputs": [
    {
     "data": {
      "text/plain": [
       "GridSearchCV(cv=10,\n",
       "             estimator=DecisionTreeRegressor(max_depth=4, random_state=123),\n",
       "             param_grid={'ccp_alpha': array([0.        , 0.01316017, 0.03940712, 0.04514734, 0.0587099 ,\n",
       "       0.06696021, 0.09774434, 0.158739  , 0.18635873, 0.20736022,\n",
       "       0.22262213, 0.28355556, 0.4017756 , 0.45462011, 0.76633803,\n",
       "       2.28333469])},\n",
       "             scoring='neg_mean_squared_error')"
      ]
     },
     "execution_count": 16,
     "metadata": {},
     "output_type": "execute_result"
    }
   ],
   "source": [
    "# Base Estimator for Cross Validation\n",
    "tree_base_model = DecisionTreeRegressor(max_depth = 4, random_state = 123)\n",
    "\n",
    "# Alphas(ccp_alpha)\n",
    "alphas_grid = tree_base_model.cost_complexity_pruning_path(X_train_prep, y_train)[\"ccp_alphas\"]\n",
    "\n",
    "# Cross Validation\n",
    "tree_grid = GridSearchCV(estimator = tree_base_model,\n",
    "                         param_grid = {\"ccp_alpha\": alphas_grid},\n",
    "                         scoring = \"neg_mean_squared_error\",\n",
    "                         cv = 10,\n",
    "                         refit = True)\n",
    "\n",
    "tree_grid.fit(X_train_prep, y_train)"
   ]
  },
  {
   "cell_type": "markdown",
   "id": "664ef342",
   "metadata": {},
   "source": [
    "In this case the pruning has improved the model."
   ]
  },
  {
   "cell_type": "code",
   "execution_count": 17,
   "id": "cb6d084d",
   "metadata": {},
   "outputs": [
    {
     "name": "stdout",
     "output_type": "stream",
     "text": [
      "The MSE for the Pruned Tree is: 4.765975463635032\n"
     ]
    }
   ],
   "source": [
    "tree_best = tree_grid.best_estimator_\n",
    "print(\"The MSE for the Pruned Tree is:\", mean_squared_error(y_test, tree_best.predict(X_test_prep)))"
   ]
  },
  {
   "cell_type": "markdown",
   "id": "ffbb9744",
   "metadata": {},
   "source": [
    "**d) Use the bagging approach in order to analyze this data. What test MSE do you obtain? Use the importance() function to determine which variables are most important.**"
   ]
  },
  {
   "cell_type": "code",
   "execution_count": 18,
   "id": "abc4c1c8",
   "metadata": {},
   "outputs": [
    {
     "data": {
      "text/plain": [
       "RandomForestRegressor(max_features=14, random_state=123)"
      ]
     },
     "execution_count": 18,
     "metadata": {},
     "output_type": "execute_result"
    }
   ],
   "source": [
    "# Fit Bagged Tree\n",
    "n_features = X_train_prep.shape[1]\n",
    "\n",
    "bag = RandomForestRegressor(max_features = n_features, random_state = 123)\n",
    "bag.fit(X_train_prep, y_train)"
   ]
  },
  {
   "cell_type": "code",
   "execution_count": 19,
   "id": "4cb5a479",
   "metadata": {},
   "outputs": [
    {
     "name": "stdout",
     "output_type": "stream",
     "text": [
      "The MSE for the Bagged Tree is: 2.7690087767999985\n"
     ]
    }
   ],
   "source": [
    "print(\"The MSE for the Bagged Tree is:\", mean_squared_error(y_test, bag.predict(X_test_prep)))"
   ]
  },
  {
   "cell_type": "markdown",
   "id": "c095f9ce",
   "metadata": {},
   "source": [
    "The two most important variables are *ShelveLoc_Good* and *Price*."
   ]
  },
  {
   "cell_type": "code",
   "execution_count": 20,
   "id": "a72f3d51",
   "metadata": {},
   "outputs": [
    {
     "data": {
      "image/png": "[encoded data removed]",
      "text/plain": [
       "<Figure size 720x504 with 1 Axes>"
      ]
     },
     "metadata": {},
     "output_type": "display_data"
    }
   ],
   "source": [
    "plot_importances(X_train_prep.columns, bag.feature_importances_)"
   ]
  },
  {
   "cell_type": "markdown",
   "id": "54aceb78",
   "metadata": {},
   "source": [
    "**e) Use random forests to analyze this data. What test MSE do you obtain? Use the importance() function to determine which variables are most important. Describe the effect of m, the number of variables considered at each split, on the error rate obtained.**"
   ]
  },
  {
   "cell_type": "code",
   "execution_count": 21,
   "id": "3086e032",
   "metadata": {},
   "outputs": [
    {
     "data": {
      "text/plain": [
       "RandomForestRegressor(max_features=4, random_state=123)"
      ]
     },
     "execution_count": 21,
     "metadata": {},
     "output_type": "execute_result"
    }
   ],
   "source": [
    "# We choose this value of m for regression\n",
    "m = int(n_features/3)\n",
    "forest = RandomForestRegressor(max_features = m, random_state = 123)\n",
    "forest.fit(X_train_prep, y_train)"
   ]
  },
  {
   "cell_type": "markdown",
   "id": "9e12608b",
   "metadata": {},
   "source": [
    "In this case the model doesn´t improve respect to the bagged model. In this case the effect of m this process as decorrelating\n",
    "the trees."
   ]
  },
  {
   "cell_type": "code",
   "execution_count": 22,
   "id": "6623a48c",
   "metadata": {},
   "outputs": [
    {
     "name": "stdout",
     "output_type": "stream",
     "text": [
      "p/3 =  4\n",
      "The MSE for the Random Forest is: 3.2484184630000006\n"
     ]
    }
   ],
   "source": [
    "print(\"p/3 = \", m)\n",
    "print(\"The MSE for the Random Forest is:\", mean_squared_error(y_test, forest.predict(X_test_prep)))"
   ]
  },
  {
   "cell_type": "code",
   "execution_count": 23,
   "id": "b149c722",
   "metadata": {},
   "outputs": [
    {
     "data": {
      "image/png": "[encoded data removed]",
      "text/plain": [
       "<Figure size 720x504 with 1 Axes>"
      ]
     },
     "metadata": {},
     "output_type": "display_data"
    }
   ],
   "source": [
    "# Plot Feature Importances\n",
    "plot_importances(X_train_prep.columns, forest.feature_importances_)"
   ]
  },
  {
   "cell_type": "markdown",
   "id": "6f209cd6",
   "metadata": {},
   "source": [
    "**f) Now analyze the data using BART, and report your results.**"
   ]
  },
  {
   "cell_type": "markdown",
   "id": "c7b2e6ea",
   "metadata": {},
   "source": [
    "We do not have implemented BART in scikit-learn."
   ]
  },
  {
   "cell_type": "markdown",
   "id": "27a7348a",
   "metadata": {},
   "source": [
    "### Exercise 9\n",
    "\n",
    "This problem involves the OJ data set which is part of the ISLR2\n",
    "package."
   ]
  },
  {
   "cell_type": "markdown",
   "id": "0e9b9d4c",
   "metadata": {},
   "source": [
    "    a) Create a training set containing a random sample of 800 observations, and a test set containing the remaining observations.\n",
    "    b) Fit a tree to the training data, with Purchase as the response and the other variables as predictors. Use the summary() function to produce summary statistics about the tree, and describe the results obtained. What is the training error rate? How many terminal nodes does the tree have?\n",
    "    c) Type in the name of the tree object in order to get a detailed text output. Pick one of the terminal nodes, and interpret the information displayed.\n",
    "    d) Create a plot of the tree, and interpret the results.\n",
    "    e) Predict the response on the test data, and produce a confusion matrix comparing the test labels to the predicted test labels. What is the test error rate?\n",
    "    f) Apply the cv.tree() function to the training set in order to determine the optimal tree size.\n",
    "    g) Produce a plot with tree size on the x-axis and cross-validated classification error rate on the y-axis.\n",
    "    h) Which tree size corresponds to the lowest cross-validated classification error rate?\n",
    "    i) Produce a pruned tree corresponding to the optimal tree size obtained using cross-validation. If cross-validation does not lead to selection of a pruned tree, then create a pruned tree with five terminal nodes.\n",
    "    j) Compare the training error rates between the pruned and unpruned trees. Which is higher?\n",
    "    k) Compare the test error rates between the pruned and unpruned trees. Which is higher?"
   ]
  },
  {
   "cell_type": "markdown",
   "id": "837314a9",
   "metadata": {},
   "source": [
    "### Solution 9"
   ]
  },
  {
   "cell_type": "code",
   "execution_count": 24,
   "id": "2477da98",
   "metadata": {},
   "outputs": [],
   "source": [
    "import numpy as np\n",
    "import pandas as pd\n",
    "import matplotlib.pyplot as plt\n",
    "from sklearn.model_selection import train_test_split, GridSearchCV\n",
    "from sklearn.tree import DecisionTreeClassifier, export_graphviz, export_text\n",
    "from sklearn.metrics import accuracy_score, confusion_matrix\n",
    "from graphviz import Source"
   ]
  },
  {
   "cell_type": "code",
   "execution_count": 25,
   "id": "4030fcb8",
   "metadata": {},
   "outputs": [
    {
     "data": {
      "text/html": [
       "<div>\n",
       "<style scoped>\n",
       "    .dataframe tbody tr th:only-of-type {\n",
       "        vertical-align: middle;\n",
       "    }\n",
       "\n",
       "    .dataframe tbody tr th {\n",
       "        vertical-align: top;\n",
       "    }\n",
       "\n",
       "    .dataframe thead th {\n",
       "        text-align: right;\n",
       "    }\n",
       "</style>\n",
       "<table border=\"1\" class=\"dataframe\">\n",
       "  <thead>\n",
       "    <tr style=\"text-align: right;\">\n",
       "      <th></th>\n",
       "      <th>Purchase</th>\n",
       "      <th>WeekofPurchase</th>\n",
       "      <th>StoreID</th>\n",
       "      <th>PriceCH</th>\n",
       "      <th>PriceMM</th>\n",
       "      <th>DiscCH</th>\n",
       "      <th>DiscMM</th>\n",
       "      <th>SpecialCH</th>\n",
       "      <th>SpecialMM</th>\n",
       "      <th>LoyalCH</th>\n",
       "      <th>SalePriceMM</th>\n",
       "      <th>SalePriceCH</th>\n",
       "      <th>PriceDiff</th>\n",
       "      <th>Store7</th>\n",
       "      <th>PctDiscMM</th>\n",
       "      <th>PctDiscCH</th>\n",
       "      <th>ListPriceDiff</th>\n",
       "      <th>STORE</th>\n",
       "    </tr>\n",
       "  </thead>\n",
       "  <tbody>\n",
       "    <tr>\n",
       "      <th>0</th>\n",
       "      <td>CH</td>\n",
       "      <td>237</td>\n",
       "      <td>1</td>\n",
       "      <td>1.75</td>\n",
       "      <td>1.99</td>\n",
       "      <td>0.00</td>\n",
       "      <td>0.00</td>\n",
       "      <td>0</td>\n",
       "      <td>0</td>\n",
       "      <td>0.500000</td>\n",
       "      <td>1.99</td>\n",
       "      <td>1.75</td>\n",
       "      <td>0.24</td>\n",
       "      <td>No</td>\n",
       "      <td>0.000000</td>\n",
       "      <td>0.000000</td>\n",
       "      <td>0.24</td>\n",
       "      <td>1</td>\n",
       "    </tr>\n",
       "    <tr>\n",
       "      <th>1</th>\n",
       "      <td>CH</td>\n",
       "      <td>239</td>\n",
       "      <td>1</td>\n",
       "      <td>1.75</td>\n",
       "      <td>1.99</td>\n",
       "      <td>0.00</td>\n",
       "      <td>0.30</td>\n",
       "      <td>0</td>\n",
       "      <td>1</td>\n",
       "      <td>0.600000</td>\n",
       "      <td>1.69</td>\n",
       "      <td>1.75</td>\n",
       "      <td>-0.06</td>\n",
       "      <td>No</td>\n",
       "      <td>0.150754</td>\n",
       "      <td>0.000000</td>\n",
       "      <td>0.24</td>\n",
       "      <td>1</td>\n",
       "    </tr>\n",
       "    <tr>\n",
       "      <th>2</th>\n",
       "      <td>CH</td>\n",
       "      <td>245</td>\n",
       "      <td>1</td>\n",
       "      <td>1.86</td>\n",
       "      <td>2.09</td>\n",
       "      <td>0.17</td>\n",
       "      <td>0.00</td>\n",
       "      <td>0</td>\n",
       "      <td>0</td>\n",
       "      <td>0.680000</td>\n",
       "      <td>2.09</td>\n",
       "      <td>1.69</td>\n",
       "      <td>0.40</td>\n",
       "      <td>No</td>\n",
       "      <td>0.000000</td>\n",
       "      <td>0.091398</td>\n",
       "      <td>0.23</td>\n",
       "      <td>1</td>\n",
       "    </tr>\n",
       "    <tr>\n",
       "      <th>3</th>\n",
       "      <td>MM</td>\n",
       "      <td>227</td>\n",
       "      <td>1</td>\n",
       "      <td>1.69</td>\n",
       "      <td>1.69</td>\n",
       "      <td>0.00</td>\n",
       "      <td>0.00</td>\n",
       "      <td>0</td>\n",
       "      <td>0</td>\n",
       "      <td>0.400000</td>\n",
       "      <td>1.69</td>\n",
       "      <td>1.69</td>\n",
       "      <td>0.00</td>\n",
       "      <td>No</td>\n",
       "      <td>0.000000</td>\n",
       "      <td>0.000000</td>\n",
       "      <td>0.00</td>\n",
       "      <td>1</td>\n",
       "    </tr>\n",
       "    <tr>\n",
       "      <th>4</th>\n",
       "      <td>CH</td>\n",
       "      <td>228</td>\n",
       "      <td>7</td>\n",
       "      <td>1.69</td>\n",
       "      <td>1.69</td>\n",
       "      <td>0.00</td>\n",
       "      <td>0.00</td>\n",
       "      <td>0</td>\n",
       "      <td>0</td>\n",
       "      <td>0.956535</td>\n",
       "      <td>1.69</td>\n",
       "      <td>1.69</td>\n",
       "      <td>0.00</td>\n",
       "      <td>Yes</td>\n",
       "      <td>0.000000</td>\n",
       "      <td>0.000000</td>\n",
       "      <td>0.00</td>\n",
       "      <td>0</td>\n",
       "    </tr>\n",
       "    <tr>\n",
       "      <th>...</th>\n",
       "      <td>...</td>\n",
       "      <td>...</td>\n",
       "      <td>...</td>\n",
       "      <td>...</td>\n",
       "      <td>...</td>\n",
       "      <td>...</td>\n",
       "      <td>...</td>\n",
       "      <td>...</td>\n",
       "      <td>...</td>\n",
       "      <td>...</td>\n",
       "      <td>...</td>\n",
       "      <td>...</td>\n",
       "      <td>...</td>\n",
       "      <td>...</td>\n",
       "      <td>...</td>\n",
       "      <td>...</td>\n",
       "      <td>...</td>\n",
       "      <td>...</td>\n",
       "    </tr>\n",
       "    <tr>\n",
       "      <th>1065</th>\n",
       "      <td>CH</td>\n",
       "      <td>252</td>\n",
       "      <td>7</td>\n",
       "      <td>1.86</td>\n",
       "      <td>2.09</td>\n",
       "      <td>0.10</td>\n",
       "      <td>0.00</td>\n",
       "      <td>0</td>\n",
       "      <td>0</td>\n",
       "      <td>0.587822</td>\n",
       "      <td>2.09</td>\n",
       "      <td>1.76</td>\n",
       "      <td>0.33</td>\n",
       "      <td>Yes</td>\n",
       "      <td>0.000000</td>\n",
       "      <td>0.053763</td>\n",
       "      <td>0.23</td>\n",
       "      <td>0</td>\n",
       "    </tr>\n",
       "    <tr>\n",
       "      <th>1066</th>\n",
       "      <td>CH</td>\n",
       "      <td>256</td>\n",
       "      <td>7</td>\n",
       "      <td>1.86</td>\n",
       "      <td>2.18</td>\n",
       "      <td>0.00</td>\n",
       "      <td>0.00</td>\n",
       "      <td>0</td>\n",
       "      <td>0</td>\n",
       "      <td>0.670258</td>\n",
       "      <td>2.18</td>\n",
       "      <td>1.86</td>\n",
       "      <td>0.32</td>\n",
       "      <td>Yes</td>\n",
       "      <td>0.000000</td>\n",
       "      <td>0.000000</td>\n",
       "      <td>0.32</td>\n",
       "      <td>0</td>\n",
       "    </tr>\n",
       "    <tr>\n",
       "      <th>1067</th>\n",
       "      <td>MM</td>\n",
       "      <td>257</td>\n",
       "      <td>7</td>\n",
       "      <td>1.86</td>\n",
       "      <td>2.18</td>\n",
       "      <td>0.00</td>\n",
       "      <td>0.00</td>\n",
       "      <td>0</td>\n",
       "      <td>0</td>\n",
       "      <td>0.736206</td>\n",
       "      <td>2.18</td>\n",
       "      <td>1.86</td>\n",
       "      <td>0.32</td>\n",
       "      <td>Yes</td>\n",
       "      <td>0.000000</td>\n",
       "      <td>0.000000</td>\n",
       "      <td>0.32</td>\n",
       "      <td>0</td>\n",
       "    </tr>\n",
       "    <tr>\n",
       "      <th>1068</th>\n",
       "      <td>CH</td>\n",
       "      <td>261</td>\n",
       "      <td>7</td>\n",
       "      <td>1.86</td>\n",
       "      <td>2.13</td>\n",
       "      <td>0.00</td>\n",
       "      <td>0.24</td>\n",
       "      <td>0</td>\n",
       "      <td>0</td>\n",
       "      <td>0.588965</td>\n",
       "      <td>1.89</td>\n",
       "      <td>1.86</td>\n",
       "      <td>0.03</td>\n",
       "      <td>Yes</td>\n",
       "      <td>0.112676</td>\n",
       "      <td>0.000000</td>\n",
       "      <td>0.27</td>\n",
       "      <td>0</td>\n",
       "    </tr>\n",
       "    <tr>\n",
       "      <th>1069</th>\n",
       "      <td>CH</td>\n",
       "      <td>270</td>\n",
       "      <td>1</td>\n",
       "      <td>1.86</td>\n",
       "      <td>2.18</td>\n",
       "      <td>0.00</td>\n",
       "      <td>0.00</td>\n",
       "      <td>0</td>\n",
       "      <td>0</td>\n",
       "      <td>0.671172</td>\n",
       "      <td>2.18</td>\n",
       "      <td>1.86</td>\n",
       "      <td>0.32</td>\n",
       "      <td>No</td>\n",
       "      <td>0.000000</td>\n",
       "      <td>0.000000</td>\n",
       "      <td>0.32</td>\n",
       "      <td>1</td>\n",
       "    </tr>\n",
       "  </tbody>\n",
       "</table>\n",
       "<p>1070 rows × 18 columns</p>\n",
       "</div>"
      ],
      "text/plain": [
       "     Purchase  WeekofPurchase  StoreID  PriceCH  PriceMM  DiscCH  DiscMM  \\\n",
       "0          CH             237        1     1.75     1.99    0.00    0.00   \n",
       "1          CH             239        1     1.75     1.99    0.00    0.30   \n",
       "2          CH             245        1     1.86     2.09    0.17    0.00   \n",
       "3          MM             227        1     1.69     1.69    0.00    0.00   \n",
       "4          CH             228        7     1.69     1.69    0.00    0.00   \n",
       "...       ...             ...      ...      ...      ...     ...     ...   \n",
       "1065       CH             252        7     1.86     2.09    0.10    0.00   \n",
       "1066       CH             256        7     1.86     2.18    0.00    0.00   \n",
       "1067       MM             257        7     1.86     2.18    0.00    0.00   \n",
       "1068       CH             261        7     1.86     2.13    0.00    0.24   \n",
       "1069       CH             270        1     1.86     2.18    0.00    0.00   \n",
       "\n",
       "      SpecialCH  SpecialMM   LoyalCH  SalePriceMM  SalePriceCH  PriceDiff  \\\n",
       "0             0          0  0.500000         1.99         1.75       0.24   \n",
       "1             0          1  0.600000         1.69         1.75      -0.06   \n",
       "2             0          0  0.680000         2.09         1.69       0.40   \n",
       "3             0          0  0.400000         1.69         1.69       0.00   \n",
       "4             0          0  0.956535         1.69         1.69       0.00   \n",
       "...         ...        ...       ...          ...          ...        ...   \n",
       "1065          0          0  0.587822         2.09         1.76       0.33   \n",
       "1066          0          0  0.670258         2.18         1.86       0.32   \n",
       "1067          0          0  0.736206         2.18         1.86       0.32   \n",
       "1068          0          0  0.588965         1.89         1.86       0.03   \n",
       "1069          0          0  0.671172         2.18         1.86       0.32   \n",
       "\n",
       "     Store7  PctDiscMM  PctDiscCH  ListPriceDiff  STORE  \n",
       "0        No   0.000000   0.000000           0.24      1  \n",
       "1        No   0.150754   0.000000           0.24      1  \n",
       "2        No   0.000000   0.091398           0.23      1  \n",
       "3        No   0.000000   0.000000           0.00      1  \n",
       "4       Yes   0.000000   0.000000           0.00      0  \n",
       "...     ...        ...        ...            ...    ...  \n",
       "1065    Yes   0.000000   0.053763           0.23      0  \n",
       "1066    Yes   0.000000   0.000000           0.32      0  \n",
       "1067    Yes   0.000000   0.000000           0.32      0  \n",
       "1068    Yes   0.112676   0.000000           0.27      0  \n",
       "1069     No   0.000000   0.000000           0.32      1  \n",
       "\n",
       "[1070 rows x 18 columns]"
      ]
     },
     "execution_count": 25,
     "metadata": {},
     "output_type": "execute_result"
    }
   ],
   "source": [
    "# Import OJ Data\n",
    "oj = pd.read_csv(\"data/OJ.csv\")\n",
    "oj"
   ]
  },
  {
   "cell_type": "code",
   "execution_count": 26,
   "id": "a859001c",
   "metadata": {},
   "outputs": [
    {
     "data": {
      "text/plain": [
       "{'CH': 0, 'MM': 1}"
      ]
     },
     "execution_count": 26,
     "metadata": {},
     "output_type": "execute_result"
    }
   ],
   "source": [
    "target_dict = dict(zip(oj[\"Purchase\"].unique(), [0, 1]))\n",
    "target_dict"
   ]
  },
  {
   "cell_type": "code",
   "execution_count": 27,
   "id": "0a899740",
   "metadata": {},
   "outputs": [],
   "source": [
    "# Target and Predictor Variables\n",
    "X = oj.drop(\"Purchase\", axis = 1)\n",
    "y = oj[\"Purchase\"].map(target_dict)"
   ]
  },
  {
   "cell_type": "markdown",
   "id": "bf13fa2d",
   "metadata": {},
   "source": [
    "We have one binary variable"
   ]
  },
  {
   "cell_type": "code",
   "execution_count": 28,
   "id": "af525305",
   "metadata": {},
   "outputs": [
    {
     "data": {
      "text/plain": [
       "{'No': 0, 'Yes': 1}"
      ]
     },
     "execution_count": 28,
     "metadata": {},
     "output_type": "execute_result"
    }
   ],
   "source": [
    "store7_dict = dict(zip(X[\"Store7\"].unique(), [0,1]))\n",
    "store7_dict"
   ]
  },
  {
   "cell_type": "code",
   "execution_count": 29,
   "id": "6a498904",
   "metadata": {},
   "outputs": [],
   "source": [
    "X[\"Store7\"] = X[\"Store7\"].map(store7_dict)"
   ]
  },
  {
   "cell_type": "markdown",
   "id": "e683a639",
   "metadata": {},
   "source": [
    "**a) Create a training set containing a random sample of 800 observations, and a test set containing the remaining observations.**"
   ]
  },
  {
   "cell_type": "code",
   "execution_count": 30,
   "id": "b74daba0",
   "metadata": {},
   "outputs": [],
   "source": [
    "# Split Data\n",
    "X_train, X_test, y_train, y_test = train_test_split(X, y, train_size = 800, random_state = 123)"
   ]
  },
  {
   "cell_type": "markdown",
   "id": "373e1a05",
   "metadata": {},
   "source": [
    "**b) Fit a tree to the training data, with Purchase as the response and the other variables as predictors. Use the summary() function to produce summary statistics about the tree, and describe the results obtained. What is the training error rate? How many terminal nodes does the tree have?**"
   ]
  },
  {
   "cell_type": "code",
   "execution_count": 31,
   "id": "ae9dafcc",
   "metadata": {},
   "outputs": [
    {
     "data": {
      "text/plain": [
       "DecisionTreeClassifier(max_depth=4, random_state=123)"
      ]
     },
     "execution_count": 31,
     "metadata": {},
     "output_type": "execute_result"
    }
   ],
   "source": [
    "tree = DecisionTreeClassifier(max_depth = 4, random_state = 123)\n",
    "tree.fit(X_train, y_train)"
   ]
  },
  {
   "cell_type": "code",
   "execution_count": 32,
   "id": "d4ece359",
   "metadata": {},
   "outputs": [
    {
     "name": "stdout",
     "output_type": "stream",
     "text": [
      "The Tree has 16 nodes.\n",
      "The Tree has 4 depth.\n",
      "The Accuracy for the Tree is: 0.85125\n"
     ]
    }
   ],
   "source": [
    "print(\"The Tree has\", tree.get_n_leaves(), \"nodes.\")\n",
    "print(\"The Tree has\", tree.get_depth(), \"depth.\")\n",
    "print(\"The Accuracy for the Tree is:\", accuracy_score(y_train, tree.predict(X_train)))"
   ]
  },
  {
   "cell_type": "markdown",
   "id": "287cda75",
   "metadata": {},
   "source": [
    "**c) Type in the name of the tree object in order to get a detailed text output. Pick one of the terminal nodes, and interpret the information displayed.**"
   ]
  },
  {
   "cell_type": "markdown",
   "id": "db13664b",
   "metadata": {},
   "source": [
    "We analize the second node, in this case the gini index is not diplayes but we can see that all observations with:\n",
    "LoyalCH <= 0.06 and StoreID >  1.50 belong to class 1(MM). In this node we have 60 observations fo the class 1(MM) and 1 observation of the class 0(CH) this means that the gini index is near to zero beacuse the node is significant pure."
   ]
  },
  {
   "cell_type": "code",
   "execution_count": 33,
   "id": "1cd0417e",
   "metadata": {},
   "outputs": [
    {
     "name": "stdout",
     "output_type": "stream",
     "text": [
      "|--- LoyalCH <= 0.48\n",
      "|   |--- LoyalCH <= 0.28\n",
      "|   |   |--- LoyalCH <= 0.06\n",
      "|   |   |   |--- StoreID <= 1.50\n",
      "|   |   |   |   |--- weights: [1.00, 3.00] class: 1\n",
      "|   |   |   |--- StoreID >  1.50\n",
      "|   |   |   |   |--- weights: [1.00, 60.00] class: 1\n",
      "|   |   |--- LoyalCH >  0.06\n",
      "|   |   |   |--- PriceDiff <= 0.22\n",
      "|   |   |   |   |--- weights: [6.00, 46.00] class: 1\n",
      "|   |   |   |--- PriceDiff >  0.22\n",
      "|   |   |   |   |--- weights: [14.00, 35.00] class: 1\n",
      "|   |--- LoyalCH >  0.28\n",
      "|   |   |--- SalePriceMM <= 2.04\n",
      "|   |   |   |--- SpecialCH <= 0.50\n",
      "|   |   |   |   |--- weights: [11.00, 56.00] class: 1\n",
      "|   |   |   |--- SpecialCH >  0.50\n",
      "|   |   |   |   |--- weights: [9.00, 5.00] class: 0\n",
      "|   |   |--- SalePriceMM >  2.04\n",
      "|   |   |   |--- StoreID <= 3.50\n",
      "|   |   |   |   |--- weights: [16.00, 19.00] class: 1\n",
      "|   |   |   |--- StoreID >  3.50\n",
      "|   |   |   |   |--- weights: [16.00, 6.00] class: 0\n",
      "|--- LoyalCH >  0.48\n",
      "|   |--- LoyalCH <= 0.71\n",
      "|   |   |--- PriceDiff <= 0.22\n",
      "|   |   |   |--- ListPriceDiff <= 0.23\n",
      "|   |   |   |   |--- weights: [25.00, 37.00] class: 1\n",
      "|   |   |   |--- ListPriceDiff >  0.23\n",
      "|   |   |   |   |--- weights: [21.00, 7.00] class: 0\n",
      "|   |   |--- PriceDiff >  0.22\n",
      "|   |   |   |--- LoyalCH <= 0.69\n",
      "|   |   |   |   |--- weights: [90.00, 13.00] class: 0\n",
      "|   |   |   |--- LoyalCH >  0.69\n",
      "|   |   |   |   |--- weights: [0.00, 1.00] class: 1\n",
      "|   |--- LoyalCH >  0.71\n",
      "|   |   |--- PriceDiff <= -0.39\n",
      "|   |   |   |--- LoyalCH <= 0.97\n",
      "|   |   |   |   |--- weights: [2.00, 5.00] class: 1\n",
      "|   |   |   |--- LoyalCH >  0.97\n",
      "|   |   |   |   |--- weights: [6.00, 1.00] class: 0\n",
      "|   |   |--- PriceDiff >  -0.39\n",
      "|   |   |   |--- PriceMM <= 1.74\n",
      "|   |   |   |   |--- weights: [1.00, 1.00] class: 0\n",
      "|   |   |   |--- PriceMM >  1.74\n",
      "|   |   |   |   |--- weights: [276.00, 10.00] class: 0\n",
      "\n"
     ]
    }
   ],
   "source": [
    "print(export_text(tree, feature_names = list(X_train.columns), show_weights = True))"
   ]
  },
  {
   "cell_type": "markdown",
   "id": "c7b8c7a7",
   "metadata": {},
   "source": [
    "**d) Create a plot of the tree, and interpret the results.**"
   ]
  },
  {
   "cell_type": "markdown",
   "id": "fb213c8e",
   "metadata": {},
   "source": [
    "The nodes with an intense color have better purity in the observations. A node with an intense blue color is more probably to belong to the class 1(MM) and a node with an intense orange color is more probably to belong to the class 0(CH)"
   ]
  },
  {
   "cell_type": "code",
   "execution_count": 34,
   "id": "59f2cb6d",
   "metadata": {},
   "outputs": [
    {
     "data": {
      "image/svg+xml": [
       "<?xml version=\"1.0\" encoding=\"UTF-8\" standalone=\"no\"?>\n",
       "<!DOCTYPE svg PUBLIC \"-//W3C//DTD SVG 1.1//EN\"\n",
       " \"http://www.w3.org/Graphics/SVG/1.1/DTD/svg11.dtd\">\n",
       "<!-- Generated by graphviz version 2.50.0 (20211204.2007)\n",
       " -->\n",
       "<!-- Title: Tree Pages: 1 -->\n",
       "<svg width=\"1974pt\" height=\"477pt\"\n",
       " viewBox=\"0.00 0.00 1973.50 477.00\" xmlns=\"http://www.w3.org/2000/svg\" xmlns:xlink=\"http://www.w3.org/1999/xlink\">\n",
       "<g id=\"graph0\" class=\"graph\" transform=\"scale(1 1) rotate(0) translate(4 473)\">\n",
       "<title>Tree</title>\n",
       "<polygon fill=\"white\" stroke=\"transparent\" points=\"-4,4 -4,-473 1969.5,-473 1969.5,4 -4,4\"/>\n",
       "<!-- 0 -->\n",
       "<g id=\"node1\" class=\"node\">\n",
       "<title>0</title>\n",
       "<path fill=\"#f5cfb3\" stroke=\"black\" d=\"M1027,-469C1027,-469 920,-469 920,-469 914,-469 908,-463 908,-457 908,-457 908,-413 908,-413 908,-407 914,-401 920,-401 920,-401 1027,-401 1027,-401 1033,-401 1039,-407 1039,-413 1039,-413 1039,-457 1039,-457 1039,-463 1033,-469 1027,-469\"/>\n",
       "<text text-anchor=\"middle\" x=\"973.5\" y=\"-453.8\" font-family=\"Helvetica,sans-Serif\" font-size=\"14.00\">LoyalCH &lt;= 0.483</text>\n",
       "<text text-anchor=\"middle\" x=\"973.5\" y=\"-438.8\" font-family=\"Helvetica,sans-Serif\" font-size=\"14.00\">gini = 0.472</text>\n",
       "<text text-anchor=\"middle\" x=\"973.5\" y=\"-423.8\" font-family=\"Helvetica,sans-Serif\" font-size=\"14.00\">samples = 800</text>\n",
       "<text text-anchor=\"middle\" x=\"973.5\" y=\"-408.8\" font-family=\"Helvetica,sans-Serif\" font-size=\"14.00\">value = [495, 305]</text>\n",
       "</g>\n",
       "<!-- 1 -->\n",
       "<g id=\"node2\" class=\"node\">\n",
       "<title>1</title>\n",
       "<path fill=\"#79bded\" stroke=\"black\" d=\"M791,-365C791,-365 684,-365 684,-365 678,-365 672,-359 672,-353 672,-353 672,-309 672,-309 672,-303 678,-297 684,-297 684,-297 791,-297 791,-297 797,-297 803,-303 803,-309 803,-309 803,-353 803,-353 803,-359 797,-365 791,-365\"/>\n",
       "<text text-anchor=\"middle\" x=\"737.5\" y=\"-349.8\" font-family=\"Helvetica,sans-Serif\" font-size=\"14.00\">LoyalCH &lt;= 0.276</text>\n",
       "<text text-anchor=\"middle\" x=\"737.5\" y=\"-334.8\" font-family=\"Helvetica,sans-Serif\" font-size=\"14.00\">gini = 0.368</text>\n",
       "<text text-anchor=\"middle\" x=\"737.5\" y=\"-319.8\" font-family=\"Helvetica,sans-Serif\" font-size=\"14.00\">samples = 304</text>\n",
       "<text text-anchor=\"middle\" x=\"737.5\" y=\"-304.8\" font-family=\"Helvetica,sans-Serif\" font-size=\"14.00\">value = [74, 230]</text>\n",
       "</g>\n",
       "<!-- 0&#45;&gt;1 -->\n",
       "<g id=\"edge1\" class=\"edge\">\n",
       "<title>0&#45;&gt;1</title>\n",
       "<path fill=\"none\" stroke=\"black\" d=\"M907.76,-405.59C878.22,-392.82 843.2,-377.69 812.63,-364.47\"/>\n",
       "<polygon fill=\"black\" stroke=\"black\" points=\"813.86,-361.19 803.3,-360.44 811.09,-367.62 813.86,-361.19\"/>\n",
       "<text text-anchor=\"middle\" x=\"812.51\" y=\"-379.98\" font-family=\"Helvetica,sans-Serif\" font-size=\"14.00\">True</text>\n",
       "</g>\n",
       "<!-- 16 -->\n",
       "<g id=\"node17\" class=\"node\">\n",
       "<title>16</title>\n",
       "<path fill=\"#ea975c\" stroke=\"black\" d=\"M1298,-365C1298,-365 1191,-365 1191,-365 1185,-365 1179,-359 1179,-353 1179,-353 1179,-309 1179,-309 1179,-303 1185,-297 1191,-297 1191,-297 1298,-297 1298,-297 1304,-297 1310,-303 1310,-309 1310,-309 1310,-353 1310,-353 1310,-359 1304,-365 1298,-365\"/>\n",
       "<text text-anchor=\"middle\" x=\"1244.5\" y=\"-349.8\" font-family=\"Helvetica,sans-Serif\" font-size=\"14.00\">LoyalCH &lt;= 0.705</text>\n",
       "<text text-anchor=\"middle\" x=\"1244.5\" y=\"-334.8\" font-family=\"Helvetica,sans-Serif\" font-size=\"14.00\">gini = 0.257</text>\n",
       "<text text-anchor=\"middle\" x=\"1244.5\" y=\"-319.8\" font-family=\"Helvetica,sans-Serif\" font-size=\"14.00\">samples = 496</text>\n",
       "<text text-anchor=\"middle\" x=\"1244.5\" y=\"-304.8\" font-family=\"Helvetica,sans-Serif\" font-size=\"14.00\">value = [421, 75]</text>\n",
       "</g>\n",
       "<!-- 0&#45;&gt;16 -->\n",
       "<g id=\"edge16\" class=\"edge\">\n",
       "<title>0&#45;&gt;16</title>\n",
       "<path fill=\"none\" stroke=\"black\" d=\"M1039.1,-409.31C1078.34,-394.54 1128.35,-375.72 1169.19,-360.34\"/>\n",
       "<polygon fill=\"black\" stroke=\"black\" points=\"1170.44,-363.62 1178.56,-356.82 1167.97,-357.06 1170.44,-363.62\"/>\n",
       "<text text-anchor=\"middle\" x=\"1168.25\" y=\"-375.89\" font-family=\"Helvetica,sans-Serif\" font-size=\"14.00\">False</text>\n",
       "</g>\n",
       "<!-- 2 -->\n",
       "<g id=\"node3\" class=\"node\">\n",
       "<title>2</title>\n",
       "<path fill=\"#57ace9\" stroke=\"black\" d=\"M416,-261C416,-261 309,-261 309,-261 303,-261 297,-255 297,-249 297,-249 297,-205 297,-205 297,-199 303,-193 309,-193 309,-193 416,-193 416,-193 422,-193 428,-199 428,-205 428,-205 428,-249 428,-249 428,-255 422,-261 416,-261\"/>\n",
       "<text text-anchor=\"middle\" x=\"362.5\" y=\"-245.8\" font-family=\"Helvetica,sans-Serif\" font-size=\"14.00\">LoyalCH &lt;= 0.059</text>\n",
       "<text text-anchor=\"middle\" x=\"362.5\" y=\"-230.8\" font-family=\"Helvetica,sans-Serif\" font-size=\"14.00\">gini = 0.23</text>\n",
       "<text text-anchor=\"middle\" x=\"362.5\" y=\"-215.8\" font-family=\"Helvetica,sans-Serif\" font-size=\"14.00\">samples = 166</text>\n",
       "<text text-anchor=\"middle\" x=\"362.5\" y=\"-200.8\" font-family=\"Helvetica,sans-Serif\" font-size=\"14.00\">value = [22, 144]</text>\n",
       "</g>\n",
       "<!-- 1&#45;&gt;2 -->\n",
       "<g id=\"edge2\" class=\"edge\">\n",
       "<title>1&#45;&gt;2</title>\n",
       "<path fill=\"none\" stroke=\"black\" d=\"M671.75,-312.12C606.48,-294.36 506.54,-267.18 438.04,-248.55\"/>\n",
       "<polygon fill=\"black\" stroke=\"black\" points=\"438.74,-245.11 428.17,-245.86 436.9,-251.87 438.74,-245.11\"/>\n",
       "</g>\n",
       "<!-- 9 -->\n",
       "<g id=\"node10\" class=\"node\">\n",
       "<title>9</title>\n",
       "<path fill=\"#b1d8f5\" stroke=\"black\" d=\"M802,-261C802,-261 673,-261 673,-261 667,-261 661,-255 661,-249 661,-249 661,-205 661,-205 661,-199 667,-193 673,-193 673,-193 802,-193 802,-193 808,-193 814,-199 814,-205 814,-205 814,-249 814,-249 814,-255 808,-261 802,-261\"/>\n",
       "<text text-anchor=\"middle\" x=\"737.5\" y=\"-245.8\" font-family=\"Helvetica,sans-Serif\" font-size=\"14.00\">SalePriceMM &lt;= 2.04</text>\n",
       "<text text-anchor=\"middle\" x=\"737.5\" y=\"-230.8\" font-family=\"Helvetica,sans-Serif\" font-size=\"14.00\">gini = 0.47</text>\n",
       "<text text-anchor=\"middle\" x=\"737.5\" y=\"-215.8\" font-family=\"Helvetica,sans-Serif\" font-size=\"14.00\">samples = 138</text>\n",
       "<text text-anchor=\"middle\" x=\"737.5\" y=\"-200.8\" font-family=\"Helvetica,sans-Serif\" font-size=\"14.00\">value = [52, 86]</text>\n",
       "</g>\n",
       "<!-- 1&#45;&gt;9 -->\n",
       "<g id=\"edge9\" class=\"edge\">\n",
       "<title>1&#45;&gt;9</title>\n",
       "<path fill=\"none\" stroke=\"black\" d=\"M737.5,-296.88C737.5,-288.78 737.5,-279.98 737.5,-271.47\"/>\n",
       "<polygon fill=\"black\" stroke=\"black\" points=\"741,-271.3 737.5,-261.3 734,-271.3 741,-271.3\"/>\n",
       "</g>\n",
       "<!-- 3 -->\n",
       "<g id=\"node4\" class=\"node\">\n",
       "<title>3</title>\n",
       "<path fill=\"#3fa0e6\" stroke=\"black\" d=\"M210.5,-157C210.5,-157 124.5,-157 124.5,-157 118.5,-157 112.5,-151 112.5,-145 112.5,-145 112.5,-101 112.5,-101 112.5,-95 118.5,-89 124.5,-89 124.5,-89 210.5,-89 210.5,-89 216.5,-89 222.5,-95 222.5,-101 222.5,-101 222.5,-145 222.5,-145 222.5,-151 216.5,-157 210.5,-157\"/>\n",
       "<text text-anchor=\"middle\" x=\"167.5\" y=\"-141.8\" font-family=\"Helvetica,sans-Serif\" font-size=\"14.00\">StoreID &lt;= 1.5</text>\n",
       "<text text-anchor=\"middle\" x=\"167.5\" y=\"-126.8\" font-family=\"Helvetica,sans-Serif\" font-size=\"14.00\">gini = 0.06</text>\n",
       "<text text-anchor=\"middle\" x=\"167.5\" y=\"-111.8\" font-family=\"Helvetica,sans-Serif\" font-size=\"14.00\">samples = 65</text>\n",
       "<text text-anchor=\"middle\" x=\"167.5\" y=\"-96.8\" font-family=\"Helvetica,sans-Serif\" font-size=\"14.00\">value = [2, 63]</text>\n",
       "</g>\n",
       "<!-- 2&#45;&gt;3 -->\n",
       "<g id=\"edge3\" class=\"edge\">\n",
       "<title>2&#45;&gt;3</title>\n",
       "<path fill=\"none\" stroke=\"black\" d=\"M299.19,-192.88C277.59,-181.58 253.42,-168.94 231.75,-157.61\"/>\n",
       "<polygon fill=\"black\" stroke=\"black\" points=\"233.11,-154.37 222.62,-152.83 229.86,-160.57 233.11,-154.37\"/>\n",
       "</g>\n",
       "<!-- 6 -->\n",
       "<g id=\"node7\" class=\"node\">\n",
       "<title>6</title>\n",
       "<path fill=\"#6ab5eb\" stroke=\"black\" d=\"M417,-157C417,-157 308,-157 308,-157 302,-157 296,-151 296,-145 296,-145 296,-101 296,-101 296,-95 302,-89 308,-89 308,-89 417,-89 417,-89 423,-89 429,-95 429,-101 429,-101 429,-145 429,-145 429,-151 423,-157 417,-157\"/>\n",
       "<text text-anchor=\"middle\" x=\"362.5\" y=\"-141.8\" font-family=\"Helvetica,sans-Serif\" font-size=\"14.00\">PriceDiff &lt;= 0.215</text>\n",
       "<text text-anchor=\"middle\" x=\"362.5\" y=\"-126.8\" font-family=\"Helvetica,sans-Serif\" font-size=\"14.00\">gini = 0.318</text>\n",
       "<text text-anchor=\"middle\" x=\"362.5\" y=\"-111.8\" font-family=\"Helvetica,sans-Serif\" font-size=\"14.00\">samples = 101</text>\n",
       "<text text-anchor=\"middle\" x=\"362.5\" y=\"-96.8\" font-family=\"Helvetica,sans-Serif\" font-size=\"14.00\">value = [20, 81]</text>\n",
       "</g>\n",
       "<!-- 2&#45;&gt;6 -->\n",
       "<g id=\"edge6\" class=\"edge\">\n",
       "<title>2&#45;&gt;6</title>\n",
       "<path fill=\"none\" stroke=\"black\" d=\"M362.5,-192.88C362.5,-184.78 362.5,-175.98 362.5,-167.47\"/>\n",
       "<polygon fill=\"black\" stroke=\"black\" points=\"366,-167.3 362.5,-157.3 359,-167.3 366,-167.3\"/>\n",
       "</g>\n",
       "<!-- 4 -->\n",
       "<g id=\"node5\" class=\"node\">\n",
       "<title>4</title>\n",
       "<path fill=\"#7bbeee\" stroke=\"black\" d=\"M85,-53C85,-53 12,-53 12,-53 6,-53 0,-47 0,-41 0,-41 0,-12 0,-12 0,-6 6,0 12,0 12,0 85,0 85,0 91,0 97,-6 97,-12 97,-12 97,-41 97,-41 97,-47 91,-53 85,-53\"/>\n",
       "<text text-anchor=\"middle\" x=\"48.5\" y=\"-37.8\" font-family=\"Helvetica,sans-Serif\" font-size=\"14.00\">gini = 0.375</text>\n",
       "<text text-anchor=\"middle\" x=\"48.5\" y=\"-22.8\" font-family=\"Helvetica,sans-Serif\" font-size=\"14.00\">samples = 4</text>\n",
       "<text text-anchor=\"middle\" x=\"48.5\" y=\"-7.8\" font-family=\"Helvetica,sans-Serif\" font-size=\"14.00\">value = [1, 3]</text>\n",
       "</g>\n",
       "<!-- 3&#45;&gt;4 -->\n",
       "<g id=\"edge4\" class=\"edge\">\n",
       "<title>3&#45;&gt;4</title>\n",
       "<path fill=\"none\" stroke=\"black\" d=\"M125.88,-88.95C113.9,-79.43 100.85,-69.07 88.94,-59.62\"/>\n",
       "<polygon fill=\"black\" stroke=\"black\" points=\"90.92,-56.71 80.91,-53.24 86.56,-62.2 90.92,-56.71\"/>\n",
       "</g>\n",
       "<!-- 5 -->\n",
       "<g id=\"node6\" class=\"node\">\n",
       "<title>5</title>\n",
       "<path fill=\"#3c9fe5\" stroke=\"black\" d=\"M208,-53C208,-53 127,-53 127,-53 121,-53 115,-47 115,-41 115,-41 115,-12 115,-12 115,-6 121,0 127,0 127,0 208,0 208,0 214,0 220,-6 220,-12 220,-12 220,-41 220,-41 220,-47 214,-53 208,-53\"/>\n",
       "<text text-anchor=\"middle\" x=\"167.5\" y=\"-37.8\" font-family=\"Helvetica,sans-Serif\" font-size=\"14.00\">gini = 0.032</text>\n",
       "<text text-anchor=\"middle\" x=\"167.5\" y=\"-22.8\" font-family=\"Helvetica,sans-Serif\" font-size=\"14.00\">samples = 61</text>\n",
       "<text text-anchor=\"middle\" x=\"167.5\" y=\"-7.8\" font-family=\"Helvetica,sans-Serif\" font-size=\"14.00\">value = [1, 60]</text>\n",
       "</g>\n",
       "<!-- 3&#45;&gt;5 -->\n",
       "<g id=\"edge5\" class=\"edge\">\n",
       "<title>3&#45;&gt;5</title>\n",
       "<path fill=\"none\" stroke=\"black\" d=\"M167.5,-88.95C167.5,-80.72 167.5,-71.85 167.5,-63.48\"/>\n",
       "<polygon fill=\"black\" stroke=\"black\" points=\"171,-63.24 167.5,-53.24 164,-63.24 171,-63.24\"/>\n",
       "</g>\n",
       "<!-- 7 -->\n",
       "<g id=\"node8\" class=\"node\">\n",
       "<title>7</title>\n",
       "<path fill=\"#53aae8\" stroke=\"black\" d=\"M331,-53C331,-53 250,-53 250,-53 244,-53 238,-47 238,-41 238,-41 238,-12 238,-12 238,-6 244,0 250,0 250,0 331,0 331,0 337,0 343,-6 343,-12 343,-12 343,-41 343,-41 343,-47 337,-53 331,-53\"/>\n",
       "<text text-anchor=\"middle\" x=\"290.5\" y=\"-37.8\" font-family=\"Helvetica,sans-Serif\" font-size=\"14.00\">gini = 0.204</text>\n",
       "<text text-anchor=\"middle\" x=\"290.5\" y=\"-22.8\" font-family=\"Helvetica,sans-Serif\" font-size=\"14.00\">samples = 52</text>\n",
       "<text text-anchor=\"middle\" x=\"290.5\" y=\"-7.8\" font-family=\"Helvetica,sans-Serif\" font-size=\"14.00\">value = [6, 46]</text>\n",
       "</g>\n",
       "<!-- 6&#45;&gt;7 -->\n",
       "<g id=\"edge7\" class=\"edge\">\n",
       "<title>6&#45;&gt;7</title>\n",
       "<path fill=\"none\" stroke=\"black\" d=\"M337.32,-88.95C330.49,-79.98 323.08,-70.27 316.22,-61.26\"/>\n",
       "<polygon fill=\"black\" stroke=\"black\" points=\"318.95,-59.07 310.11,-53.24 313.39,-63.31 318.95,-59.07\"/>\n",
       "</g>\n",
       "<!-- 8 -->\n",
       "<g id=\"node9\" class=\"node\">\n",
       "<title>8</title>\n",
       "<path fill=\"#88c4ef\" stroke=\"black\" d=\"M462,-53C462,-53 373,-53 373,-53 367,-53 361,-47 361,-41 361,-41 361,-12 361,-12 361,-6 367,0 373,0 373,0 462,0 462,0 468,0 474,-6 474,-12 474,-12 474,-41 474,-41 474,-47 468,-53 462,-53\"/>\n",
       "<text text-anchor=\"middle\" x=\"417.5\" y=\"-37.8\" font-family=\"Helvetica,sans-Serif\" font-size=\"14.00\">gini = 0.408</text>\n",
       "<text text-anchor=\"middle\" x=\"417.5\" y=\"-22.8\" font-family=\"Helvetica,sans-Serif\" font-size=\"14.00\">samples = 49</text>\n",
       "<text text-anchor=\"middle\" x=\"417.5\" y=\"-7.8\" font-family=\"Helvetica,sans-Serif\" font-size=\"14.00\">value = [14, 35]</text>\n",
       "</g>\n",
       "<!-- 6&#45;&gt;8 -->\n",
       "<g id=\"edge8\" class=\"edge\">\n",
       "<title>6&#45;&gt;8</title>\n",
       "<path fill=\"none\" stroke=\"black\" d=\"M381.74,-88.95C386.79,-80.26 392.26,-70.86 397.37,-62.09\"/>\n",
       "<polygon fill=\"black\" stroke=\"black\" points=\"400.52,-63.64 402.52,-53.24 394.47,-60.12 400.52,-63.64\"/>\n",
       "</g>\n",
       "<!-- 10 -->\n",
       "<g id=\"node11\" class=\"node\">\n",
       "<title>10</title>\n",
       "<path fill=\"#7abdee\" stroke=\"black\" d=\"M720.5,-157C720.5,-157 616.5,-157 616.5,-157 610.5,-157 604.5,-151 604.5,-145 604.5,-145 604.5,-101 604.5,-101 604.5,-95 610.5,-89 616.5,-89 616.5,-89 720.5,-89 720.5,-89 726.5,-89 732.5,-95 732.5,-101 732.5,-101 732.5,-145 732.5,-145 732.5,-151 726.5,-157 720.5,-157\"/>\n",
       "<text text-anchor=\"middle\" x=\"668.5\" y=\"-141.8\" font-family=\"Helvetica,sans-Serif\" font-size=\"14.00\">SpecialCH &lt;= 0.5</text>\n",
       "<text text-anchor=\"middle\" x=\"668.5\" y=\"-126.8\" font-family=\"Helvetica,sans-Serif\" font-size=\"14.00\">gini = 0.372</text>\n",
       "<text text-anchor=\"middle\" x=\"668.5\" y=\"-111.8\" font-family=\"Helvetica,sans-Serif\" font-size=\"14.00\">samples = 81</text>\n",
       "<text text-anchor=\"middle\" x=\"668.5\" y=\"-96.8\" font-family=\"Helvetica,sans-Serif\" font-size=\"14.00\">value = [20, 61]</text>\n",
       "</g>\n",
       "<!-- 9&#45;&gt;10 -->\n",
       "<g id=\"edge10\" class=\"edge\">\n",
       "<title>9&#45;&gt;10</title>\n",
       "<path fill=\"none\" stroke=\"black\" d=\"M715.1,-192.88C709.25,-184.24 702.88,-174.82 696.77,-165.79\"/>\n",
       "<polygon fill=\"black\" stroke=\"black\" points=\"699.53,-163.62 691.03,-157.3 693.73,-167.54 699.53,-163.62\"/>\n",
       "</g>\n",
       "<!-- 13 -->\n",
       "<g id=\"node14\" class=\"node\">\n",
       "<title>13</title>\n",
       "<path fill=\"#f9e3d4\" stroke=\"black\" d=\"M852,-157C852,-157 763,-157 763,-157 757,-157 751,-151 751,-145 751,-145 751,-101 751,-101 751,-95 757,-89 763,-89 763,-89 852,-89 852,-89 858,-89 864,-95 864,-101 864,-101 864,-145 864,-145 864,-151 858,-157 852,-157\"/>\n",
       "<text text-anchor=\"middle\" x=\"807.5\" y=\"-141.8\" font-family=\"Helvetica,sans-Serif\" font-size=\"14.00\">StoreID &lt;= 3.5</text>\n",
       "<text text-anchor=\"middle\" x=\"807.5\" y=\"-126.8\" font-family=\"Helvetica,sans-Serif\" font-size=\"14.00\">gini = 0.492</text>\n",
       "<text text-anchor=\"middle\" x=\"807.5\" y=\"-111.8\" font-family=\"Helvetica,sans-Serif\" font-size=\"14.00\">samples = 57</text>\n",
       "<text text-anchor=\"middle\" x=\"807.5\" y=\"-96.8\" font-family=\"Helvetica,sans-Serif\" font-size=\"14.00\">value = [32, 25]</text>\n",
       "</g>\n",
       "<!-- 9&#45;&gt;13 -->\n",
       "<g id=\"edge13\" class=\"edge\">\n",
       "<title>9&#45;&gt;13</title>\n",
       "<path fill=\"none\" stroke=\"black\" d=\"M760.23,-192.88C766.16,-184.24 772.62,-174.82 778.82,-165.79\"/>\n",
       "<polygon fill=\"black\" stroke=\"black\" points=\"781.87,-167.52 784.65,-157.3 776.1,-163.56 781.87,-167.52\"/>\n",
       "</g>\n",
       "<!-- 11 -->\n",
       "<g id=\"node12\" class=\"node\">\n",
       "<title>11</title>\n",
       "<path fill=\"#60b0ea\" stroke=\"black\" d=\"M593,-53C593,-53 504,-53 504,-53 498,-53 492,-47 492,-41 492,-41 492,-12 492,-12 492,-6 498,0 504,0 504,0 593,0 593,0 599,0 605,-6 605,-12 605,-12 605,-41 605,-41 605,-47 599,-53 593,-53\"/>\n",
       "<text text-anchor=\"middle\" x=\"548.5\" y=\"-37.8\" font-family=\"Helvetica,sans-Serif\" font-size=\"14.00\">gini = 0.274</text>\n",
       "<text text-anchor=\"middle\" x=\"548.5\" y=\"-22.8\" font-family=\"Helvetica,sans-Serif\" font-size=\"14.00\">samples = 67</text>\n",
       "<text text-anchor=\"middle\" x=\"548.5\" y=\"-7.8\" font-family=\"Helvetica,sans-Serif\" font-size=\"14.00\">value = [11, 56]</text>\n",
       "</g>\n",
       "<!-- 10&#45;&gt;11 -->\n",
       "<g id=\"edge11\" class=\"edge\">\n",
       "<title>10&#45;&gt;11</title>\n",
       "<path fill=\"none\" stroke=\"black\" d=\"M626.53,-88.95C614.45,-79.43 601.29,-69.07 589.28,-59.62\"/>\n",
       "<polygon fill=\"black\" stroke=\"black\" points=\"591.2,-56.67 581.18,-53.24 586.87,-62.17 591.2,-56.67\"/>\n",
       "</g>\n",
       "<!-- 12 -->\n",
       "<g id=\"node13\" class=\"node\">\n",
       "<title>12</title>\n",
       "<path fill=\"#f3c7a7\" stroke=\"black\" d=\"M714,-53C714,-53 635,-53 635,-53 629,-53 623,-47 623,-41 623,-41 623,-12 623,-12 623,-6 629,0 635,0 635,0 714,0 714,0 720,0 726,-6 726,-12 726,-12 726,-41 726,-41 726,-47 720,-53 714,-53\"/>\n",
       "<text text-anchor=\"middle\" x=\"674.5\" y=\"-37.8\" font-family=\"Helvetica,sans-Serif\" font-size=\"14.00\">gini = 0.459</text>\n",
       "<text text-anchor=\"middle\" x=\"674.5\" y=\"-22.8\" font-family=\"Helvetica,sans-Serif\" font-size=\"14.00\">samples = 14</text>\n",
       "<text text-anchor=\"middle\" x=\"674.5\" y=\"-7.8\" font-family=\"Helvetica,sans-Serif\" font-size=\"14.00\">value = [9, 5]</text>\n",
       "</g>\n",
       "<!-- 10&#45;&gt;12 -->\n",
       "<g id=\"edge12\" class=\"edge\">\n",
       "<title>10&#45;&gt;12</title>\n",
       "<path fill=\"none\" stroke=\"black\" d=\"M670.6,-88.95C671.12,-80.72 671.68,-71.85 672.22,-63.48\"/>\n",
       "<polygon fill=\"black\" stroke=\"black\" points=\"675.73,-63.44 672.87,-53.24 668.74,-62.99 675.73,-63.44\"/>\n",
       "</g>\n",
       "<!-- 14 -->\n",
       "<g id=\"node15\" class=\"node\">\n",
       "<title>14</title>\n",
       "<path fill=\"#e0f0fb\" stroke=\"black\" d=\"M845,-53C845,-53 756,-53 756,-53 750,-53 744,-47 744,-41 744,-41 744,-12 744,-12 744,-6 750,0 756,0 756,0 845,0 845,0 851,0 857,-6 857,-12 857,-12 857,-41 857,-41 857,-47 851,-53 845,-53\"/>\n",
       "<text text-anchor=\"middle\" x=\"800.5\" y=\"-37.8\" font-family=\"Helvetica,sans-Serif\" font-size=\"14.00\">gini = 0.496</text>\n",
       "<text text-anchor=\"middle\" x=\"800.5\" y=\"-22.8\" font-family=\"Helvetica,sans-Serif\" font-size=\"14.00\">samples = 35</text>\n",
       "<text text-anchor=\"middle\" x=\"800.5\" y=\"-7.8\" font-family=\"Helvetica,sans-Serif\" font-size=\"14.00\">value = [16, 19]</text>\n",
       "</g>\n",
       "<!-- 13&#45;&gt;14 -->\n",
       "<g id=\"edge14\" class=\"edge\">\n",
       "<title>13&#45;&gt;14</title>\n",
       "<path fill=\"none\" stroke=\"black\" d=\"M805.05,-88.95C804.44,-80.72 803.79,-71.85 803.17,-63.48\"/>\n",
       "<polygon fill=\"black\" stroke=\"black\" points=\"806.64,-62.95 802.41,-53.24 799.65,-63.47 806.64,-62.95\"/>\n",
       "</g>\n",
       "<!-- 15 -->\n",
       "<g id=\"node16\" class=\"node\">\n",
       "<title>15</title>\n",
       "<path fill=\"#efb083\" stroke=\"black\" d=\"M968,-53C968,-53 887,-53 887,-53 881,-53 875,-47 875,-41 875,-41 875,-12 875,-12 875,-6 881,0 887,0 887,0 968,0 968,0 974,0 980,-6 980,-12 980,-12 980,-41 980,-41 980,-47 974,-53 968,-53\"/>\n",
       "<text text-anchor=\"middle\" x=\"927.5\" y=\"-37.8\" font-family=\"Helvetica,sans-Serif\" font-size=\"14.00\">gini = 0.397</text>\n",
       "<text text-anchor=\"middle\" x=\"927.5\" y=\"-22.8\" font-family=\"Helvetica,sans-Serif\" font-size=\"14.00\">samples = 22</text>\n",
       "<text text-anchor=\"middle\" x=\"927.5\" y=\"-7.8\" font-family=\"Helvetica,sans-Serif\" font-size=\"14.00\">value = [16, 6]</text>\n",
       "</g>\n",
       "<!-- 13&#45;&gt;15 -->\n",
       "<g id=\"edge15\" class=\"edge\">\n",
       "<title>13&#45;&gt;15</title>\n",
       "<path fill=\"none\" stroke=\"black\" d=\"M849.47,-88.95C861.55,-79.43 874.71,-69.07 886.72,-59.62\"/>\n",
       "<polygon fill=\"black\" stroke=\"black\" points=\"889.13,-62.17 894.82,-53.24 884.8,-56.67 889.13,-62.17\"/>\n",
       "</g>\n",
       "<!-- 17 -->\n",
       "<g id=\"node18\" class=\"node\">\n",
       "<title>17</title>\n",
       "<path fill=\"#f0b78d\" stroke=\"black\" d=\"M1299,-261C1299,-261 1190,-261 1190,-261 1184,-261 1178,-255 1178,-249 1178,-249 1178,-205 1178,-205 1178,-199 1184,-193 1190,-193 1190,-193 1299,-193 1299,-193 1305,-193 1311,-199 1311,-205 1311,-205 1311,-249 1311,-249 1311,-255 1305,-261 1299,-261\"/>\n",
       "<text text-anchor=\"middle\" x=\"1244.5\" y=\"-245.8\" font-family=\"Helvetica,sans-Serif\" font-size=\"14.00\">PriceDiff &lt;= 0.215</text>\n",
       "<text text-anchor=\"middle\" x=\"1244.5\" y=\"-230.8\" font-family=\"Helvetica,sans-Serif\" font-size=\"14.00\">gini = 0.419</text>\n",
       "<text text-anchor=\"middle\" x=\"1244.5\" y=\"-215.8\" font-family=\"Helvetica,sans-Serif\" font-size=\"14.00\">samples = 194</text>\n",
       "<text text-anchor=\"middle\" x=\"1244.5\" y=\"-200.8\" font-family=\"Helvetica,sans-Serif\" font-size=\"14.00\">value = [136, 58]</text>\n",
       "</g>\n",
       "<!-- 16&#45;&gt;17 -->\n",
       "<g id=\"edge17\" class=\"edge\">\n",
       "<title>16&#45;&gt;17</title>\n",
       "<path fill=\"none\" stroke=\"black\" d=\"M1244.5,-296.88C1244.5,-288.78 1244.5,-279.98 1244.5,-271.47\"/>\n",
       "<polygon fill=\"black\" stroke=\"black\" points=\"1248,-271.3 1244.5,-261.3 1241,-271.3 1248,-271.3\"/>\n",
       "</g>\n",
       "<!-- 24 -->\n",
       "<g id=\"node25\" class=\"node\">\n",
       "<title>24</title>\n",
       "<path fill=\"#e78945\" stroke=\"black\" d=\"M1641,-261C1641,-261 1536,-261 1536,-261 1530,-261 1524,-255 1524,-249 1524,-249 1524,-205 1524,-205 1524,-199 1530,-193 1536,-193 1536,-193 1641,-193 1641,-193 1647,-193 1653,-199 1653,-205 1653,-205 1653,-249 1653,-249 1653,-255 1647,-261 1641,-261\"/>\n",
       "<text text-anchor=\"middle\" x=\"1588.5\" y=\"-245.8\" font-family=\"Helvetica,sans-Serif\" font-size=\"14.00\">PriceDiff &lt;= &#45;0.39</text>\n",
       "<text text-anchor=\"middle\" x=\"1588.5\" y=\"-230.8\" font-family=\"Helvetica,sans-Serif\" font-size=\"14.00\">gini = 0.106</text>\n",
       "<text text-anchor=\"middle\" x=\"1588.5\" y=\"-215.8\" font-family=\"Helvetica,sans-Serif\" font-size=\"14.00\">samples = 302</text>\n",
       "<text text-anchor=\"middle\" x=\"1588.5\" y=\"-200.8\" font-family=\"Helvetica,sans-Serif\" font-size=\"14.00\">value = [285, 17]</text>\n",
       "</g>\n",
       "<!-- 16&#45;&gt;24 -->\n",
       "<g id=\"edge24\" class=\"edge\">\n",
       "<title>16&#45;&gt;24</title>\n",
       "<path fill=\"none\" stroke=\"black\" d=\"M1310.01,-310.57C1368.18,-293.33 1453.14,-268.14 1513.9,-250.12\"/>\n",
       "<polygon fill=\"black\" stroke=\"black\" points=\"1515.22,-253.38 1523.81,-247.18 1513.23,-246.67 1515.22,-253.38\"/>\n",
       "</g>\n",
       "<!-- 18 -->\n",
       "<g id=\"node19\" class=\"node\">\n",
       "<title>18</title>\n",
       "<path fill=\"#fefaf6\" stroke=\"black\" d=\"M1230,-157C1230,-157 1099,-157 1099,-157 1093,-157 1087,-151 1087,-145 1087,-145 1087,-101 1087,-101 1087,-95 1093,-89 1099,-89 1099,-89 1230,-89 1230,-89 1236,-89 1242,-95 1242,-101 1242,-101 1242,-145 1242,-145 1242,-151 1236,-157 1230,-157\"/>\n",
       "<text text-anchor=\"middle\" x=\"1164.5\" y=\"-141.8\" font-family=\"Helvetica,sans-Serif\" font-size=\"14.00\">ListPriceDiff &lt;= 0.235</text>\n",
       "<text text-anchor=\"middle\" x=\"1164.5\" y=\"-126.8\" font-family=\"Helvetica,sans-Serif\" font-size=\"14.00\">gini = 0.5</text>\n",
       "<text text-anchor=\"middle\" x=\"1164.5\" y=\"-111.8\" font-family=\"Helvetica,sans-Serif\" font-size=\"14.00\">samples = 90</text>\n",
       "<text text-anchor=\"middle\" x=\"1164.5\" y=\"-96.8\" font-family=\"Helvetica,sans-Serif\" font-size=\"14.00\">value = [46, 44]</text>\n",
       "</g>\n",
       "<!-- 17&#45;&gt;18 -->\n",
       "<g id=\"edge18\" class=\"edge\">\n",
       "<title>17&#45;&gt;18</title>\n",
       "<path fill=\"none\" stroke=\"black\" d=\"M1218.53,-192.88C1211.61,-184.07 1204.05,-174.43 1196.84,-165.24\"/>\n",
       "<polygon fill=\"black\" stroke=\"black\" points=\"1199.54,-163.01 1190.62,-157.3 1194.03,-167.33 1199.54,-163.01\"/>\n",
       "</g>\n",
       "<!-- 21 -->\n",
       "<g id=\"node22\" class=\"node\">\n",
       "<title>21</title>\n",
       "<path fill=\"#e99558\" stroke=\"black\" d=\"M1379,-157C1379,-157 1272,-157 1272,-157 1266,-157 1260,-151 1260,-145 1260,-145 1260,-101 1260,-101 1260,-95 1266,-89 1272,-89 1272,-89 1379,-89 1379,-89 1385,-89 1391,-95 1391,-101 1391,-101 1391,-145 1391,-145 1391,-151 1385,-157 1379,-157\"/>\n",
       "<text text-anchor=\"middle\" x=\"1325.5\" y=\"-141.8\" font-family=\"Helvetica,sans-Serif\" font-size=\"14.00\">LoyalCH &lt;= 0.694</text>\n",
       "<text text-anchor=\"middle\" x=\"1325.5\" y=\"-126.8\" font-family=\"Helvetica,sans-Serif\" font-size=\"14.00\">gini = 0.233</text>\n",
       "<text text-anchor=\"middle\" x=\"1325.5\" y=\"-111.8\" font-family=\"Helvetica,sans-Serif\" font-size=\"14.00\">samples = 104</text>\n",
       "<text text-anchor=\"middle\" x=\"1325.5\" y=\"-96.8\" font-family=\"Helvetica,sans-Serif\" font-size=\"14.00\">value = [90, 14]</text>\n",
       "</g>\n",
       "<!-- 17&#45;&gt;21 -->\n",
       "<g id=\"edge21\" class=\"edge\">\n",
       "<title>17&#45;&gt;21</title>\n",
       "<path fill=\"none\" stroke=\"black\" d=\"M1270.8,-192.88C1277.8,-184.07 1285.45,-174.43 1292.75,-165.24\"/>\n",
       "<polygon fill=\"black\" stroke=\"black\" points=\"1295.58,-167.31 1299.06,-157.3 1290.1,-162.95 1295.58,-167.31\"/>\n",
       "</g>\n",
       "<!-- 19 -->\n",
       "<g id=\"node20\" class=\"node\">\n",
       "<title>19</title>\n",
       "<path fill=\"#bfdff7\" stroke=\"black\" d=\"M1099,-53C1099,-53 1010,-53 1010,-53 1004,-53 998,-47 998,-41 998,-41 998,-12 998,-12 998,-6 1004,0 1010,0 1010,0 1099,0 1099,0 1105,0 1111,-6 1111,-12 1111,-12 1111,-41 1111,-41 1111,-47 1105,-53 1099,-53\"/>\n",
       "<text text-anchor=\"middle\" x=\"1054.5\" y=\"-37.8\" font-family=\"Helvetica,sans-Serif\" font-size=\"14.00\">gini = 0.481</text>\n",
       "<text text-anchor=\"middle\" x=\"1054.5\" y=\"-22.8\" font-family=\"Helvetica,sans-Serif\" font-size=\"14.00\">samples = 62</text>\n",
       "<text text-anchor=\"middle\" x=\"1054.5\" y=\"-7.8\" font-family=\"Helvetica,sans-Serif\" font-size=\"14.00\">value = [25, 37]</text>\n",
       "</g>\n",
       "<!-- 18&#45;&gt;19 -->\n",
       "<g id=\"edge19\" class=\"edge\">\n",
       "<title>18&#45;&gt;19</title>\n",
       "<path fill=\"none\" stroke=\"black\" d=\"M1126.03,-88.95C1115.06,-79.53 1103.12,-69.27 1092.2,-59.89\"/>\n",
       "<polygon fill=\"black\" stroke=\"black\" points=\"1094.32,-57.1 1084.46,-53.24 1089.76,-62.41 1094.32,-57.1\"/>\n",
       "</g>\n",
       "<!-- 20 -->\n",
       "<g id=\"node21\" class=\"node\">\n",
       "<title>20</title>\n",
       "<path fill=\"#eeab7b\" stroke=\"black\" d=\"M1222,-53C1222,-53 1141,-53 1141,-53 1135,-53 1129,-47 1129,-41 1129,-41 1129,-12 1129,-12 1129,-6 1135,0 1141,0 1141,0 1222,0 1222,0 1228,0 1234,-6 1234,-12 1234,-12 1234,-41 1234,-41 1234,-47 1228,-53 1222,-53\"/>\n",
       "<text text-anchor=\"middle\" x=\"1181.5\" y=\"-37.8\" font-family=\"Helvetica,sans-Serif\" font-size=\"14.00\">gini = 0.375</text>\n",
       "<text text-anchor=\"middle\" x=\"1181.5\" y=\"-22.8\" font-family=\"Helvetica,sans-Serif\" font-size=\"14.00\">samples = 28</text>\n",
       "<text text-anchor=\"middle\" x=\"1181.5\" y=\"-7.8\" font-family=\"Helvetica,sans-Serif\" font-size=\"14.00\">value = [21, 7]</text>\n",
       "</g>\n",
       "<!-- 18&#45;&gt;20 -->\n",
       "<g id=\"edge20\" class=\"edge\">\n",
       "<title>18&#45;&gt;20</title>\n",
       "<path fill=\"none\" stroke=\"black\" d=\"M1170.45,-88.95C1171.94,-80.62 1173.56,-71.65 1175.08,-63.2\"/>\n",
       "<polygon fill=\"black\" stroke=\"black\" points=\"1178.54,-63.7 1176.87,-53.24 1171.65,-62.46 1178.54,-63.7\"/>\n",
       "</g>\n",
       "<!-- 22 -->\n",
       "<g id=\"node23\" class=\"node\">\n",
       "<title>22</title>\n",
       "<path fill=\"#e99356\" stroke=\"black\" d=\"M1353,-53C1353,-53 1264,-53 1264,-53 1258,-53 1252,-47 1252,-41 1252,-41 1252,-12 1252,-12 1252,-6 1258,0 1264,0 1264,0 1353,0 1353,0 1359,0 1365,-6 1365,-12 1365,-12 1365,-41 1365,-41 1365,-47 1359,-53 1353,-53\"/>\n",
       "<text text-anchor=\"middle\" x=\"1308.5\" y=\"-37.8\" font-family=\"Helvetica,sans-Serif\" font-size=\"14.00\">gini = 0.221</text>\n",
       "<text text-anchor=\"middle\" x=\"1308.5\" y=\"-22.8\" font-family=\"Helvetica,sans-Serif\" font-size=\"14.00\">samples = 103</text>\n",
       "<text text-anchor=\"middle\" x=\"1308.5\" y=\"-7.8\" font-family=\"Helvetica,sans-Serif\" font-size=\"14.00\">value = [90, 13]</text>\n",
       "</g>\n",
       "<!-- 21&#45;&gt;22 -->\n",
       "<g id=\"edge22\" class=\"edge\">\n",
       "<title>21&#45;&gt;22</title>\n",
       "<path fill=\"none\" stroke=\"black\" d=\"M1319.55,-88.95C1318.06,-80.62 1316.44,-71.65 1314.92,-63.2\"/>\n",
       "<polygon fill=\"black\" stroke=\"black\" points=\"1318.35,-62.46 1313.13,-53.24 1311.46,-63.7 1318.35,-62.46\"/>\n",
       "</g>\n",
       "<!-- 23 -->\n",
       "<g id=\"node24\" class=\"node\">\n",
       "<title>23</title>\n",
       "<path fill=\"#399de5\" stroke=\"black\" d=\"M1468,-53C1468,-53 1395,-53 1395,-53 1389,-53 1383,-47 1383,-41 1383,-41 1383,-12 1383,-12 1383,-6 1389,0 1395,0 1395,0 1468,0 1468,0 1474,0 1480,-6 1480,-12 1480,-12 1480,-41 1480,-41 1480,-47 1474,-53 1468,-53\"/>\n",
       "<text text-anchor=\"middle\" x=\"1431.5\" y=\"-37.8\" font-family=\"Helvetica,sans-Serif\" font-size=\"14.00\">gini = 0.0</text>\n",
       "<text text-anchor=\"middle\" x=\"1431.5\" y=\"-22.8\" font-family=\"Helvetica,sans-Serif\" font-size=\"14.00\">samples = 1</text>\n",
       "<text text-anchor=\"middle\" x=\"1431.5\" y=\"-7.8\" font-family=\"Helvetica,sans-Serif\" font-size=\"14.00\">value = [0, 1]</text>\n",
       "</g>\n",
       "<!-- 21&#45;&gt;23 -->\n",
       "<g id=\"edge23\" class=\"edge\">\n",
       "<title>21&#45;&gt;23</title>\n",
       "<path fill=\"none\" stroke=\"black\" d=\"M1362.57,-88.95C1373.04,-79.62 1384.42,-69.47 1394.86,-60.16\"/>\n",
       "<polygon fill=\"black\" stroke=\"black\" points=\"1397.5,-62.5 1402.63,-53.24 1392.84,-57.28 1397.5,-62.5\"/>\n",
       "</g>\n",
       "<!-- 25 -->\n",
       "<g id=\"node26\" class=\"node\">\n",
       "<title>25</title>\n",
       "<path fill=\"#f8e0ce\" stroke=\"black\" d=\"M1642,-157C1642,-157 1535,-157 1535,-157 1529,-157 1523,-151 1523,-145 1523,-145 1523,-101 1523,-101 1523,-95 1529,-89 1535,-89 1535,-89 1642,-89 1642,-89 1648,-89 1654,-95 1654,-101 1654,-101 1654,-145 1654,-145 1654,-151 1648,-157 1642,-157\"/>\n",
       "<text text-anchor=\"middle\" x=\"1588.5\" y=\"-141.8\" font-family=\"Helvetica,sans-Serif\" font-size=\"14.00\">LoyalCH &lt;= 0.975</text>\n",
       "<text text-anchor=\"middle\" x=\"1588.5\" y=\"-126.8\" font-family=\"Helvetica,sans-Serif\" font-size=\"14.00\">gini = 0.49</text>\n",
       "<text text-anchor=\"middle\" x=\"1588.5\" y=\"-111.8\" font-family=\"Helvetica,sans-Serif\" font-size=\"14.00\">samples = 14</text>\n",
       "<text text-anchor=\"middle\" x=\"1588.5\" y=\"-96.8\" font-family=\"Helvetica,sans-Serif\" font-size=\"14.00\">value = [8, 6]</text>\n",
       "</g>\n",
       "<!-- 24&#45;&gt;25 -->\n",
       "<g id=\"edge25\" class=\"edge\">\n",
       "<title>24&#45;&gt;25</title>\n",
       "<path fill=\"none\" stroke=\"black\" d=\"M1588.5,-192.88C1588.5,-184.78 1588.5,-175.98 1588.5,-167.47\"/>\n",
       "<polygon fill=\"black\" stroke=\"black\" points=\"1592,-167.3 1588.5,-157.3 1585,-167.3 1592,-167.3\"/>\n",
       "</g>\n",
       "<!-- 28 -->\n",
       "<g id=\"node29\" class=\"node\">\n",
       "<title>28</title>\n",
       "<path fill=\"#e68641\" stroke=\"black\" d=\"M1827,-157C1827,-157 1726,-157 1726,-157 1720,-157 1714,-151 1714,-145 1714,-145 1714,-101 1714,-101 1714,-95 1720,-89 1726,-89 1726,-89 1827,-89 1827,-89 1833,-89 1839,-95 1839,-101 1839,-101 1839,-145 1839,-145 1839,-151 1833,-157 1827,-157\"/>\n",
       "<text text-anchor=\"middle\" x=\"1776.5\" y=\"-141.8\" font-family=\"Helvetica,sans-Serif\" font-size=\"14.00\">PriceMM &lt;= 1.74</text>\n",
       "<text text-anchor=\"middle\" x=\"1776.5\" y=\"-126.8\" font-family=\"Helvetica,sans-Serif\" font-size=\"14.00\">gini = 0.073</text>\n",
       "<text text-anchor=\"middle\" x=\"1776.5\" y=\"-111.8\" font-family=\"Helvetica,sans-Serif\" font-size=\"14.00\">samples = 288</text>\n",
       "<text text-anchor=\"middle\" x=\"1776.5\" y=\"-96.8\" font-family=\"Helvetica,sans-Serif\" font-size=\"14.00\">value = [277, 11]</text>\n",
       "</g>\n",
       "<!-- 24&#45;&gt;28 -->\n",
       "<g id=\"edge28\" class=\"edge\">\n",
       "<title>24&#45;&gt;28</title>\n",
       "<path fill=\"none\" stroke=\"black\" d=\"M1649.54,-192.88C1667.77,-182.99 1687.9,-172.07 1706.65,-161.9\"/>\n",
       "<polygon fill=\"black\" stroke=\"black\" points=\"1708.33,-164.97 1715.45,-157.12 1704.99,-158.82 1708.33,-164.97\"/>\n",
       "</g>\n",
       "<!-- 26 -->\n",
       "<g id=\"node27\" class=\"node\">\n",
       "<title>26</title>\n",
       "<path fill=\"#88c4ef\" stroke=\"black\" d=\"M1583,-53C1583,-53 1510,-53 1510,-53 1504,-53 1498,-47 1498,-41 1498,-41 1498,-12 1498,-12 1498,-6 1504,0 1510,0 1510,0 1583,0 1583,0 1589,0 1595,-6 1595,-12 1595,-12 1595,-41 1595,-41 1595,-47 1589,-53 1583,-53\"/>\n",
       "<text text-anchor=\"middle\" x=\"1546.5\" y=\"-37.8\" font-family=\"Helvetica,sans-Serif\" font-size=\"14.00\">gini = 0.408</text>\n",
       "<text text-anchor=\"middle\" x=\"1546.5\" y=\"-22.8\" font-family=\"Helvetica,sans-Serif\" font-size=\"14.00\">samples = 7</text>\n",
       "<text text-anchor=\"middle\" x=\"1546.5\" y=\"-7.8\" font-family=\"Helvetica,sans-Serif\" font-size=\"14.00\">value = [2, 5]</text>\n",
       "</g>\n",
       "<!-- 25&#45;&gt;26 -->\n",
       "<g id=\"edge26\" class=\"edge\">\n",
       "<title>25&#45;&gt;26</title>\n",
       "<path fill=\"none\" stroke=\"black\" d=\"M1573.81,-88.95C1570.03,-80.44 1565.95,-71.26 1562.12,-62.65\"/>\n",
       "<polygon fill=\"black\" stroke=\"black\" points=\"1565.2,-60.95 1557.94,-53.24 1558.8,-63.8 1565.2,-60.95\"/>\n",
       "</g>\n",
       "<!-- 27 -->\n",
       "<g id=\"node28\" class=\"node\">\n",
       "<title>27</title>\n",
       "<path fill=\"#e9965a\" stroke=\"black\" d=\"M1698,-53C1698,-53 1625,-53 1625,-53 1619,-53 1613,-47 1613,-41 1613,-41 1613,-12 1613,-12 1613,-6 1619,0 1625,0 1625,0 1698,0 1698,0 1704,0 1710,-6 1710,-12 1710,-12 1710,-41 1710,-41 1710,-47 1704,-53 1698,-53\"/>\n",
       "<text text-anchor=\"middle\" x=\"1661.5\" y=\"-37.8\" font-family=\"Helvetica,sans-Serif\" font-size=\"14.00\">gini = 0.245</text>\n",
       "<text text-anchor=\"middle\" x=\"1661.5\" y=\"-22.8\" font-family=\"Helvetica,sans-Serif\" font-size=\"14.00\">samples = 7</text>\n",
       "<text text-anchor=\"middle\" x=\"1661.5\" y=\"-7.8\" font-family=\"Helvetica,sans-Serif\" font-size=\"14.00\">value = [6, 1]</text>\n",
       "</g>\n",
       "<!-- 25&#45;&gt;27 -->\n",
       "<g id=\"edge27\" class=\"edge\">\n",
       "<title>25&#45;&gt;27</title>\n",
       "<path fill=\"none\" stroke=\"black\" d=\"M1614.03,-88.95C1620.96,-79.98 1628.46,-70.27 1635.42,-61.26\"/>\n",
       "<polygon fill=\"black\" stroke=\"black\" points=\"1638.28,-63.29 1641.62,-53.24 1632.74,-59.01 1638.28,-63.29\"/>\n",
       "</g>\n",
       "<!-- 29 -->\n",
       "<g id=\"node30\" class=\"node\">\n",
       "<title>29</title>\n",
       "<path fill=\"#ffffff\" stroke=\"black\" d=\"M1813,-53C1813,-53 1740,-53 1740,-53 1734,-53 1728,-47 1728,-41 1728,-41 1728,-12 1728,-12 1728,-6 1734,0 1740,0 1740,0 1813,0 1813,0 1819,0 1825,-6 1825,-12 1825,-12 1825,-41 1825,-41 1825,-47 1819,-53 1813,-53\"/>\n",
       "<text text-anchor=\"middle\" x=\"1776.5\" y=\"-37.8\" font-family=\"Helvetica,sans-Serif\" font-size=\"14.00\">gini = 0.5</text>\n",
       "<text text-anchor=\"middle\" x=\"1776.5\" y=\"-22.8\" font-family=\"Helvetica,sans-Serif\" font-size=\"14.00\">samples = 2</text>\n",
       "<text text-anchor=\"middle\" x=\"1776.5\" y=\"-7.8\" font-family=\"Helvetica,sans-Serif\" font-size=\"14.00\">value = [1, 1]</text>\n",
       "</g>\n",
       "<!-- 28&#45;&gt;29 -->\n",
       "<g id=\"edge29\" class=\"edge\">\n",
       "<title>28&#45;&gt;29</title>\n",
       "<path fill=\"none\" stroke=\"black\" d=\"M1776.5,-88.95C1776.5,-80.72 1776.5,-71.85 1776.5,-63.48\"/>\n",
       "<polygon fill=\"black\" stroke=\"black\" points=\"1780,-63.24 1776.5,-53.24 1773,-63.24 1780,-63.24\"/>\n",
       "</g>\n",
       "<!-- 30 -->\n",
       "<g id=\"node31\" class=\"node\">\n",
       "<title>30</title>\n",
       "<path fill=\"#e68640\" stroke=\"black\" d=\"M1953.5,-53C1953.5,-53 1855.5,-53 1855.5,-53 1849.5,-53 1843.5,-47 1843.5,-41 1843.5,-41 1843.5,-12 1843.5,-12 1843.5,-6 1849.5,0 1855.5,0 1855.5,0 1953.5,0 1953.5,0 1959.5,0 1965.5,-6 1965.5,-12 1965.5,-12 1965.5,-41 1965.5,-41 1965.5,-47 1959.5,-53 1953.5,-53\"/>\n",
       "<text text-anchor=\"middle\" x=\"1904.5\" y=\"-37.8\" font-family=\"Helvetica,sans-Serif\" font-size=\"14.00\">gini = 0.067</text>\n",
       "<text text-anchor=\"middle\" x=\"1904.5\" y=\"-22.8\" font-family=\"Helvetica,sans-Serif\" font-size=\"14.00\">samples = 286</text>\n",
       "<text text-anchor=\"middle\" x=\"1904.5\" y=\"-7.8\" font-family=\"Helvetica,sans-Serif\" font-size=\"14.00\">value = [276, 10]</text>\n",
       "</g>\n",
       "<!-- 28&#45;&gt;30 -->\n",
       "<g id=\"edge30\" class=\"edge\">\n",
       "<title>28&#45;&gt;30</title>\n",
       "<path fill=\"none\" stroke=\"black\" d=\"M1821.27,-88.95C1834.28,-79.34 1848.46,-68.87 1861.37,-59.34\"/>\n",
       "<polygon fill=\"black\" stroke=\"black\" points=\"1863.67,-61.99 1869.64,-53.24 1859.52,-56.36 1863.67,-61.99\"/>\n",
       "</g>\n",
       "</g>\n",
       "</svg>\n"
      ],
      "text/plain": [
       "<graphviz.sources.Source at 0x20846e7bf70>"
      ]
     },
     "execution_count": 34,
     "metadata": {},
     "output_type": "execute_result"
    }
   ],
   "source": [
    "# Plot Tree\n",
    "tree_oj_graph = export_graphviz(tree, \n",
    "                                    out_file = None, \n",
    "                                    feature_names = X_train.columns,\n",
    "                                    filled = True, \n",
    "                                    rounded = True)\n",
    "\n",
    "Source(tree_oj_graph)"
   ]
  },
  {
   "cell_type": "markdown",
   "id": "d668d562",
   "metadata": {},
   "source": [
    "**e) Predict the response on the test data, and produce a confusion matrix comparing the test labels to the predicted test labels. What is the test error rate?**"
   ]
  },
  {
   "cell_type": "code",
   "execution_count": 35,
   "id": "c41493b2",
   "metadata": {},
   "outputs": [
    {
     "name": "stdout",
     "output_type": "stream",
     "text": [
      "The Accuracy for the Tree is: 0.8148148148148148\n"
     ]
    }
   ],
   "source": [
    "print(\"The Accuracy for the Tree is:\", accuracy_score(y_test, tree.predict(X_test)))"
   ]
  },
  {
   "cell_type": "code",
   "execution_count": 36,
   "id": "659f5290",
   "metadata": {},
   "outputs": [
    {
     "data": {
      "text/plain": [
       "array([[131,  27],\n",
       "       [ 23,  89]], dtype=int64)"
      ]
     },
     "execution_count": 36,
     "metadata": {},
     "output_type": "execute_result"
    }
   ],
   "source": [
    "confusion_matrix(y_test, tree.predict(X_test))"
   ]
  },
  {
   "cell_type": "markdown",
   "id": "7d1eb791",
   "metadata": {},
   "source": [
    "**f) Apply the cv.tree() function to the training set in order to determine the optimal tree size.**"
   ]
  },
  {
   "cell_type": "code",
   "execution_count": 37,
   "id": "b13ffe12",
   "metadata": {},
   "outputs": [
    {
     "data": {
      "text/plain": [
       "GridSearchCV(cv=10, estimator=DecisionTreeClassifier(random_state=123),\n",
       "             param_grid={'max_depth': range(1, 30)}, return_train_score=True,\n",
       "             scoring='accuracy')"
      ]
     },
     "execution_count": 37,
     "metadata": {},
     "output_type": "execute_result"
    }
   ],
   "source": [
    "tree_base_model = DecisionTreeClassifier(random_state = 123)\n",
    "\n",
    "tree_grid = GridSearchCV(estimator = tree_base_model,\n",
    "                        param_grid = {\"max_depth\": range(1, 30)},\n",
    "                        scoring = \"accuracy\",\n",
    "                        cv = 10,\n",
    "                        refit = True,\n",
    "                        return_train_score = True)\n",
    "tree_grid.fit(X_train, y_train)"
   ]
  },
  {
   "cell_type": "markdown",
   "id": "b9818a87",
   "metadata": {},
   "source": [
    "**g) Produce a plot with tree size on the x-axis and cross-validated classification error rate on the y-axis.**"
   ]
  },
  {
   "cell_type": "code",
   "execution_count": 38,
   "id": "bd1b0c93",
   "metadata": {},
   "outputs": [
    {
     "data": {
      "image/png": "[encoded data removed]",
      "text/plain": [
       "<Figure size 432x276.48 with 1 Axes>"
      ]
     },
     "metadata": {},
     "output_type": "display_data"
    }
   ],
   "source": [
    "fig, ax = plt.subplots(figsize=(6, 3.84))\n",
    "scores = pd.DataFrame(tree_grid.cv_results_)\n",
    "scores.plot(x='param_max_depth', y='mean_train_score', yerr='std_train_score', ax=ax)\n",
    "scores.plot(x='param_max_depth', y='mean_test_score', yerr='std_test_score', ax=ax)\n",
    "ax.set_title(\"Score Cross Validation\");"
   ]
  },
  {
   "cell_type": "markdown",
   "id": "0ba97ddf",
   "metadata": {},
   "source": [
    "**h) Which tree size corresponds to the lowest cross-validated classification error rate?**"
   ]
  },
  {
   "cell_type": "markdown",
   "id": "f40f09a4",
   "metadata": {},
   "source": [
    "The best tree is when max_depth is 1."
   ]
  },
  {
   "cell_type": "code",
   "execution_count": 39,
   "id": "196b7f09",
   "metadata": {},
   "outputs": [
    {
     "data": {
      "text/plain": [
       "{'max_depth': 1}"
      ]
     },
     "execution_count": 39,
     "metadata": {},
     "output_type": "execute_result"
    }
   ],
   "source": [
    "tree_grid.best_params_"
   ]
  },
  {
   "cell_type": "markdown",
   "id": "183fd4e6",
   "metadata": {},
   "source": [
    "**i) Produce a pruned tree corresponding to the optimal tree size obtained using cross-validation. If cross-validation does not lead to selection of a pruned tree, then create a pruned tree with five terminal nodes.**"
   ]
  },
  {
   "cell_type": "markdown",
   "id": "1c2a6da6",
   "metadata": {},
   "source": [
    "In this case pruned is not necessary beacuse we have just two terminal nodes(beacuse max_depth = 1). Then we are going to fit a new tree with 5 nodes and we are going to apply pruning."
   ]
  },
  {
   "cell_type": "code",
   "execution_count": 40,
   "id": "b821be23",
   "metadata": {},
   "outputs": [
    {
     "data": {
      "text/plain": [
       "DecisionTreeClassifier(max_leaf_nodes=5, random_state=123)"
      ]
     },
     "execution_count": 40,
     "metadata": {},
     "output_type": "execute_result"
    }
   ],
   "source": [
    "tree_5 = DecisionTreeClassifier(max_leaf_nodes = 5,random_state = 123)\n",
    "tree_5.fit(X_train, y_train)"
   ]
  },
  {
   "cell_type": "code",
   "execution_count": 41,
   "id": "0adf6a9d",
   "metadata": {},
   "outputs": [
    {
     "name": "stdout",
     "output_type": "stream",
     "text": [
      "The Tree has 5 nodes.\n",
      "The Tree has 3 depth.\n",
      "The Accuracy for the Tree with 5 nodes is: 0.7962962962962963\n"
     ]
    }
   ],
   "source": [
    "print(\"The Tree has\", tree_5.get_n_leaves(), \"nodes.\")\n",
    "print(\"The Tree has\", tree_5.get_depth(), \"depth.\")\n",
    "print(\"The Accuracy for the Tree with 5 nodes is:\", accuracy_score(y_test, tree_5.predict(X_test)))"
   ]
  },
  {
   "cell_type": "code",
   "execution_count": 42,
   "id": "96ee4c2c",
   "metadata": {},
   "outputs": [
    {
     "data": {
      "text/plain": [
       "GridSearchCV(cv=10,\n",
       "             estimator=DecisionTreeClassifier(max_leaf_nodes=5,\n",
       "                                              random_state=123),\n",
       "             param_grid={'ccp_alpha': array([0.        , 0.01124177, 0.0151388 , 0.01739109, 0.17268158])},\n",
       "             return_train_score=True, scoring='accuracy')"
      ]
     },
     "execution_count": 42,
     "metadata": {},
     "output_type": "execute_result"
    }
   ],
   "source": [
    "# Cross Validation\n",
    "tree_base_model_5 = DecisionTreeClassifier(max_leaf_nodes = 5,random_state = 123)\n",
    "alphas = tree_base_model_5.cost_complexity_pruning_path(X_train, y_train)[\"ccp_alphas\"]\n",
    "\n",
    "tree_grid_5 = GridSearchCV(estimator = tree_base_model_5,\n",
    "                          param_grid = {\"ccp_alpha\": alphas},\n",
    "                          scoring = \"accuracy\",\n",
    "                          cv = 10,\n",
    "                          return_train_score = True,\n",
    "                          refit = True)\n",
    "tree_grid_5.fit(X_train, y_train)"
   ]
  },
  {
   "cell_type": "code",
   "execution_count": 43,
   "id": "4841729f",
   "metadata": {},
   "outputs": [],
   "source": [
    "best_tree = tree_grid_5.best_estimator_"
   ]
  },
  {
   "cell_type": "code",
   "execution_count": 44,
   "id": "44dfc920",
   "metadata": {},
   "outputs": [
    {
     "name": "stdout",
     "output_type": "stream",
     "text": [
      "The Pruned Tree has 2 nodes.\n",
      "The Pruned Tree has 1 depth.\n",
      "The Accuracy for the Pruned Tree is: 0.7962962962962963\n"
     ]
    }
   ],
   "source": [
    "print(\"The Pruned Tree has\", best_tree.get_n_leaves(), \"nodes.\")\n",
    "print(\"The Pruned Tree has\", best_tree.get_depth(), \"depth.\")\n",
    "print(\"The Accuracy for the Pruned Tree is:\", accuracy_score(y_test, best_tree.predict(X_test)))"
   ]
  },
  {
   "cell_type": "markdown",
   "id": "816c8993",
   "metadata": {},
   "source": [
    "**j) Compare the training error rates between the pruned and unpruned trees. Which is higher?**"
   ]
  },
  {
   "cell_type": "code",
   "execution_count": 45,
   "id": "b333d61c",
   "metadata": {},
   "outputs": [
    {
     "name": "stdout",
     "output_type": "stream",
     "text": [
      "The Train Accuracy Score for the Pruned Tree is: 0.81375\n",
      "The Train Accuracy Score for the Unpruned Tree is: 0.81375\n"
     ]
    }
   ],
   "source": [
    "print(\"The Train Accuracy Score for the Pruned Tree is:\", accuracy_score(y_train, best_tree.predict(X_train)))\n",
    "print(\"The Train Accuracy Score for the Unpruned Tree is:\", accuracy_score(y_train, tree_5.predict(X_train)))"
   ]
  },
  {
   "cell_type": "markdown",
   "id": "3fc83648",
   "metadata": {},
   "source": [
    "**k) Compare the test error rates between the pruned and unpruned trees. Which is higher?**"
   ]
  },
  {
   "cell_type": "code",
   "execution_count": 46,
   "id": "673b5130",
   "metadata": {},
   "outputs": [
    {
     "name": "stdout",
     "output_type": "stream",
     "text": [
      "The Test Accuracy Score for the Pruned Tree is: 0.7962962962962963\n",
      "The Test Accuracy Score for the Unpruned Tree is: 0.7962962962962963\n"
     ]
    }
   ],
   "source": [
    "print(\"The Test Accuracy Score for the Pruned Tree is:\", accuracy_score(y_test, best_tree.predict(X_test)))\n",
    "print(\"The Test Accuracy Score for the Unpruned Tree is:\", accuracy_score(y_test, tree_5.predict(X_test)))"
   ]
  },
  {
   "cell_type": "markdown",
   "id": "a5e83b06",
   "metadata": {},
   "source": [
    "### Exercise 10\n",
    "We now use boosting to predict Salary in the Hitters data set.\n",
    "\n",
    "    a) Remove the observations for whom the salary information is unknown, and then log-transform the salaries.\n",
    "    b) Create a training set consisting of the first 200 observations, and a test set consisting of the remaining observations.\n",
    "    c) Perform boosting on the training set with 1,000 trees for a range of values of the shrinkage parameter λ. Produce a plot with different shrinkage values on the x-axis and the corresponding training set MSE on the y-axis.\n",
    "    d) Produce a plot with different shrinkage values on the x-axis and the corresponding test set MSE on the y-axis.\n",
    "    e) Compare the test MSE of boosting to the test MSE that results from applying two of the regression approaches seen in Chapters 3 and 6.\n",
    "    f) Which variables appear to be the most important predictors in the boosted model?\n",
    "    g) Now apply bagging to the training set. What is the test set MSE for this approach?"
   ]
  },
  {
   "cell_type": "markdown",
   "id": "c89af28a",
   "metadata": {},
   "source": [
    "### Solution 10"
   ]
  },
  {
   "cell_type": "code",
   "execution_count": 155,
   "id": "2f4acabb",
   "metadata": {},
   "outputs": [],
   "source": [
    "import numpy as np\n",
    "import pandas as pd\n",
    "from tqdm.notebook import tqdm\n",
    "from sklearn.model_selection import train_test_split\n",
    "from sklearn.ensemble import GradientBoostingRegressor, RandomForestRegressor\n",
    "from sklearn.linear_model import Ridge, Lasso\n",
    "from sklearn.metrics import mean_squared_error\n",
    "import warnings"
   ]
  },
  {
   "cell_type": "code",
   "execution_count": 86,
   "id": "f261e3a7",
   "metadata": {},
   "outputs": [
    {
     "data": {
      "text/html": [
       "<div>\n",
       "<style scoped>\n",
       "    .dataframe tbody tr th:only-of-type {\n",
       "        vertical-align: middle;\n",
       "    }\n",
       "\n",
       "    .dataframe tbody tr th {\n",
       "        vertical-align: top;\n",
       "    }\n",
       "\n",
       "    .dataframe thead th {\n",
       "        text-align: right;\n",
       "    }\n",
       "</style>\n",
       "<table border=\"1\" class=\"dataframe\">\n",
       "  <thead>\n",
       "    <tr style=\"text-align: right;\">\n",
       "      <th></th>\n",
       "      <th>Player</th>\n",
       "      <th>AtBat</th>\n",
       "      <th>Hits</th>\n",
       "      <th>HmRun</th>\n",
       "      <th>Runs</th>\n",
       "      <th>RBI</th>\n",
       "      <th>Walks</th>\n",
       "      <th>Years</th>\n",
       "      <th>CAtBat</th>\n",
       "      <th>CHits</th>\n",
       "      <th>...</th>\n",
       "      <th>CRuns</th>\n",
       "      <th>CRBI</th>\n",
       "      <th>CWalks</th>\n",
       "      <th>League</th>\n",
       "      <th>Division</th>\n",
       "      <th>PutOuts</th>\n",
       "      <th>Assists</th>\n",
       "      <th>Errors</th>\n",
       "      <th>Salary</th>\n",
       "      <th>NewLeague</th>\n",
       "    </tr>\n",
       "  </thead>\n",
       "  <tbody>\n",
       "    <tr>\n",
       "      <th>0</th>\n",
       "      <td>-Andy Allanson</td>\n",
       "      <td>293</td>\n",
       "      <td>66</td>\n",
       "      <td>1</td>\n",
       "      <td>30</td>\n",
       "      <td>29</td>\n",
       "      <td>14</td>\n",
       "      <td>1</td>\n",
       "      <td>293</td>\n",
       "      <td>66</td>\n",
       "      <td>...</td>\n",
       "      <td>30</td>\n",
       "      <td>29</td>\n",
       "      <td>14</td>\n",
       "      <td>A</td>\n",
       "      <td>E</td>\n",
       "      <td>446</td>\n",
       "      <td>33</td>\n",
       "      <td>20</td>\n",
       "      <td>NaN</td>\n",
       "      <td>A</td>\n",
       "    </tr>\n",
       "    <tr>\n",
       "      <th>1</th>\n",
       "      <td>-Alan Ashby</td>\n",
       "      <td>315</td>\n",
       "      <td>81</td>\n",
       "      <td>7</td>\n",
       "      <td>24</td>\n",
       "      <td>38</td>\n",
       "      <td>39</td>\n",
       "      <td>14</td>\n",
       "      <td>3449</td>\n",
       "      <td>835</td>\n",
       "      <td>...</td>\n",
       "      <td>321</td>\n",
       "      <td>414</td>\n",
       "      <td>375</td>\n",
       "      <td>N</td>\n",
       "      <td>W</td>\n",
       "      <td>632</td>\n",
       "      <td>43</td>\n",
       "      <td>10</td>\n",
       "      <td>475.0</td>\n",
       "      <td>N</td>\n",
       "    </tr>\n",
       "    <tr>\n",
       "      <th>2</th>\n",
       "      <td>-Alvin Davis</td>\n",
       "      <td>479</td>\n",
       "      <td>130</td>\n",
       "      <td>18</td>\n",
       "      <td>66</td>\n",
       "      <td>72</td>\n",
       "      <td>76</td>\n",
       "      <td>3</td>\n",
       "      <td>1624</td>\n",
       "      <td>457</td>\n",
       "      <td>...</td>\n",
       "      <td>224</td>\n",
       "      <td>266</td>\n",
       "      <td>263</td>\n",
       "      <td>A</td>\n",
       "      <td>W</td>\n",
       "      <td>880</td>\n",
       "      <td>82</td>\n",
       "      <td>14</td>\n",
       "      <td>480.0</td>\n",
       "      <td>A</td>\n",
       "    </tr>\n",
       "    <tr>\n",
       "      <th>3</th>\n",
       "      <td>-Andre Dawson</td>\n",
       "      <td>496</td>\n",
       "      <td>141</td>\n",
       "      <td>20</td>\n",
       "      <td>65</td>\n",
       "      <td>78</td>\n",
       "      <td>37</td>\n",
       "      <td>11</td>\n",
       "      <td>5628</td>\n",
       "      <td>1575</td>\n",
       "      <td>...</td>\n",
       "      <td>828</td>\n",
       "      <td>838</td>\n",
       "      <td>354</td>\n",
       "      <td>N</td>\n",
       "      <td>E</td>\n",
       "      <td>200</td>\n",
       "      <td>11</td>\n",
       "      <td>3</td>\n",
       "      <td>500.0</td>\n",
       "      <td>N</td>\n",
       "    </tr>\n",
       "    <tr>\n",
       "      <th>4</th>\n",
       "      <td>-Andres Galarraga</td>\n",
       "      <td>321</td>\n",
       "      <td>87</td>\n",
       "      <td>10</td>\n",
       "      <td>39</td>\n",
       "      <td>42</td>\n",
       "      <td>30</td>\n",
       "      <td>2</td>\n",
       "      <td>396</td>\n",
       "      <td>101</td>\n",
       "      <td>...</td>\n",
       "      <td>48</td>\n",
       "      <td>46</td>\n",
       "      <td>33</td>\n",
       "      <td>N</td>\n",
       "      <td>E</td>\n",
       "      <td>805</td>\n",
       "      <td>40</td>\n",
       "      <td>4</td>\n",
       "      <td>91.5</td>\n",
       "      <td>N</td>\n",
       "    </tr>\n",
       "  </tbody>\n",
       "</table>\n",
       "<p>5 rows × 21 columns</p>\n",
       "</div>"
      ],
      "text/plain": [
       "              Player  AtBat  Hits  HmRun  Runs  RBI  Walks  Years  CAtBat  \\\n",
       "0     -Andy Allanson    293    66      1    30   29     14      1     293   \n",
       "1        -Alan Ashby    315    81      7    24   38     39     14    3449   \n",
       "2       -Alvin Davis    479   130     18    66   72     76      3    1624   \n",
       "3      -Andre Dawson    496   141     20    65   78     37     11    5628   \n",
       "4  -Andres Galarraga    321    87     10    39   42     30      2     396   \n",
       "\n",
       "   CHits  ...  CRuns  CRBI  CWalks  League Division PutOuts  Assists  Errors  \\\n",
       "0     66  ...     30    29      14       A        E     446       33      20   \n",
       "1    835  ...    321   414     375       N        W     632       43      10   \n",
       "2    457  ...    224   266     263       A        W     880       82      14   \n",
       "3   1575  ...    828   838     354       N        E     200       11       3   \n",
       "4    101  ...     48    46      33       N        E     805       40       4   \n",
       "\n",
       "   Salary  NewLeague  \n",
       "0     NaN          A  \n",
       "1   475.0          N  \n",
       "2   480.0          A  \n",
       "3   500.0          N  \n",
       "4    91.5          N  \n",
       "\n",
       "[5 rows x 21 columns]"
      ]
     },
     "execution_count": 86,
     "metadata": {},
     "output_type": "execute_result"
    }
   ],
   "source": [
    "hitters = pd.read_csv(\"data/Hitters.csv\")\n",
    "hitters.head()"
   ]
  },
  {
   "cell_type": "markdown",
   "id": "f695e995",
   "metadata": {},
   "source": [
    "**a) Remove the observations for whom the salary information is unknown, and then log-transform the salaries.**"
   ]
  },
  {
   "cell_type": "code",
   "execution_count": 87,
   "id": "0d936a8f",
   "metadata": {},
   "outputs": [],
   "source": [
    "hitters = hitters[~(hitters[\"Salary\"].isna())].reset_index(drop = True)"
   ]
  },
  {
   "cell_type": "markdown",
   "id": "1836b57f",
   "metadata": {},
   "source": [
    "**b) Create a training set consisting of the first 200 observations, and a test set consisting of the remaining observations.**"
   ]
  },
  {
   "cell_type": "code",
   "execution_count": 88,
   "id": "fd04593e",
   "metadata": {},
   "outputs": [],
   "source": [
    "# Target and Predictor Variables\n",
    "X = hitters.drop([\"Salary\", \"Player\"], axis = 1) # The Player Name is useless\n",
    "y = hitters[\"Salary\"]"
   ]
  },
  {
   "cell_type": "code",
   "execution_count": 89,
   "id": "6ab2b90c",
   "metadata": {},
   "outputs": [],
   "source": [
    "# Split Data\n",
    "X_train, X_test, y_train, y_test = train_test_split(X, y, train_size = 200, random_state = 123)"
   ]
  },
  {
   "cell_type": "markdown",
   "id": "b4c7287f",
   "metadata": {},
   "source": [
    "**c) Perform boosting on the training set with 1,000 trees for a range of values of the shrinkage parameter λ. Produce a plot with different shrinkage values on the x-axis and the corresponding training set MSE on the y-axis.**"
   ]
  },
  {
   "cell_type": "markdown",
   "id": "cb8cf380",
   "metadata": {},
   "source": [
    "Before to fit the boosting model we need to preprocess the data, we are going to use OneHotEncoder."
   ]
  },
  {
   "cell_type": "code",
   "execution_count": 92,
   "id": "2e59e80d",
   "metadata": {},
   "outputs": [
    {
     "data": {
      "text/html": [
       "<div>\n",
       "<style scoped>\n",
       "    .dataframe tbody tr th:only-of-type {\n",
       "        vertical-align: middle;\n",
       "    }\n",
       "\n",
       "    .dataframe tbody tr th {\n",
       "        vertical-align: top;\n",
       "    }\n",
       "\n",
       "    .dataframe thead th {\n",
       "        text-align: right;\n",
       "    }\n",
       "</style>\n",
       "<table border=\"1\" class=\"dataframe\">\n",
       "  <thead>\n",
       "    <tr style=\"text-align: right;\">\n",
       "      <th></th>\n",
       "      <th>League_A</th>\n",
       "      <th>League_N</th>\n",
       "      <th>Division_E</th>\n",
       "      <th>Division_W</th>\n",
       "      <th>NewLeague_A</th>\n",
       "      <th>NewLeague_N</th>\n",
       "      <th>AtBat</th>\n",
       "      <th>Hits</th>\n",
       "      <th>HmRun</th>\n",
       "      <th>Runs</th>\n",
       "      <th>...</th>\n",
       "      <th>Years</th>\n",
       "      <th>CAtBat</th>\n",
       "      <th>CHits</th>\n",
       "      <th>CHmRun</th>\n",
       "      <th>CRuns</th>\n",
       "      <th>CRBI</th>\n",
       "      <th>CWalks</th>\n",
       "      <th>PutOuts</th>\n",
       "      <th>Assists</th>\n",
       "      <th>Errors</th>\n",
       "    </tr>\n",
       "  </thead>\n",
       "  <tbody>\n",
       "    <tr>\n",
       "      <th>0</th>\n",
       "      <td>1.0</td>\n",
       "      <td>0.0</td>\n",
       "      <td>0.0</td>\n",
       "      <td>1.0</td>\n",
       "      <td>1.0</td>\n",
       "      <td>0.0</td>\n",
       "      <td>464.0</td>\n",
       "      <td>128.0</td>\n",
       "      <td>28.0</td>\n",
       "      <td>67.0</td>\n",
       "      <td>...</td>\n",
       "      <td>13.0</td>\n",
       "      <td>5829.0</td>\n",
       "      <td>1552.0</td>\n",
       "      <td>210.0</td>\n",
       "      <td>740.0</td>\n",
       "      <td>840.0</td>\n",
       "      <td>452.0</td>\n",
       "      <td>0.0</td>\n",
       "      <td>0.0</td>\n",
       "      <td>0.0</td>\n",
       "    </tr>\n",
       "    <tr>\n",
       "      <th>1</th>\n",
       "      <td>0.0</td>\n",
       "      <td>1.0</td>\n",
       "      <td>1.0</td>\n",
       "      <td>0.0</td>\n",
       "      <td>0.0</td>\n",
       "      <td>1.0</td>\n",
       "      <td>394.0</td>\n",
       "      <td>86.0</td>\n",
       "      <td>1.0</td>\n",
       "      <td>38.0</td>\n",
       "      <td>...</td>\n",
       "      <td>4.0</td>\n",
       "      <td>1089.0</td>\n",
       "      <td>267.0</td>\n",
       "      <td>3.0</td>\n",
       "      <td>94.0</td>\n",
       "      <td>71.0</td>\n",
       "      <td>76.0</td>\n",
       "      <td>203.0</td>\n",
       "      <td>369.0</td>\n",
       "      <td>16.0</td>\n",
       "    </tr>\n",
       "    <tr>\n",
       "      <th>2</th>\n",
       "      <td>0.0</td>\n",
       "      <td>1.0</td>\n",
       "      <td>0.0</td>\n",
       "      <td>1.0</td>\n",
       "      <td>0.0</td>\n",
       "      <td>1.0</td>\n",
       "      <td>474.0</td>\n",
       "      <td>129.0</td>\n",
       "      <td>10.0</td>\n",
       "      <td>50.0</td>\n",
       "      <td>...</td>\n",
       "      <td>10.0</td>\n",
       "      <td>2331.0</td>\n",
       "      <td>604.0</td>\n",
       "      <td>61.0</td>\n",
       "      <td>246.0</td>\n",
       "      <td>327.0</td>\n",
       "      <td>166.0</td>\n",
       "      <td>732.0</td>\n",
       "      <td>83.0</td>\n",
       "      <td>13.0</td>\n",
       "    </tr>\n",
       "    <tr>\n",
       "      <th>3</th>\n",
       "      <td>1.0</td>\n",
       "      <td>0.0</td>\n",
       "      <td>1.0</td>\n",
       "      <td>0.0</td>\n",
       "      <td>1.0</td>\n",
       "      <td>0.0</td>\n",
       "      <td>338.0</td>\n",
       "      <td>92.0</td>\n",
       "      <td>18.0</td>\n",
       "      <td>42.0</td>\n",
       "      <td>...</td>\n",
       "      <td>3.0</td>\n",
       "      <td>682.0</td>\n",
       "      <td>185.0</td>\n",
       "      <td>36.0</td>\n",
       "      <td>88.0</td>\n",
       "      <td>112.0</td>\n",
       "      <td>50.0</td>\n",
       "      <td>0.0</td>\n",
       "      <td>0.0</td>\n",
       "      <td>0.0</td>\n",
       "    </tr>\n",
       "    <tr>\n",
       "      <th>4</th>\n",
       "      <td>0.0</td>\n",
       "      <td>1.0</td>\n",
       "      <td>1.0</td>\n",
       "      <td>0.0</td>\n",
       "      <td>0.0</td>\n",
       "      <td>1.0</td>\n",
       "      <td>299.0</td>\n",
       "      <td>75.0</td>\n",
       "      <td>6.0</td>\n",
       "      <td>38.0</td>\n",
       "      <td>...</td>\n",
       "      <td>3.0</td>\n",
       "      <td>580.0</td>\n",
       "      <td>160.0</td>\n",
       "      <td>8.0</td>\n",
       "      <td>71.0</td>\n",
       "      <td>33.0</td>\n",
       "      <td>44.0</td>\n",
       "      <td>212.0</td>\n",
       "      <td>1.0</td>\n",
       "      <td>2.0</td>\n",
       "    </tr>\n",
       "  </tbody>\n",
       "</table>\n",
       "<p>5 rows × 22 columns</p>\n",
       "</div>"
      ],
      "text/plain": [
       "   League_A  League_N  Division_E  Division_W  NewLeague_A  NewLeague_N  \\\n",
       "0       1.0       0.0         0.0         1.0          1.0          0.0   \n",
       "1       0.0       1.0         1.0         0.0          0.0          1.0   \n",
       "2       0.0       1.0         0.0         1.0          0.0          1.0   \n",
       "3       1.0       0.0         1.0         0.0          1.0          0.0   \n",
       "4       0.0       1.0         1.0         0.0          0.0          1.0   \n",
       "\n",
       "   AtBat   Hits  HmRun  Runs  ...  Years  CAtBat   CHits  CHmRun  CRuns  \\\n",
       "0  464.0  128.0   28.0  67.0  ...   13.0  5829.0  1552.0   210.0  740.0   \n",
       "1  394.0   86.0    1.0  38.0  ...    4.0  1089.0   267.0     3.0   94.0   \n",
       "2  474.0  129.0   10.0  50.0  ...   10.0  2331.0   604.0    61.0  246.0   \n",
       "3  338.0   92.0   18.0  42.0  ...    3.0   682.0   185.0    36.0   88.0   \n",
       "4  299.0   75.0    6.0  38.0  ...    3.0   580.0   160.0     8.0   71.0   \n",
       "\n",
       "    CRBI  CWalks  PutOuts  Assists  Errors  \n",
       "0  840.0   452.0      0.0      0.0     0.0  \n",
       "1   71.0    76.0    203.0    369.0    16.0  \n",
       "2  327.0   166.0    732.0     83.0    13.0  \n",
       "3  112.0    50.0      0.0      0.0     0.0  \n",
       "4   33.0    44.0    212.0      1.0     2.0  \n",
       "\n",
       "[5 rows x 22 columns]"
      ]
     },
     "execution_count": 92,
     "metadata": {},
     "output_type": "execute_result"
    }
   ],
   "source": [
    "# Get Categorial Column Names\n",
    "cat_cols = X_train.select_dtypes(include = [\"object\"]).columns.to_list()\n",
    "numeric_cols = X_train.select_dtypes(include = [\"int64\"]).columns.to_list()\n",
    "\n",
    "# One-Hot-Encoding just for Categorical Columns\n",
    "preprocessor = ColumnTransformer(\n",
    "                    [('onehot', OneHotEncoder(handle_unknown = 'ignore'), cat_cols)],\n",
    "                    remainder='passthrough'\n",
    ")\n",
    "\n",
    "X_train_prep = preprocessor.fit_transform(X_train) # Numpy Array\n",
    "X_test_prep = preprocessor.transform(X_test) # Numpy Array\n",
    "\n",
    "# Get Labels for One-Hot-Encoding\n",
    "encoded_cat = preprocessor.named_transformers_['onehot'].get_feature_names_out(cat_cols)\n",
    "labels = np.concatenate([encoded_cat, numeric_cols])\n",
    "X_train_prep = pd.DataFrame(X_train_prep, columns=labels)\n",
    "X_test_prep = pd.DataFrame(X_test_prep, columns=labels)\n",
    "\n",
    "X_train_prep.head()"
   ]
  },
  {
   "cell_type": "code",
   "execution_count": 115,
   "id": "d644410f",
   "metadata": {},
   "outputs": [
    {
     "data": {
      "text/plain": [
       "GridSearchCV(cv=5,\n",
       "             estimator=GradientBoostingRegressor(n_estimators=1000,\n",
       "                                                 random_state=123),\n",
       "             param_grid={'learning_rate': array([0.001     , 0.00621053, 0.01142105, 0.01663158, 0.02184211,\n",
       "       0.02705263, 0.03226316, 0.03747368, 0.04268421, 0.04789474,\n",
       "       0.05310526, 0.05831579, 0.06352632, 0.06873684, 0.07394737,\n",
       "       0.07915789, 0.08436842, 0.08957895, 0.09478947, 0.1       ])},\n",
       "             return_train_score=True, scoring='neg_mean_squared_error')"
      ]
     },
     "execution_count": 115,
     "metadata": {},
     "output_type": "execute_result"
    }
   ],
   "source": [
    "boost_base_model = GradientBoostingRegressor(n_estimators = 1000, random_state = 123)\n",
    "\n",
    "boost_grid = GridSearchCV(estimator = boost_base_model,\n",
    "                         param_grid = {\"learning_rate\": np.linspace(0.001, 0.1, 20)},\n",
    "                         scoring = \"neg_mean_squared_error\",\n",
    "                         cv = 5,\n",
    "                         return_train_score = True,\n",
    "                         refit = True)\n",
    "boost_grid.fit(X_train_prep, y_train)"
   ]
  },
  {
   "cell_type": "code",
   "execution_count": 120,
   "id": "3015e2e0",
   "metadata": {},
   "outputs": [],
   "source": [
    "cv_results = pd.DataFrame(boost_grid.cv_results_)"
   ]
  },
  {
   "cell_type": "markdown",
   "id": "82bb87ef",
   "metadata": {},
   "source": [
    "If the lambda value increases the MSE deacreses beacuse the boosting model try to fit quickly the residuals. "
   ]
  },
  {
   "cell_type": "code",
   "execution_count": 123,
   "id": "d6425be2",
   "metadata": {},
   "outputs": [
    {
     "data": {
      "image/png": "[encoded data removed]",
      "text/plain": [
       "<Figure size 576x432 with 1 Axes>"
      ]
     },
     "metadata": {},
     "output_type": "display_data"
    }
   ],
   "source": [
    "# Plot Train Error\n",
    "plt.figure(figsize = (8, 6))\n",
    "\n",
    "plt.plot(cv_results.param_learning_rate, -cv_results.mean_train_score, label = \"MSE\")\n",
    "plt.title(\"Boosting Training Error\")\n",
    "plt.xlabel(\"$\\lambda$\")\n",
    "plt.ylabel(\"Training Error\")\n",
    "plt.legend();"
   ]
  },
  {
   "cell_type": "markdown",
   "id": "fee9f886",
   "metadata": {},
   "source": [
    "**d) Produce a plot with different shrinkage values on the x-axis and the corresponding test set MSE on the y-axis.**"
   ]
  },
  {
   "cell_type": "markdown",
   "id": "d98d9c5f",
   "metadata": {},
   "source": [
    "In the other hand if the value of lambda increases the MSE deacreses beacuse the model tend to overfit."
   ]
  },
  {
   "cell_type": "code",
   "execution_count": 124,
   "id": "5c5ccf7e",
   "metadata": {},
   "outputs": [
    {
     "data": {
      "image/png": "[encoded data removed]",
      "text/plain": [
       "<Figure size 576x432 with 1 Axes>"
      ]
     },
     "metadata": {},
     "output_type": "display_data"
    }
   ],
   "source": [
    "# Plot Test Error\n",
    "plt.figure(figsize = (8, 6))\n",
    "\n",
    "plt.plot(cv_results.param_learning_rate, -cv_results.mean_test_score, label = \"MSE\")\n",
    "plt.title(\"Boosting Testing Error\")\n",
    "plt.xlabel(\"$\\lambda$\")\n",
    "plt.ylabel(\"Testing Error\")\n",
    "plt.legend();"
   ]
  },
  {
   "cell_type": "markdown",
   "id": "cf163609",
   "metadata": {},
   "source": [
    "**e) Compare the test MSE of boosting to the test MSE that results from applying two of the regression approaches seen in Chapters 3 and 6.**"
   ]
  },
  {
   "cell_type": "code",
   "execution_count": 146,
   "id": "c987f973",
   "metadata": {},
   "outputs": [],
   "source": [
    "warnings.filterwarnings(\"ignore\")"
   ]
  },
  {
   "cell_type": "code",
   "execution_count": 143,
   "id": "e6bd90d9",
   "metadata": {},
   "outputs": [
    {
     "data": {
      "text/plain": [
       "GridSearchCV(cv=5, estimator=Ridge(),\n",
       "             param_grid={'alpha': [1e-15, 1e-10, 1e-08, 0.001, 0.01, 1, 5, 10,\n",
       "                                   20, 30, 35, 40, 45, 50, 55, 100, 200, 300,\n",
       "                                   500, 1000]},\n",
       "             scoring='neg_mean_squared_error')"
      ]
     },
     "execution_count": 143,
     "metadata": {},
     "output_type": "execute_result"
    }
   ],
   "source": [
    "# Ridge\n",
    "ridge = Ridge()\n",
    "parameters = {'alpha': [1e-15, 1e-10, 1e-8, 1e-3, 1e-2, 1, 5, 10, 20, 30, 35, 40, 45, 50, 55, 100, 200, 300, 500, 1000]}\n",
    "ridge_grid = GridSearchCV(estimator = ridge,\n",
    "                          param_grid = parameters,\n",
    "                          scoring = 'neg_mean_squared_error', \n",
    "                          cv = 5,\n",
    "                          refit = True)\n",
    "ridge_grid.fit(X_train_prep, y_train)"
   ]
  },
  {
   "cell_type": "code",
   "execution_count": 144,
   "id": "52afbb74",
   "metadata": {},
   "outputs": [],
   "source": [
    "ridge_best = ridge_grid.best_estimator_"
   ]
  },
  {
   "cell_type": "code",
   "execution_count": 145,
   "id": "1e12297e",
   "metadata": {},
   "outputs": [
    {
     "data": {
      "text/plain": [
       "GridSearchCV(cv=5, estimator=Lasso(),\n",
       "             param_grid={'alpha': [1e-15, 1e-10, 1e-08, 0.001, 0.01, 1, 5, 10,\n",
       "                                   20, 30, 35, 40, 45, 50, 55, 100, 200, 300,\n",
       "                                   500, 1000]},\n",
       "             scoring='neg_mean_squared_error')"
      ]
     },
     "execution_count": 145,
     "metadata": {},
     "output_type": "execute_result"
    }
   ],
   "source": [
    "# Lasso\n",
    "lasso = Lasso()\n",
    "parameters = {'alpha': [1e-15, 1e-10, 1e-8, 1e-3, 1e-2, 1, 5, 10, 20, 30, 35, 40, 45, 50, 55, 100, 200, 300, 500, 1000]}\n",
    "lasso_grid = GridSearchCV(estimator = lasso,\n",
    "                          param_grid = parameters,\n",
    "                          scoring = 'neg_mean_squared_error', \n",
    "                          cv = 5,\n",
    "                          refit = True)\n",
    "lasso_grid.fit(X_train_prep, y_train)"
   ]
  },
  {
   "cell_type": "markdown",
   "id": "23028324",
   "metadata": {},
   "source": [
    "The boosting model has the best MSE."
   ]
  },
  {
   "cell_type": "code",
   "execution_count": 151,
   "id": "c8bcebaa",
   "metadata": {},
   "outputs": [
    {
     "name": "stdout",
     "output_type": "stream",
     "text": [
      "The Test MSE for the Ridge Regression is: 143507.21060291896\n",
      "The Test MSE for the Lasso Regression is: 137362.6290831459\n",
      "The Test MSE for the Boosting is: 66549.98526362365\n"
     ]
    }
   ],
   "source": [
    "print(\"The Test MSE for the Ridge Regression is:\", mean_squared_error(y_test, ridge_best.predict(X_test_prep)))\n",
    "print(\"The Test MSE for the Lasso Regression is:\", mean_squared_error(y_test, lasso_best.predict(X_test_prep)))\n",
    "print(\"The Test MSE for the Boosting is:\", mean_squared_error(y_test, boost_grid.best_estimator_.predict(X_test_prep)))"
   ]
  },
  {
   "cell_type": "markdown",
   "id": "9be9a111",
   "metadata": {},
   "source": [
    "**f) Which variables appear to be the most important predictors in the boosted model?**"
   ]
  },
  {
   "cell_type": "markdown",
   "id": "36995022",
   "metadata": {},
   "source": [
    "The most important feature is CRBI whis is the Number of runs batted in during his career."
   ]
  },
  {
   "cell_type": "code",
   "execution_count": 154,
   "id": "9ebca8c0",
   "metadata": {},
   "outputs": [
    {
     "data": {
      "image/png": "[encoded data removed]",
      "text/plain": [
       "<Figure size 720x504 with 1 Axes>"
      ]
     },
     "metadata": {},
     "output_type": "display_data"
    }
   ],
   "source": [
    "plot_importances(X_train_prep.columns, boost_grid.best_estimator_.feature_importances_)"
   ]
  },
  {
   "cell_type": "markdown",
   "id": "8c97fcd2",
   "metadata": {},
   "source": [
    "**g) Now apply bagging to the training set. What is the test set MSE for this approach?**"
   ]
  },
  {
   "cell_type": "code",
   "execution_count": 156,
   "id": "32143caa",
   "metadata": {},
   "outputs": [
    {
     "data": {
      "text/plain": [
       "RandomForestRegressor(max_features=22, random_state=123)"
      ]
     },
     "execution_count": 156,
     "metadata": {},
     "output_type": "execute_result"
    }
   ],
   "source": [
    "# Fit Bagged Tree\n",
    "n_features = X_train_prep.shape[1]\n",
    "\n",
    "bag = RandomForestRegressor(max_features = n_features, random_state = 123)\n",
    "bag.fit(X_train_prep, y_train)"
   ]
  },
  {
   "cell_type": "markdown",
   "id": "7a5bc711",
   "metadata": {},
   "source": [
    "In this situation the best model was the Bagged tree."
   ]
  },
  {
   "cell_type": "code",
   "execution_count": 158,
   "id": "f7541b61",
   "metadata": {},
   "outputs": [
    {
     "name": "stdout",
     "output_type": "stream",
     "text": [
      "The Test MSE for the Ridge Regression is: 143507.21060291896\n",
      "The Test MSE for the Lasso Regression is: 137362.6290831459\n",
      "The Test MSE for the Boosting is: 66549.98526362365\n",
      "The Test MSE for the Bagged Tree is: 61450.51908610322\n"
     ]
    }
   ],
   "source": [
    "print(\"The Test MSE for the Ridge Regression is:\", mean_squared_error(y_test, ridge_best.predict(X_test_prep)))\n",
    "print(\"The Test MSE for the Lasso Regression is:\", mean_squared_error(y_test, lasso_best.predict(X_test_prep)))\n",
    "print(\"The Test MSE for the Boosting is:\", mean_squared_error(y_test, boost_grid.best_estimator_.predict(X_test_prep)))\n",
    "print(\"The Test MSE for the Bagged Tree is:\", mean_squared_error(y_test, bag.predict(X_test_prep)))"
   ]
  },
  {
   "cell_type": "markdown",
   "id": "39f04783",
   "metadata": {},
   "source": [
    "### Exercise 11\n",
    "\n",
    "This question uses the Caravan data set.\n",
    "\n",
    "    a) Create a training set consisting of the first 1,000 observations, and a test set consisting of the remaining observations.\n",
    "    b) Fit a boosting model to the training set with Purchase as the response and the other variables as predictors. Use 1,000 trees, and a shrinkage value of 0.01. Which predictors appear to be the most important?\n",
    "    c) Use the boosting model to predict the response on the test data. Predict that a person will make a purchase if the estimated probability of purchase is greater than 20 %. Form a confusion matrix. What fraction of the people predicted to make a purchase do in fact make one? How does this compare with the results obtained from applying KNN or logistic regression to this data set?"
   ]
  },
  {
   "cell_type": "code",
   "execution_count": 21,
   "id": "f7ae1457",
   "metadata": {},
   "outputs": [],
   "source": [
    "import numpy as np\n",
    "import pandas as pd\n",
    "import matplotlib.pyplot as plt\n",
    "from sklearn.model_selection import train_test_split\n",
    "from sklearn.ensemble import GradientBoostingClassifier\n",
    "from sklearn.preprocessing import LabelEncoder"
   ]
  },
  {
   "cell_type": "code",
   "execution_count": 7,
   "id": "1a04265c",
   "metadata": {},
   "outputs": [
    {
     "data": {
      "text/html": [
       "<div>\n",
       "<style scoped>\n",
       "    .dataframe tbody tr th:only-of-type {\n",
       "        vertical-align: middle;\n",
       "    }\n",
       "\n",
       "    .dataframe tbody tr th {\n",
       "        vertical-align: top;\n",
       "    }\n",
       "\n",
       "    .dataframe thead th {\n",
       "        text-align: right;\n",
       "    }\n",
       "</style>\n",
       "<table border=\"1\" class=\"dataframe\">\n",
       "  <thead>\n",
       "    <tr style=\"text-align: right;\">\n",
       "      <th></th>\n",
       "      <th>MOSTYPE</th>\n",
       "      <th>MAANTHUI</th>\n",
       "      <th>MGEMOMV</th>\n",
       "      <th>MGEMLEEF</th>\n",
       "      <th>MOSHOOFD</th>\n",
       "      <th>MGODRK</th>\n",
       "      <th>MGODPR</th>\n",
       "      <th>MGODOV</th>\n",
       "      <th>MGODGE</th>\n",
       "      <th>MRELGE</th>\n",
       "      <th>...</th>\n",
       "      <th>APERSONG</th>\n",
       "      <th>AGEZONG</th>\n",
       "      <th>AWAOREG</th>\n",
       "      <th>ABRAND</th>\n",
       "      <th>AZEILPL</th>\n",
       "      <th>APLEZIER</th>\n",
       "      <th>AFIETS</th>\n",
       "      <th>AINBOED</th>\n",
       "      <th>ABYSTAND</th>\n",
       "      <th>Purchase</th>\n",
       "    </tr>\n",
       "  </thead>\n",
       "  <tbody>\n",
       "    <tr>\n",
       "      <th>0</th>\n",
       "      <td>33</td>\n",
       "      <td>1</td>\n",
       "      <td>3</td>\n",
       "      <td>2</td>\n",
       "      <td>8</td>\n",
       "      <td>0</td>\n",
       "      <td>5</td>\n",
       "      <td>1</td>\n",
       "      <td>3</td>\n",
       "      <td>7</td>\n",
       "      <td>...</td>\n",
       "      <td>0</td>\n",
       "      <td>0</td>\n",
       "      <td>0</td>\n",
       "      <td>1</td>\n",
       "      <td>0</td>\n",
       "      <td>0</td>\n",
       "      <td>0</td>\n",
       "      <td>0</td>\n",
       "      <td>0</td>\n",
       "      <td>No</td>\n",
       "    </tr>\n",
       "    <tr>\n",
       "      <th>1</th>\n",
       "      <td>37</td>\n",
       "      <td>1</td>\n",
       "      <td>2</td>\n",
       "      <td>2</td>\n",
       "      <td>8</td>\n",
       "      <td>1</td>\n",
       "      <td>4</td>\n",
       "      <td>1</td>\n",
       "      <td>4</td>\n",
       "      <td>6</td>\n",
       "      <td>...</td>\n",
       "      <td>0</td>\n",
       "      <td>0</td>\n",
       "      <td>0</td>\n",
       "      <td>1</td>\n",
       "      <td>0</td>\n",
       "      <td>0</td>\n",
       "      <td>0</td>\n",
       "      <td>0</td>\n",
       "      <td>0</td>\n",
       "      <td>No</td>\n",
       "    </tr>\n",
       "    <tr>\n",
       "      <th>2</th>\n",
       "      <td>37</td>\n",
       "      <td>1</td>\n",
       "      <td>2</td>\n",
       "      <td>2</td>\n",
       "      <td>8</td>\n",
       "      <td>0</td>\n",
       "      <td>4</td>\n",
       "      <td>2</td>\n",
       "      <td>4</td>\n",
       "      <td>3</td>\n",
       "      <td>...</td>\n",
       "      <td>0</td>\n",
       "      <td>0</td>\n",
       "      <td>0</td>\n",
       "      <td>1</td>\n",
       "      <td>0</td>\n",
       "      <td>0</td>\n",
       "      <td>0</td>\n",
       "      <td>0</td>\n",
       "      <td>0</td>\n",
       "      <td>No</td>\n",
       "    </tr>\n",
       "    <tr>\n",
       "      <th>3</th>\n",
       "      <td>9</td>\n",
       "      <td>1</td>\n",
       "      <td>3</td>\n",
       "      <td>3</td>\n",
       "      <td>3</td>\n",
       "      <td>2</td>\n",
       "      <td>3</td>\n",
       "      <td>2</td>\n",
       "      <td>4</td>\n",
       "      <td>5</td>\n",
       "      <td>...</td>\n",
       "      <td>0</td>\n",
       "      <td>0</td>\n",
       "      <td>0</td>\n",
       "      <td>1</td>\n",
       "      <td>0</td>\n",
       "      <td>0</td>\n",
       "      <td>0</td>\n",
       "      <td>0</td>\n",
       "      <td>0</td>\n",
       "      <td>No</td>\n",
       "    </tr>\n",
       "    <tr>\n",
       "      <th>4</th>\n",
       "      <td>40</td>\n",
       "      <td>1</td>\n",
       "      <td>4</td>\n",
       "      <td>2</td>\n",
       "      <td>10</td>\n",
       "      <td>1</td>\n",
       "      <td>4</td>\n",
       "      <td>1</td>\n",
       "      <td>4</td>\n",
       "      <td>7</td>\n",
       "      <td>...</td>\n",
       "      <td>0</td>\n",
       "      <td>0</td>\n",
       "      <td>0</td>\n",
       "      <td>1</td>\n",
       "      <td>0</td>\n",
       "      <td>0</td>\n",
       "      <td>0</td>\n",
       "      <td>0</td>\n",
       "      <td>0</td>\n",
       "      <td>No</td>\n",
       "    </tr>\n",
       "  </tbody>\n",
       "</table>\n",
       "<p>5 rows × 86 columns</p>\n",
       "</div>"
      ],
      "text/plain": [
       "   MOSTYPE  MAANTHUI  MGEMOMV  MGEMLEEF  MOSHOOFD  MGODRK  MGODPR  MGODOV  \\\n",
       "0       33         1        3         2         8       0       5       1   \n",
       "1       37         1        2         2         8       1       4       1   \n",
       "2       37         1        2         2         8       0       4       2   \n",
       "3        9         1        3         3         3       2       3       2   \n",
       "4       40         1        4         2        10       1       4       1   \n",
       "\n",
       "   MGODGE  MRELGE  ...  APERSONG  AGEZONG  AWAOREG  ABRAND  AZEILPL  APLEZIER  \\\n",
       "0       3       7  ...         0        0        0       1        0         0   \n",
       "1       4       6  ...         0        0        0       1        0         0   \n",
       "2       4       3  ...         0        0        0       1        0         0   \n",
       "3       4       5  ...         0        0        0       1        0         0   \n",
       "4       4       7  ...         0        0        0       1        0         0   \n",
       "\n",
       "   AFIETS  AINBOED  ABYSTAND  Purchase  \n",
       "0       0        0         0        No  \n",
       "1       0        0         0        No  \n",
       "2       0        0         0        No  \n",
       "3       0        0         0        No  \n",
       "4       0        0         0        No  \n",
       "\n",
       "[5 rows x 86 columns]"
      ]
     },
     "execution_count": 7,
     "metadata": {},
     "output_type": "execute_result"
    }
   ],
   "source": [
    "caravans = pd.read_csv(\"data/Caravan.csv\")\n",
    "caravans.head()"
   ]
  },
  {
   "cell_type": "markdown",
   "id": "20b76fba",
   "metadata": {},
   "source": [
    "**a) Create a training set consisting of the first 1,000 observations, and a test set consisting of the remaining observations.**"
   ]
  },
  {
   "cell_type": "code",
   "execution_count": 14,
   "id": "0ce90f1d",
   "metadata": {},
   "outputs": [],
   "source": [
    "encoder = LabelEncoder()"
   ]
  },
  {
   "cell_type": "code",
   "execution_count": 15,
   "id": "d2d9ed8e",
   "metadata": {},
   "outputs": [],
   "source": [
    "# Target and Predictor Variables\n",
    "X = caravans.drop(\"Purchase\", axis = 1) # The Player Name is useless\n",
    "y = encoder.fit_transform(caravans[\"Purchase\"])"
   ]
  },
  {
   "cell_type": "code",
   "execution_count": 9,
   "id": "6a7e0a0f",
   "metadata": {},
   "outputs": [],
   "source": [
    "# Split Data\n",
    "X_train, X_test, y_train, y_test = train_test_split(X, y, train_size = 1000, random_state = 123)"
   ]
  },
  {
   "cell_type": "markdown",
   "id": "bfdaebe7",
   "metadata": {},
   "source": [
    "**b) Fit a boosting model to the training set with Purchase as the response and the other variables as predictors. Use 1,000 trees, and a shrinkage value of 0.01. Which predictors appear to be the most important?**"
   ]
  },
  {
   "cell_type": "code",
   "execution_count": 18,
   "id": "8613d183",
   "metadata": {},
   "outputs": [
    {
     "data": {
      "text/plain": [
       "GradientBoostingClassifier(learning_rate=0.01, n_estimators=1000,\n",
       "                           random_state=123)"
      ]
     },
     "execution_count": 18,
     "metadata": {},
     "output_type": "execute_result"
    }
   ],
   "source": [
    "boost = GradientBoostingClassifier(n_estimators = 1000, learning_rate = 0.01, random_state = 123)\n",
    "boost.fit(X_train, y_train)"
   ]
  },
  {
   "cell_type": "code",
   "execution_count": 23,
   "id": "d0d2669e",
   "metadata": {},
   "outputs": [
    {
     "data": {
      "image/png": "[encoded data removed]",
      "text/plain": [
       "<Figure size 720x504 with 1 Axes>"
      ]
     },
     "metadata": {
      "needs_background": "light"
     },
     "output_type": "display_data"
    }
   ],
   "source": [
    "plot_importances(X_train.columns[0:20], boost.feature_importances_[0:20])"
   ]
  },
  {
   "cell_type": "markdown",
   "id": "4258c32d",
   "metadata": {},
   "source": [
    "**c) Use the boosting model to predict the response on the test data. Predict that a person will make a purchase if the estimated probability of purchase is greater than 20 %. Form a confusion matrix. What fraction of the people predicted to make a purchase do in fact make one? How does this compare with the results obtained from applying KNN or logistic regression to this data set?**"
   ]
  },
  {
   "cell_type": "code",
   "execution_count": null,
   "id": "161b2065",
   "metadata": {},
   "outputs": [],
   "source": []
  },
  {
   "cell_type": "code",
   "execution_count": null,
   "id": "f5f048f8",
   "metadata": {},
   "outputs": [],
   "source": []
  }
 ],
 "metadata": {
  "kernelspec": {
   "display_name": "mlcourse.ai",
   "language": "python",
   "name": "mlcourse.ai"
  },
  "language_info": {
   "codemirror_mode": {
    "name": "ipython",
    "version": 3
   },
   "file_extension": ".py",
   "mimetype": "text/x-python",
   "name": "python",
   "nbconvert_exporter": "python",
   "pygments_lexer": "ipython3",
   "version": "3.10.0"
  },
  "toc": {
   "base_numbering": 1,
   "nav_menu": {},
   "number_sections": false,
   "sideBar": true,
   "skip_h1_title": false,
   "title_cell": "Table of Contents",
   "title_sidebar": "Contents",
   "toc_cell": false,
   "toc_position": {},
   "toc_section_display": true,
   "toc_window_display": false
  }
 },
 "nbformat": 4,
 "nbformat_minor": 5
}
