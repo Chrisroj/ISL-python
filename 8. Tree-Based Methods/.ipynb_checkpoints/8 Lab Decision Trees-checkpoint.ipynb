{
 "cells": [
  {
   "cell_type": "markdown",
   "id": "d5603b16",
   "metadata": {},
   "source": [
    "### Fitting Classification Trees"
   ]
  },
  {
   "cell_type": "code",
   "execution_count": 1,
   "id": "129b51d3",
   "metadata": {},
   "outputs": [],
   "source": [
    "import pandas as pd\n",
    "import numpy as np\n",
    "import statsmodels.api as sm\n",
    "import matplotlib.pyplot as plt\n",
    "from sklearn.tree import DecisionTreeClassifier\n",
    "from sklearn.compose import ColumnTransformer\n",
    "from sklearn.preprocessing import OneHotEncoder\n",
    "from sklearn.metrics import accuracy_score\n",
    "from sklearn.tree import plot_tree\n",
    "from sklearn.model_selection import train_test_split, GridSearchCV"
   ]
  },
  {
   "cell_type": "markdown",
   "id": "df3fc7a6",
   "metadata": {},
   "source": [
    "The data was exported using statsmodels.api it gets rdataset from the R package ISLR."
   ]
  },
  {
   "cell_type": "code",
   "execution_count": 2,
   "id": "d4c31fa8",
   "metadata": {},
   "outputs": [
    {
     "data": {
      "text/html": [
       "<div>\n",
       "<style scoped>\n",
       "    .dataframe tbody tr th:only-of-type {\n",
       "        vertical-align: middle;\n",
       "    }\n",
       "\n",
       "    .dataframe tbody tr th {\n",
       "        vertical-align: top;\n",
       "    }\n",
       "\n",
       "    .dataframe thead th {\n",
       "        text-align: right;\n",
       "    }\n",
       "</style>\n",
       "<table border=\"1\" class=\"dataframe\">\n",
       "  <thead>\n",
       "    <tr style=\"text-align: right;\">\n",
       "      <th></th>\n",
       "      <th>Sales</th>\n",
       "      <th>CompPrice</th>\n",
       "      <th>Income</th>\n",
       "      <th>Advertising</th>\n",
       "      <th>Population</th>\n",
       "      <th>Price</th>\n",
       "      <th>ShelveLoc</th>\n",
       "      <th>Age</th>\n",
       "      <th>Education</th>\n",
       "      <th>Urban</th>\n",
       "      <th>US</th>\n",
       "    </tr>\n",
       "  </thead>\n",
       "  <tbody>\n",
       "    <tr>\n",
       "      <th>0</th>\n",
       "      <td>9.50</td>\n",
       "      <td>138</td>\n",
       "      <td>73</td>\n",
       "      <td>11</td>\n",
       "      <td>276</td>\n",
       "      <td>120</td>\n",
       "      <td>Bad</td>\n",
       "      <td>42</td>\n",
       "      <td>17</td>\n",
       "      <td>Yes</td>\n",
       "      <td>Yes</td>\n",
       "    </tr>\n",
       "    <tr>\n",
       "      <th>1</th>\n",
       "      <td>11.22</td>\n",
       "      <td>111</td>\n",
       "      <td>48</td>\n",
       "      <td>16</td>\n",
       "      <td>260</td>\n",
       "      <td>83</td>\n",
       "      <td>Good</td>\n",
       "      <td>65</td>\n",
       "      <td>10</td>\n",
       "      <td>Yes</td>\n",
       "      <td>Yes</td>\n",
       "    </tr>\n",
       "    <tr>\n",
       "      <th>2</th>\n",
       "      <td>10.06</td>\n",
       "      <td>113</td>\n",
       "      <td>35</td>\n",
       "      <td>10</td>\n",
       "      <td>269</td>\n",
       "      <td>80</td>\n",
       "      <td>Medium</td>\n",
       "      <td>59</td>\n",
       "      <td>12</td>\n",
       "      <td>Yes</td>\n",
       "      <td>Yes</td>\n",
       "    </tr>\n",
       "    <tr>\n",
       "      <th>3</th>\n",
       "      <td>7.40</td>\n",
       "      <td>117</td>\n",
       "      <td>100</td>\n",
       "      <td>4</td>\n",
       "      <td>466</td>\n",
       "      <td>97</td>\n",
       "      <td>Medium</td>\n",
       "      <td>55</td>\n",
       "      <td>14</td>\n",
       "      <td>Yes</td>\n",
       "      <td>Yes</td>\n",
       "    </tr>\n",
       "    <tr>\n",
       "      <th>4</th>\n",
       "      <td>4.15</td>\n",
       "      <td>141</td>\n",
       "      <td>64</td>\n",
       "      <td>3</td>\n",
       "      <td>340</td>\n",
       "      <td>128</td>\n",
       "      <td>Bad</td>\n",
       "      <td>38</td>\n",
       "      <td>13</td>\n",
       "      <td>Yes</td>\n",
       "      <td>No</td>\n",
       "    </tr>\n",
       "  </tbody>\n",
       "</table>\n",
       "</div>"
      ],
      "text/plain": [
       "   Sales  CompPrice  Income  Advertising  Population  Price ShelveLoc  Age  \\\n",
       "0   9.50        138      73           11         276    120       Bad   42   \n",
       "1  11.22        111      48           16         260     83      Good   65   \n",
       "2  10.06        113      35           10         269     80    Medium   59   \n",
       "3   7.40        117     100            4         466     97    Medium   55   \n",
       "4   4.15        141      64            3         340    128       Bad   38   \n",
       "\n",
       "   Education Urban   US  \n",
       "0         17   Yes  Yes  \n",
       "1         10   Yes  Yes  \n",
       "2         12   Yes  Yes  \n",
       "3         14   Yes  Yes  \n",
       "4         13   Yes   No  "
      ]
     },
     "execution_count": 2,
     "metadata": {},
     "output_type": "execute_result"
    }
   ],
   "source": [
    "# Import Data\n",
    "carseats = sm.datasets.get_rdataset(\"Carseats\", \"ISLR\").data\n",
    "carseats.head()"
   ]
  },
  {
   "cell_type": "code",
   "execution_count": 3,
   "id": "e741b116",
   "metadata": {},
   "outputs": [
    {
     "name": "stdout",
     "output_type": "stream",
     "text": [
      "<class 'pandas.core.frame.DataFrame'>\n",
      "RangeIndex: 400 entries, 0 to 399\n",
      "Data columns (total 10 columns):\n",
      " #   Column       Non-Null Count  Dtype \n",
      "---  ------       --------------  ----- \n",
      " 0   CompPrice    400 non-null    int64 \n",
      " 1   Income       400 non-null    int64 \n",
      " 2   Advertising  400 non-null    int64 \n",
      " 3   Population   400 non-null    int64 \n",
      " 4   Price        400 non-null    int64 \n",
      " 5   ShelveLoc    400 non-null    object\n",
      " 6   Age          400 non-null    int64 \n",
      " 7   Education    400 non-null    int64 \n",
      " 8   Urban        400 non-null    object\n",
      " 9   US           400 non-null    object\n",
      "dtypes: int64(7), object(3)\n",
      "memory usage: 31.4+ KB\n"
     ]
    }
   ],
   "source": [
    "# Create Binary Variable\n",
    "carseats[\"High\"] = carseats[\"Sales\"].apply(lambda x: \"Yes\" if x > 8 else \"No\")\n",
    "\n",
    "# Target and Predictor Variables\n",
    "X = carseats.drop([\"High\", \"Sales\"], axis = 1)\n",
    "y = carseats[\"High\"]\n",
    "X.info()"
   ]
  },
  {
   "cell_type": "markdown",
   "id": "8f7f9a3a",
   "metadata": {},
   "source": [
    "We have three categorial variables *ShelveLoc*, *Urban* and *US*. We have to apply binarization (one-hot-encoding) to the variables."
   ]
  },
  {
   "cell_type": "markdown",
   "id": "77249724",
   "metadata": {},
   "source": [
    "For **handle_unknown** parameter scikit-learn documentation says:\n",
    "\n",
    "> Whether to raise an error or ignore if an unknown categorical feature is present during transform (default is to raise). When  this parameter is set to ‘ignore’ and an unknown category is encountered during transform, the resulting one-hot encoded columns for this feature will be all zeros. In the inverse transform, an unknown category will be denoted as None."
   ]
  },
  {
   "cell_type": "markdown",
   "id": "62264935",
   "metadata": {},
   "source": [
    "**Note:** If you want to know how to use ColumnTransformer you can check [2] or the [scikit-learn documentation](https://scikit-learn.org/stable/modules/compose.html#column-transformer)"
   ]
  },
  {
   "cell_type": "code",
   "execution_count": 4,
   "id": "7b982a21",
   "metadata": {},
   "outputs": [
    {
     "data": {
      "text/html": [
       "<div>\n",
       "<style scoped>\n",
       "    .dataframe tbody tr th:only-of-type {\n",
       "        vertical-align: middle;\n",
       "    }\n",
       "\n",
       "    .dataframe tbody tr th {\n",
       "        vertical-align: top;\n",
       "    }\n",
       "\n",
       "    .dataframe thead th {\n",
       "        text-align: right;\n",
       "    }\n",
       "</style>\n",
       "<table border=\"1\" class=\"dataframe\">\n",
       "  <thead>\n",
       "    <tr style=\"text-align: right;\">\n",
       "      <th></th>\n",
       "      <th>ShelveLoc_Bad</th>\n",
       "      <th>ShelveLoc_Good</th>\n",
       "      <th>ShelveLoc_Medium</th>\n",
       "      <th>Urban_No</th>\n",
       "      <th>Urban_Yes</th>\n",
       "      <th>US_No</th>\n",
       "      <th>US_Yes</th>\n",
       "      <th>CompPrice</th>\n",
       "      <th>Income</th>\n",
       "      <th>Advertising</th>\n",
       "      <th>Population</th>\n",
       "      <th>Price</th>\n",
       "      <th>Age</th>\n",
       "      <th>Education</th>\n",
       "    </tr>\n",
       "  </thead>\n",
       "  <tbody>\n",
       "    <tr>\n",
       "      <th>0</th>\n",
       "      <td>1.0</td>\n",
       "      <td>0.0</td>\n",
       "      <td>0.0</td>\n",
       "      <td>0.0</td>\n",
       "      <td>1.0</td>\n",
       "      <td>0.0</td>\n",
       "      <td>1.0</td>\n",
       "      <td>138.0</td>\n",
       "      <td>73.0</td>\n",
       "      <td>11.0</td>\n",
       "      <td>276.0</td>\n",
       "      <td>120.0</td>\n",
       "      <td>42.0</td>\n",
       "      <td>17.0</td>\n",
       "    </tr>\n",
       "    <tr>\n",
       "      <th>1</th>\n",
       "      <td>0.0</td>\n",
       "      <td>1.0</td>\n",
       "      <td>0.0</td>\n",
       "      <td>0.0</td>\n",
       "      <td>1.0</td>\n",
       "      <td>0.0</td>\n",
       "      <td>1.0</td>\n",
       "      <td>111.0</td>\n",
       "      <td>48.0</td>\n",
       "      <td>16.0</td>\n",
       "      <td>260.0</td>\n",
       "      <td>83.0</td>\n",
       "      <td>65.0</td>\n",
       "      <td>10.0</td>\n",
       "    </tr>\n",
       "    <tr>\n",
       "      <th>2</th>\n",
       "      <td>0.0</td>\n",
       "      <td>0.0</td>\n",
       "      <td>1.0</td>\n",
       "      <td>0.0</td>\n",
       "      <td>1.0</td>\n",
       "      <td>0.0</td>\n",
       "      <td>1.0</td>\n",
       "      <td>113.0</td>\n",
       "      <td>35.0</td>\n",
       "      <td>10.0</td>\n",
       "      <td>269.0</td>\n",
       "      <td>80.0</td>\n",
       "      <td>59.0</td>\n",
       "      <td>12.0</td>\n",
       "    </tr>\n",
       "    <tr>\n",
       "      <th>3</th>\n",
       "      <td>0.0</td>\n",
       "      <td>0.0</td>\n",
       "      <td>1.0</td>\n",
       "      <td>0.0</td>\n",
       "      <td>1.0</td>\n",
       "      <td>0.0</td>\n",
       "      <td>1.0</td>\n",
       "      <td>117.0</td>\n",
       "      <td>100.0</td>\n",
       "      <td>4.0</td>\n",
       "      <td>466.0</td>\n",
       "      <td>97.0</td>\n",
       "      <td>55.0</td>\n",
       "      <td>14.0</td>\n",
       "    </tr>\n",
       "    <tr>\n",
       "      <th>4</th>\n",
       "      <td>1.0</td>\n",
       "      <td>0.0</td>\n",
       "      <td>0.0</td>\n",
       "      <td>0.0</td>\n",
       "      <td>1.0</td>\n",
       "      <td>1.0</td>\n",
       "      <td>0.0</td>\n",
       "      <td>141.0</td>\n",
       "      <td>64.0</td>\n",
       "      <td>3.0</td>\n",
       "      <td>340.0</td>\n",
       "      <td>128.0</td>\n",
       "      <td>38.0</td>\n",
       "      <td>13.0</td>\n",
       "    </tr>\n",
       "  </tbody>\n",
       "</table>\n",
       "</div>"
      ],
      "text/plain": [
       "   ShelveLoc_Bad  ShelveLoc_Good  ShelveLoc_Medium  Urban_No  Urban_Yes  \\\n",
       "0            1.0             0.0               0.0       0.0        1.0   \n",
       "1            0.0             1.0               0.0       0.0        1.0   \n",
       "2            0.0             0.0               1.0       0.0        1.0   \n",
       "3            0.0             0.0               1.0       0.0        1.0   \n",
       "4            1.0             0.0               0.0       0.0        1.0   \n",
       "\n",
       "   US_No  US_Yes  CompPrice  Income  Advertising  Population  Price   Age  \\\n",
       "0    0.0     1.0      138.0    73.0         11.0       276.0  120.0  42.0   \n",
       "1    0.0     1.0      111.0    48.0         16.0       260.0   83.0  65.0   \n",
       "2    0.0     1.0      113.0    35.0         10.0       269.0   80.0  59.0   \n",
       "3    0.0     1.0      117.0   100.0          4.0       466.0   97.0  55.0   \n",
       "4    1.0     0.0      141.0    64.0          3.0       340.0  128.0  38.0   \n",
       "\n",
       "   Education  \n",
       "0       17.0  \n",
       "1       10.0  \n",
       "2       12.0  \n",
       "3       14.0  \n",
       "4       13.0  "
      ]
     },
     "execution_count": 4,
     "metadata": {},
     "output_type": "execute_result"
    }
   ],
   "source": [
    "# Get Categorial Column Names\n",
    "cat_cols = X.select_dtypes(include = [\"object\"]).columns.to_list()\n",
    "numeric_cols = X.select_dtypes(include = [\"int64\"]).columns.to_list()\n",
    "\n",
    "# One-Hot-Encoding just for Categorical Columns\n",
    "preprocessor = ColumnTransformer(\n",
    "                    [('onehot', OneHotEncoder(handle_unknown = 'ignore'), cat_cols)],\n",
    "                    remainder='passthrough'\n",
    ")\n",
    "\n",
    "X_prep = preprocessor.fit_transform(X) # Numpy Array\n",
    "\n",
    "# Get Labels for One-Hot-Encoding\n",
    "encoded_cat = preprocessor.named_transformers_['onehot'].get_feature_names_out(cat_cols)\n",
    "labels = np.concatenate([encoded_cat, numeric_cols])\n",
    "X_prep = pd.DataFrame(X_prep, columns=labels)\n",
    "\n",
    "X_prep.head()"
   ]
  },
  {
   "cell_type": "markdown",
   "id": "40625588",
   "metadata": {},
   "source": [
    "Now we can apply DecisionTreeClassifier."
   ]
  },
  {
   "cell_type": "markdown",
   "id": "9e20206c",
   "metadata": {},
   "source": [
    "**Note:** If you want to know how the decision trees work, check the section *8.1 The Basics of Decision Trees* in [1]\n",
    "You can check [3] and [4] to complement your knowledge. If you want to know how to code the binary splitting algorithm from scratch, you can check the assignment03_decision_trees of mlcourse.ai"
   ]
  },
  {
   "cell_type": "code",
   "execution_count": 5,
   "id": "08d8ac78",
   "metadata": {},
   "outputs": [
    {
     "data": {
      "text/plain": [
       "DecisionTreeClassifier(max_depth=5, random_state=123)"
      ]
     },
     "execution_count": 5,
     "metadata": {},
     "output_type": "execute_result"
    }
   ],
   "source": [
    "# Tree model\n",
    "tree = DecisionTreeClassifier(max_depth = 5, random_state = 123)\n",
    "tree.fit(X_prep, y)"
   ]
  },
  {
   "cell_type": "code",
   "execution_count": 6,
   "id": "d2172ed1",
   "metadata": {},
   "outputs": [
    {
     "name": "stdout",
     "output_type": "stream",
     "text": [
      "The accuracy score is: 0.8725\n"
     ]
    }
   ],
   "source": [
    "print(\"The accuracy score is:\", accuracy_score(y, tree.predict(X_prep)))"
   ]
  },
  {
   "cell_type": "markdown",
   "id": "6272193e",
   "metadata": {},
   "source": [
    "**Note:** You can check more about feature importance in [5]"
   ]
  },
  {
   "cell_type": "code",
   "execution_count": 7,
   "id": "514b7b79",
   "metadata": {},
   "outputs": [
    {
     "data": {
      "image/png": "[encoded data removed]",
      "text/plain": [
       "<Figure size 432x288 with 1 Axes>"
      ]
     },
     "metadata": {
      "needs_background": "light"
     },
     "output_type": "display_data"
    }
   ],
   "source": [
    "# Feature Imporcances\n",
    "pd.DataFrame({'Importance': tree.feature_importances_ * 100}, index = X_prep.columns)\\\n",
    "    .sort_values('Importance', ascending = True, axis = 0)\\\n",
    "    .plot(kind = 'barh', title = 'Feature Importance');"
   ]
  },
  {
   "cell_type": "code",
   "execution_count": 8,
   "id": "cc5c5c22",
   "metadata": {},
   "outputs": [
    {
     "data": {
      "image/png": "[encoded data removed]",
      "text/plain": [
       "<Figure size 2160x720 with 1 Axes>"
      ]
     },
     "metadata": {
      "needs_background": "light"
     },
     "output_type": "display_data"
    }
   ],
   "source": [
    "# Plot the tree\n",
    "fig, ax = plt.subplots(figsize = (30, 10))\n",
    "\n",
    "plot = plot_tree(\n",
    "            decision_tree = tree,\n",
    "            feature_names = X_prep.columns.tolist(),\n",
    "            class_names   = 'High Sales',\n",
    "            filled        = True,\n",
    "            impurity      = False,\n",
    "            fontsize      = 7,\n",
    "            ax            = ax)"
   ]
  },
  {
   "cell_type": "markdown",
   "id": "8c4ecafe",
   "metadata": {},
   "source": [
    "**Now we are goin to fit the model in a train set and calculate the accuracy in a test set.**"
   ]
  },
  {
   "cell_type": "code",
   "execution_count": 9,
   "id": "df0b7f17",
   "metadata": {},
   "outputs": [],
   "source": [
    "# Split in Train and Test\n",
    "X_train, X_test, y_train, y_test = train_test_split(X, y, random_state = 123)"
   ]
  },
  {
   "cell_type": "markdown",
   "id": "140b48e8",
   "metadata": {},
   "source": [
    "We use One-Hot-Encoding"
   ]
  },
  {
   "cell_type": "code",
   "execution_count": 10,
   "id": "78f0434c",
   "metadata": {},
   "outputs": [],
   "source": [
    "# Get Categorial Column Names\n",
    "cat_cols = X_train.select_dtypes(include = [\"object\"]).columns.to_list()\n",
    "numeric_cols = X_train.select_dtypes(include = [\"int64\"]).columns.to_list()\n",
    "\n",
    "# One-Hot-Encoding just for Categorical Columns\n",
    "preprocessor = ColumnTransformer(\n",
    "                    [('onehot', OneHotEncoder(handle_unknown = 'ignore'), cat_cols)],\n",
    "                    remainder='passthrough'\n",
    ")\n",
    "\n",
    "X_train_prep = preprocessor.fit_transform(X_train) # Numpy Array\n",
    "X_test_prep = preprocessor.transform(X_test)"
   ]
  },
  {
   "cell_type": "code",
   "execution_count": 11,
   "id": "51f75a29",
   "metadata": {},
   "outputs": [
    {
     "data": {
      "text/plain": [
       "DecisionTreeClassifier(max_depth=5, random_state=123)"
      ]
     },
     "execution_count": 11,
     "metadata": {},
     "output_type": "execute_result"
    }
   ],
   "source": [
    "tree = DecisionTreeClassifier(max_depth = 5, random_state = 123)\n",
    "tree.fit(X_train_prep, y_train)"
   ]
  },
  {
   "cell_type": "code",
   "execution_count": 12,
   "id": "b0edffe4",
   "metadata": {},
   "outputs": [
    {
     "name": "stdout",
     "output_type": "stream",
     "text": [
      "The accuracy score for test set is: 0.71\n"
     ]
    }
   ],
   "source": [
    "print(\"The accuracy score for test set is:\", accuracy_score(y_test, tree.predict(X_test_prep)))"
   ]
  },
  {
   "cell_type": "code",
   "execution_count": 13,
   "id": "c8f6132a",
   "metadata": {},
   "outputs": [
    {
     "name": "stdout",
     "output_type": "stream",
     "text": [
      "The depth of the tree is:  5\n",
      "The number of leaves is:  23\n"
     ]
    }
   ],
   "source": [
    "print(\"The depth of the tree is: \", tree.get_depth())\n",
    "print(\"The number of leaves is: \", tree.get_n_leaves())"
   ]
  },
  {
   "cell_type": "markdown",
   "id": "2294acc5",
   "metadata": {},
   "source": [
    "**Now we are going to improve the tree with post-pruning.**"
   ]
  },
  {
   "cell_type": "markdown",
   "id": "6cd886e9",
   "metadata": {},
   "source": [
    "**Note:** To know how Cost Complexity Pruning works you can check [scikit-learn doc](https://scikit-learn.org/stable/modules/tree.html#minimal-cost-complexity-pruning), [6], [7], [8] and 22:00 - 23:59 minutes of [9]"
   ]
  },
  {
   "cell_type": "markdown",
   "id": "d3d0b291",
   "metadata": {},
   "source": [
    "Pruning trees was implemented in scikit-learn since 0.22 version:\n",
    "\n",
    "https://scikit-learn.org/stable/whats_new/v0.22.html#version-0-22-1"
   ]
  },
  {
   "cell_type": "code",
   "execution_count": 14,
   "id": "cd5fdb61",
   "metadata": {},
   "outputs": [
    {
     "data": {
      "text/plain": [
       "GridSearchCV(cv=10, estimator=DecisionTreeClassifier(random_state=123),\n",
       "             param_grid={'ccp_alpha': array([0.        , 0.00307692, 0.00313725, 0.00314815, 0.00314815,\n",
       "       0.00320988, 0.00324444, 0.00324786, 0.00444444, 0.005     ,\n",
       "       0.00533333, 0.00533333, 0.00555556, 0.00563353, 0.00571429,\n",
       "       0.0059612 , 0.00628105, 0.00698006, 0.00733333, 0.00764672,\n",
       "       0.00807692, 0.00956508, 0.00993681, 0.01016129, 0.01557604,\n",
       "       0.01605556, 0.01636364, 0.01858385, 0.0223126 , 0.024951  ,\n",
       "       0.03866582, 0.07715221])},\n",
       "             return_train_score=True, scoring='accuracy')"
      ]
     },
     "execution_count": 14,
     "metadata": {},
     "output_type": "execute_result"
    }
   ],
   "source": [
    "# Get the best alphas path\n",
    "tree_get_alphas = DecisionTreeClassifier(random_state = 123)\n",
    "alphas = tree_get_alphas.cost_complexity_pruning_path(X_train_prep, y_train)[\"ccp_alphas\"]\n",
    "\n",
    "# The tree grows as much as possible\n",
    "tree_base_mdoel = DecisionTreeClassifier(\n",
    "                                        max_depth         = None,\n",
    "                                        min_samples_split = 2,\n",
    "                                        min_samples_leaf  = 1,\n",
    "                                        random_state      = 123)\n",
    "gridsearch = GridSearchCV(\n",
    "                estimator = tree_base_mdoel,\n",
    "                param_grid = {\"ccp_alpha\": alphas},\n",
    "                scoring    = 'accuracy',\n",
    "                cv         = 10,\n",
    "                refit      = True,\n",
    "                return_train_score = True\n",
    "              )\n",
    "\n",
    "gridsearch.fit(X_train_prep, y_train)"
   ]
  },
  {
   "cell_type": "code",
   "execution_count": 15,
   "id": "61363c9c",
   "metadata": {},
   "outputs": [
    {
     "data": {
      "image/png": "[encoded data removed]",
      "text/plain": [
       "<Figure size 432x276.48 with 1 Axes>"
      ]
     },
     "metadata": {
      "needs_background": "light"
     },
     "output_type": "display_data"
    }
   ],
   "source": [
    "fig, ax = plt.subplots(figsize=(6, 3.84))\n",
    "scores = pd.DataFrame(gridsearch.cv_results_)\n",
    "scores.plot(x='param_ccp_alpha', y='mean_train_score', yerr='std_train_score', ax=ax)\n",
    "scores.plot(x='param_ccp_alpha', y='mean_test_score', yerr='std_test_score', ax=ax)\n",
    "ax.set_title(\"Score Cross Validation\");"
   ]
  },
  {
   "cell_type": "code",
   "execution_count": 16,
   "id": "87a0952a",
   "metadata": {},
   "outputs": [
    {
     "data": {
      "text/plain": [
       "DecisionTreeClassifier(ccp_alpha=0.007333333333333334, random_state=123)"
      ]
     },
     "execution_count": 16,
     "metadata": {},
     "output_type": "execute_result"
    }
   ],
   "source": [
    "best_tree = gridsearch.best_estimator_\n",
    "best_tree.fit(X_train_prep, y_train)"
   ]
  },
  {
   "cell_type": "code",
   "execution_count": 17,
   "id": "78cccc3a",
   "metadata": {},
   "outputs": [
    {
     "name": "stdout",
     "output_type": "stream",
     "text": [
      "The accuracy score for test set is: 0.75\n"
     ]
    }
   ],
   "source": [
    "print(\"The accuracy score for test set is:\", accuracy_score(y_test, best_tree.predict(X_test_prep)))"
   ]
  },
  {
   "cell_type": "code",
   "execution_count": 18,
   "id": "aaf7fa98",
   "metadata": {},
   "outputs": [
    {
     "name": "stdout",
     "output_type": "stream",
     "text": [
      "The depth of the tree is:  8\n",
      "The number of leaves is:  20\n"
     ]
    }
   ],
   "source": [
    "print(\"The depth of the tree is: \", best_tree.get_depth())\n",
    "print(\"The number of leaves is: \", best_tree.get_n_leaves())"
   ]
  },
  {
   "cell_type": "markdown",
   "id": "21d415ed",
   "metadata": {},
   "source": [
    "We have improve the test score from $0.71$ to $0.75$ and we have reduce the tree complexity."
   ]
  },
  {
   "cell_type": "markdown",
   "id": "01288261",
   "metadata": {},
   "source": [
    "### Fitting Regression Trees"
   ]
  },
  {
   "cell_type": "code",
   "execution_count": 19,
   "id": "d98c0766",
   "metadata": {},
   "outputs": [],
   "source": [
    "import numpy as np\n",
    "import pandas as pd\n",
    "import matplotlib.pyplot as plt\n",
    "from sklearn.model_selection import train_test_split, GridSearchCV\n",
    "from sklearn.tree import DecisionTreeRegressor, export_graphviz\n",
    "from sklearn.metrics import mean_squared_error\n",
    "\n",
    "from graphviz import Source"
   ]
  },
  {
   "cell_type": "markdown",
   "id": "d1969a7b",
   "metadata": {},
   "source": [
    "We import the Boston house-price data\n",
    "\n",
    "Variables in order:\n",
    "- CRIM     per capita crime rate by town\n",
    "- ZN       proportion of residential land zoned for lots over 25,000 sq.ft.\n",
    "- INDUS    proportion of non-retail business acres per town\n",
    "- CHAS     Charles River dummy variable (= 1 if tract bounds river; 0 otherwise)\n",
    "- NOX      nitric oxides concentration (parts per 10 million)\n",
    "- RM       average number of rooms per dwelling\n",
    "- AGE      proportion of owner-occupied units built prior to 1940\n",
    "- DIS      weighted distances to five Boston employment centres\n",
    "- RAD      index of accessibility to radial highways\n",
    "- TAX      full-value property-tax rate per $10,000\n",
    "- PTRATIO  pupil-teacher ratio by town\n",
    "- B        1000(Bk - 0.63)^2 where Bk is the proportion of blacks by town\n",
    "- LSTAT    % lower status of the population\n",
    "\n",
    "The Target varible:\n",
    "- MEDV     Median value of owner-occupied homes in $1000's"
   ]
  },
  {
   "cell_type": "code",
   "execution_count": 20,
   "id": "8b03a283",
   "metadata": {},
   "outputs": [],
   "source": [
    "# Import Data\n",
    "data_url = \"http://lib.stat.cmu.edu/datasets/boston\"\n",
    "raw_df = pd.read_csv(data_url, sep=\"\\s+\", skiprows=22, header=None)\n",
    "data = np.hstack([raw_df.values[::2, :], raw_df.values[1::2, :2]])\n",
    "target = raw_df.values[1::2, 2]\n",
    "# This chunk of code is extracted from scikit-learn warning message beacuse boston data will deprectaed in 1.2 version "
   ]
  },
  {
   "cell_type": "code",
   "execution_count": 21,
   "id": "934e6518",
   "metadata": {},
   "outputs": [
    {
     "data": {
      "text/html": [
       "<div>\n",
       "<style scoped>\n",
       "    .dataframe tbody tr th:only-of-type {\n",
       "        vertical-align: middle;\n",
       "    }\n",
       "\n",
       "    .dataframe tbody tr th {\n",
       "        vertical-align: top;\n",
       "    }\n",
       "\n",
       "    .dataframe thead th {\n",
       "        text-align: right;\n",
       "    }\n",
       "</style>\n",
       "<table border=\"1\" class=\"dataframe\">\n",
       "  <thead>\n",
       "    <tr style=\"text-align: right;\">\n",
       "      <th></th>\n",
       "      <th>CRIM</th>\n",
       "      <th>ZN</th>\n",
       "      <th>INDUS</th>\n",
       "      <th>CHAS</th>\n",
       "      <th>NOX</th>\n",
       "      <th>RM</th>\n",
       "      <th>AGE</th>\n",
       "      <th>DIS</th>\n",
       "      <th>RAD</th>\n",
       "      <th>TAX</th>\n",
       "      <th>PTRATIO</th>\n",
       "      <th>B</th>\n",
       "      <th>LSTAT</th>\n",
       "    </tr>\n",
       "  </thead>\n",
       "  <tbody>\n",
       "    <tr>\n",
       "      <th>0</th>\n",
       "      <td>0.00632</td>\n",
       "      <td>18.0</td>\n",
       "      <td>2.31</td>\n",
       "      <td>0.0</td>\n",
       "      <td>0.538</td>\n",
       "      <td>6.575</td>\n",
       "      <td>65.2</td>\n",
       "      <td>4.0900</td>\n",
       "      <td>1.0</td>\n",
       "      <td>296.0</td>\n",
       "      <td>15.3</td>\n",
       "      <td>396.90</td>\n",
       "      <td>4.98</td>\n",
       "    </tr>\n",
       "    <tr>\n",
       "      <th>1</th>\n",
       "      <td>0.02731</td>\n",
       "      <td>0.0</td>\n",
       "      <td>7.07</td>\n",
       "      <td>0.0</td>\n",
       "      <td>0.469</td>\n",
       "      <td>6.421</td>\n",
       "      <td>78.9</td>\n",
       "      <td>4.9671</td>\n",
       "      <td>2.0</td>\n",
       "      <td>242.0</td>\n",
       "      <td>17.8</td>\n",
       "      <td>396.90</td>\n",
       "      <td>9.14</td>\n",
       "    </tr>\n",
       "    <tr>\n",
       "      <th>2</th>\n",
       "      <td>0.02729</td>\n",
       "      <td>0.0</td>\n",
       "      <td>7.07</td>\n",
       "      <td>0.0</td>\n",
       "      <td>0.469</td>\n",
       "      <td>7.185</td>\n",
       "      <td>61.1</td>\n",
       "      <td>4.9671</td>\n",
       "      <td>2.0</td>\n",
       "      <td>242.0</td>\n",
       "      <td>17.8</td>\n",
       "      <td>392.83</td>\n",
       "      <td>4.03</td>\n",
       "    </tr>\n",
       "    <tr>\n",
       "      <th>3</th>\n",
       "      <td>0.03237</td>\n",
       "      <td>0.0</td>\n",
       "      <td>2.18</td>\n",
       "      <td>0.0</td>\n",
       "      <td>0.458</td>\n",
       "      <td>6.998</td>\n",
       "      <td>45.8</td>\n",
       "      <td>6.0622</td>\n",
       "      <td>3.0</td>\n",
       "      <td>222.0</td>\n",
       "      <td>18.7</td>\n",
       "      <td>394.63</td>\n",
       "      <td>2.94</td>\n",
       "    </tr>\n",
       "    <tr>\n",
       "      <th>4</th>\n",
       "      <td>0.06905</td>\n",
       "      <td>0.0</td>\n",
       "      <td>2.18</td>\n",
       "      <td>0.0</td>\n",
       "      <td>0.458</td>\n",
       "      <td>7.147</td>\n",
       "      <td>54.2</td>\n",
       "      <td>6.0622</td>\n",
       "      <td>3.0</td>\n",
       "      <td>222.0</td>\n",
       "      <td>18.7</td>\n",
       "      <td>396.90</td>\n",
       "      <td>5.33</td>\n",
       "    </tr>\n",
       "  </tbody>\n",
       "</table>\n",
       "</div>"
      ],
      "text/plain": [
       "      CRIM    ZN  INDUS  CHAS    NOX     RM   AGE     DIS  RAD    TAX  \\\n",
       "0  0.00632  18.0   2.31   0.0  0.538  6.575  65.2  4.0900  1.0  296.0   \n",
       "1  0.02731   0.0   7.07   0.0  0.469  6.421  78.9  4.9671  2.0  242.0   \n",
       "2  0.02729   0.0   7.07   0.0  0.469  7.185  61.1  4.9671  2.0  242.0   \n",
       "3  0.03237   0.0   2.18   0.0  0.458  6.998  45.8  6.0622  3.0  222.0   \n",
       "4  0.06905   0.0   2.18   0.0  0.458  7.147  54.2  6.0622  3.0  222.0   \n",
       "\n",
       "   PTRATIO       B  LSTAT  \n",
       "0     15.3  396.90   4.98  \n",
       "1     17.8  396.90   9.14  \n",
       "2     17.8  392.83   4.03  \n",
       "3     18.7  394.63   2.94  \n",
       "4     18.7  396.90   5.33  "
      ]
     },
     "execution_count": 21,
     "metadata": {},
     "output_type": "execute_result"
    }
   ],
   "source": [
    "feature_names = ['CRIM', 'ZN', 'INDUS', 'CHAS', 'NOX', 'RM','AGE', 'DIS', 'RAD','TAX', 'PTRATIO', 'B', 'LSTAT']\n",
    "boston = pd.DataFrame(data, columns = feature_names)\n",
    "boston.head()"
   ]
  },
  {
   "cell_type": "markdown",
   "id": "c23a557a",
   "metadata": {},
   "source": [
    "We create a train and test sets."
   ]
  },
  {
   "cell_type": "code",
   "execution_count": 22,
   "id": "caabf578",
   "metadata": {},
   "outputs": [],
   "source": [
    "# Target and Predictor Variables\n",
    "X = boston.copy()\n",
    "y = target.copy()"
   ]
  },
  {
   "cell_type": "code",
   "execution_count": 23,
   "id": "dd5d2d66",
   "metadata": {},
   "outputs": [],
   "source": [
    "# The test size is 50% beacuse the book takes 50% of the data for training set\n",
    "X_train, X_test, y_train, y_test = train_test_split(X, y, test_size = 0.5, random_state = 123)"
   ]
  },
  {
   "cell_type": "code",
   "execution_count": 24,
   "id": "de4528eb",
   "metadata": {},
   "outputs": [
    {
     "data": {
      "text/plain": [
       "DecisionTreeRegressor(max_depth=3, random_state=123)"
      ]
     },
     "execution_count": 24,
     "metadata": {},
     "output_type": "execute_result"
    }
   ],
   "source": [
    "# Fit the Tree\n",
    "tree_reg = DecisionTreeRegressor(max_depth = 3, random_state = 123)\n",
    "tree_reg.fit(X_train, y_train)"
   ]
  },
  {
   "cell_type": "code",
   "execution_count": 25,
   "id": "e479fb8d",
   "metadata": {},
   "outputs": [
    {
     "name": "stdout",
     "output_type": "stream",
     "text": [
      "The MSE of the tree model is: 34.101203156248076\n"
     ]
    }
   ],
   "source": [
    "print(\"The MSE of the tree model is:\", mean_squared_error(y_test, tree_reg.predict(X_test)))"
   ]
  },
  {
   "cell_type": "code",
   "execution_count": 26,
   "id": "6acd6298",
   "metadata": {},
   "outputs": [
    {
     "name": "stdout",
     "output_type": "stream",
     "text": [
      "The depth of the tree is:  3\n",
      "The number of leaves is:  8\n"
     ]
    }
   ],
   "source": [
    "print(\"The depth of the tree is: \", tree_reg.get_depth())\n",
    "print(\"The number of leaves is: \", tree_reg.get_n_leaves())"
   ]
  },
  {
   "cell_type": "code",
   "execution_count": 27,
   "id": "fbe15b9f",
   "metadata": {},
   "outputs": [
    {
     "data": {
      "image/svg+xml": [
       "<?xml version=\"1.0\" encoding=\"UTF-8\" standalone=\"no\"?>\n",
       "<!DOCTYPE svg PUBLIC \"-//W3C//DTD SVG 1.1//EN\"\n",
       " \"http://www.w3.org/Graphics/SVG/1.1/DTD/svg11.dtd\">\n",
       "<!-- Generated by graphviz version 2.50.0 (20211204.2007)\n",
       " -->\n",
       "<!-- Title: Tree Pages: 1 -->\n",
       "<svg width=\"1390pt\" height=\"373pt\"\n",
       " viewBox=\"0.00 0.00 1390.00 373.00\" xmlns=\"http://www.w3.org/2000/svg\" xmlns:xlink=\"http://www.w3.org/1999/xlink\">\n",
       "<g id=\"graph0\" class=\"graph\" transform=\"scale(1 1) rotate(0) translate(4 369)\">\n",
       "<title>Tree</title>\n",
       "<polygon fill=\"white\" stroke=\"transparent\" points=\"-4,4 -4,-369 1386,-369 1386,4 -4,4\"/>\n",
       "<!-- 0 -->\n",
       "<g id=\"node1\" class=\"node\">\n",
       "<title>0</title>\n",
       "<path fill=\"#f8dbc6\" stroke=\"black\" d=\"M774,-365C774,-365 631,-365 631,-365 625,-365 619,-359 619,-353 619,-353 619,-309 619,-309 619,-303 625,-297 631,-297 631,-297 774,-297 774,-297 780,-297 786,-303 786,-309 786,-309 786,-353 786,-353 786,-359 780,-365 774,-365\"/>\n",
       "<text text-anchor=\"start\" x=\"665.5\" y=\"-349.8\" font-family=\"Helvetica,sans-Serif\" font-size=\"14.00\">RM ≤ 7.405</text>\n",
       "<text text-anchor=\"start\" x=\"627\" y=\"-334.8\" font-family=\"Helvetica,sans-Serif\" font-size=\"14.00\">squared_error = 84.968</text>\n",
       "<text text-anchor=\"start\" x=\"655\" y=\"-319.8\" font-family=\"Helvetica,sans-Serif\" font-size=\"14.00\">samples = 253</text>\n",
       "<text text-anchor=\"start\" x=\"655.5\" y=\"-304.8\" font-family=\"Helvetica,sans-Serif\" font-size=\"14.00\">value = 22.429</text>\n",
       "</g>\n",
       "<!-- 1 -->\n",
       "<g id=\"node2\" class=\"node\">\n",
       "<title>1</title>\n",
       "<path fill=\"#f9e1cf\" stroke=\"black\" d=\"M591,-261C591,-261 448,-261 448,-261 442,-261 436,-255 436,-249 436,-249 436,-205 436,-205 436,-199 442,-193 448,-193 448,-193 591,-193 591,-193 597,-193 603,-199 603,-205 603,-205 603,-249 603,-249 603,-255 597,-261 591,-261\"/>\n",
       "<text text-anchor=\"start\" x=\"466.5\" y=\"-245.8\" font-family=\"Helvetica,sans-Serif\" font-size=\"14.00\">LSTAT ≤ 11.675</text>\n",
       "<text text-anchor=\"start\" x=\"444\" y=\"-230.8\" font-family=\"Helvetica,sans-Serif\" font-size=\"14.00\">squared_error = 46.481</text>\n",
       "<text text-anchor=\"start\" x=\"472\" y=\"-215.8\" font-family=\"Helvetica,sans-Serif\" font-size=\"14.00\">samples = 235</text>\n",
       "<text text-anchor=\"start\" x=\"472.5\" y=\"-200.8\" font-family=\"Helvetica,sans-Serif\" font-size=\"14.00\">value = 20.674</text>\n",
       "</g>\n",
       "<!-- 0&#45;&gt;1 -->\n",
       "<g id=\"edge1\" class=\"edge\">\n",
       "<title>0&#45;&gt;1</title>\n",
       "<path fill=\"none\" stroke=\"black\" d=\"M643.09,-296.88C625.42,-287.04 605.92,-276.17 587.74,-266.03\"/>\n",
       "<polygon fill=\"black\" stroke=\"black\" points=\"589.37,-262.94 578.93,-261.12 585.96,-269.05 589.37,-262.94\"/>\n",
       "<text text-anchor=\"middle\" x=\"585.76\" y=\"-281.47\" font-family=\"Helvetica,sans-Serif\" font-size=\"14.00\">True</text>\n",
       "</g>\n",
       "<!-- 8 -->\n",
       "<g id=\"node9\" class=\"node\">\n",
       "<title>8</title>\n",
       "<path fill=\"#e89051\" stroke=\"black\" d=\"M945,-261C945,-261 802,-261 802,-261 796,-261 790,-255 790,-249 790,-249 790,-205 790,-205 790,-199 796,-193 802,-193 802,-193 945,-193 945,-193 951,-193 957,-199 957,-205 957,-205 957,-249 957,-249 957,-255 951,-261 945,-261\"/>\n",
       "<text text-anchor=\"start\" x=\"838.5\" y=\"-245.8\" font-family=\"Helvetica,sans-Serif\" font-size=\"14.00\">B ≤ 395.54</text>\n",
       "<text text-anchor=\"start\" x=\"798\" y=\"-230.8\" font-family=\"Helvetica,sans-Serif\" font-size=\"14.00\">squared_error = 22.366</text>\n",
       "<text text-anchor=\"start\" x=\"830\" y=\"-215.8\" font-family=\"Helvetica,sans-Serif\" font-size=\"14.00\">samples = 18</text>\n",
       "<text text-anchor=\"start\" x=\"826.5\" y=\"-200.8\" font-family=\"Helvetica,sans-Serif\" font-size=\"14.00\">value = 45.339</text>\n",
       "</g>\n",
       "<!-- 0&#45;&gt;8 -->\n",
       "<g id=\"edge8\" class=\"edge\">\n",
       "<title>0&#45;&gt;8</title>\n",
       "<path fill=\"none\" stroke=\"black\" d=\"M758.02,-296.88C774.38,-287.12 792.42,-276.37 809.27,-266.31\"/>\n",
       "<polygon fill=\"black\" stroke=\"black\" points=\"811.17,-269.25 817.97,-261.12 807.59,-263.24 811.17,-269.25\"/>\n",
       "<text text-anchor=\"middle\" x=\"811.84\" y=\"-281.66\" font-family=\"Helvetica,sans-Serif\" font-size=\"14.00\">False</text>\n",
       "</g>\n",
       "<!-- 2 -->\n",
       "<g id=\"node3\" class=\"node\">\n",
       "<title>2</title>\n",
       "<path fill=\"#f6d2b8\" stroke=\"black\" d=\"M316,-157C316,-157 173,-157 173,-157 167,-157 161,-151 161,-145 161,-145 161,-101 161,-101 161,-95 167,-89 173,-89 173,-89 316,-89 316,-89 322,-89 328,-95 328,-101 328,-101 328,-145 328,-145 328,-151 322,-157 316,-157\"/>\n",
       "<text text-anchor=\"start\" x=\"206\" y=\"-141.8\" font-family=\"Helvetica,sans-Serif\" font-size=\"14.00\">DIS ≤ 1.473</text>\n",
       "<text text-anchor=\"start\" x=\"169\" y=\"-126.8\" font-family=\"Helvetica,sans-Serif\" font-size=\"14.00\">squared_error = 31.938</text>\n",
       "<text text-anchor=\"start\" x=\"197\" y=\"-111.8\" font-family=\"Helvetica,sans-Serif\" font-size=\"14.00\">samples = 112</text>\n",
       "<text text-anchor=\"start\" x=\"197.5\" y=\"-96.8\" font-family=\"Helvetica,sans-Serif\" font-size=\"14.00\">value = 25.274</text>\n",
       "</g>\n",
       "<!-- 1&#45;&gt;2 -->\n",
       "<g id=\"edge2\" class=\"edge\">\n",
       "<title>1&#45;&gt;2</title>\n",
       "<path fill=\"none\" stroke=\"black\" d=\"M435.87,-194.98C404.94,-183.51 369.69,-170.43 337.94,-158.66\"/>\n",
       "<polygon fill=\"black\" stroke=\"black\" points=\"338.8,-155.24 328.21,-155.05 336.36,-161.81 338.8,-155.24\"/>\n",
       "</g>\n",
       "<!-- 5 -->\n",
       "<g id=\"node6\" class=\"node\">\n",
       "<title>5</title>\n",
       "<path fill=\"#fceee5\" stroke=\"black\" d=\"M591,-157C591,-157 448,-157 448,-157 442,-157 436,-151 436,-145 436,-145 436,-101 436,-101 436,-95 442,-89 448,-89 448,-89 591,-89 591,-89 597,-89 603,-95 603,-101 603,-101 603,-145 603,-145 603,-151 597,-157 591,-157\"/>\n",
       "<text text-anchor=\"start\" x=\"470.5\" y=\"-141.8\" font-family=\"Helvetica,sans-Serif\" font-size=\"14.00\">LSTAT ≤ 21.23</text>\n",
       "<text text-anchor=\"start\" x=\"444\" y=\"-126.8\" font-family=\"Helvetica,sans-Serif\" font-size=\"14.00\">squared_error = 22.911</text>\n",
       "<text text-anchor=\"start\" x=\"472\" y=\"-111.8\" font-family=\"Helvetica,sans-Serif\" font-size=\"14.00\">samples = 123</text>\n",
       "<text text-anchor=\"start\" x=\"472.5\" y=\"-96.8\" font-family=\"Helvetica,sans-Serif\" font-size=\"14.00\">value = 16.485</text>\n",
       "</g>\n",
       "<!-- 1&#45;&gt;5 -->\n",
       "<g id=\"edge5\" class=\"edge\">\n",
       "<title>1&#45;&gt;5</title>\n",
       "<path fill=\"none\" stroke=\"black\" d=\"M519.5,-192.88C519.5,-184.78 519.5,-175.98 519.5,-167.47\"/>\n",
       "<polygon fill=\"black\" stroke=\"black\" points=\"523,-167.3 519.5,-157.3 516,-167.3 523,-167.3\"/>\n",
       "</g>\n",
       "<!-- 3 -->\n",
       "<g id=\"node4\" class=\"node\">\n",
       "<title>3</title>\n",
       "<path fill=\"#e58139\" stroke=\"black\" d=\"M131,-53C131,-53 12,-53 12,-53 6,-53 0,-47 0,-41 0,-41 0,-12 0,-12 0,-6 6,0 12,0 12,0 131,0 131,0 137,0 143,-6 143,-12 143,-12 143,-41 143,-41 143,-47 137,-53 131,-53\"/>\n",
       "<text text-anchor=\"start\" x=\"8\" y=\"-37.8\" font-family=\"Helvetica,sans-Serif\" font-size=\"14.00\">squared_error = 0.0</text>\n",
       "<text text-anchor=\"start\" x=\"32\" y=\"-22.8\" font-family=\"Helvetica,sans-Serif\" font-size=\"14.00\">samples = 2</text>\n",
       "<text text-anchor=\"start\" x=\"32.5\" y=\"-7.8\" font-family=\"Helvetica,sans-Serif\" font-size=\"14.00\">value = 50.0</text>\n",
       "</g>\n",
       "<!-- 2&#45;&gt;3 -->\n",
       "<g id=\"edge3\" class=\"edge\">\n",
       "<title>2&#45;&gt;3</title>\n",
       "<path fill=\"none\" stroke=\"black\" d=\"M183.99,-88.95C165.66,-78.93 145.6,-67.98 127.57,-58.13\"/>\n",
       "<polygon fill=\"black\" stroke=\"black\" points=\"128.8,-54.81 118.34,-53.09 125.44,-60.95 128.8,-54.81\"/>\n",
       "</g>\n",
       "<!-- 4 -->\n",
       "<g id=\"node5\" class=\"node\">\n",
       "<title>4</title>\n",
       "<path fill=\"#f6d3ba\" stroke=\"black\" d=\"M316,-53C316,-53 173,-53 173,-53 167,-53 161,-47 161,-41 161,-41 161,-12 161,-12 161,-6 167,0 173,0 173,0 316,0 316,0 322,0 328,-6 328,-12 328,-12 328,-41 328,-41 328,-47 322,-53 316,-53\"/>\n",
       "<text text-anchor=\"start\" x=\"169\" y=\"-37.8\" font-family=\"Helvetica,sans-Serif\" font-size=\"14.00\">squared_error = 21.201</text>\n",
       "<text text-anchor=\"start\" x=\"197\" y=\"-22.8\" font-family=\"Helvetica,sans-Serif\" font-size=\"14.00\">samples = 110</text>\n",
       "<text text-anchor=\"start\" x=\"197.5\" y=\"-7.8\" font-family=\"Helvetica,sans-Serif\" font-size=\"14.00\">value = 24.825</text>\n",
       "</g>\n",
       "<!-- 2&#45;&gt;4 -->\n",
       "<g id=\"edge4\" class=\"edge\">\n",
       "<title>2&#45;&gt;4</title>\n",
       "<path fill=\"none\" stroke=\"black\" d=\"M244.5,-88.95C244.5,-80.72 244.5,-71.85 244.5,-63.48\"/>\n",
       "<polygon fill=\"black\" stroke=\"black\" points=\"248,-63.24 244.5,-53.24 241,-63.24 248,-63.24\"/>\n",
       "</g>\n",
       "<!-- 6 -->\n",
       "<g id=\"node7\" class=\"node\">\n",
       "<title>6</title>\n",
       "<path fill=\"#fae8db\" stroke=\"black\" d=\"M501,-53C501,-53 358,-53 358,-53 352,-53 346,-47 346,-41 346,-41 346,-12 346,-12 346,-6 352,0 358,0 358,0 501,0 501,0 507,0 513,-6 513,-12 513,-12 513,-41 513,-41 513,-47 507,-53 501,-53\"/>\n",
       "<text text-anchor=\"start\" x=\"354\" y=\"-37.8\" font-family=\"Helvetica,sans-Serif\" font-size=\"14.00\">squared_error = 12.202</text>\n",
       "<text text-anchor=\"start\" x=\"386\" y=\"-22.8\" font-family=\"Helvetica,sans-Serif\" font-size=\"14.00\">samples = 90</text>\n",
       "<text text-anchor=\"start\" x=\"382.5\" y=\"-7.8\" font-family=\"Helvetica,sans-Serif\" font-size=\"14.00\">value = 18.367</text>\n",
       "</g>\n",
       "<!-- 5&#45;&gt;6 -->\n",
       "<g id=\"edge6\" class=\"edge\">\n",
       "<title>5&#45;&gt;6</title>\n",
       "<path fill=\"none\" stroke=\"black\" d=\"M488.02,-88.95C479.31,-79.8 469.85,-69.87 461.13,-60.71\"/>\n",
       "<polygon fill=\"black\" stroke=\"black\" points=\"463.44,-58.06 454.01,-53.24 458.37,-62.89 463.44,-58.06\"/>\n",
       "</g>\n",
       "<!-- 7 -->\n",
       "<g id=\"node8\" class=\"node\">\n",
       "<title>7</title>\n",
       "<path fill=\"#ffffff\" stroke=\"black\" d=\"M686,-53C686,-53 543,-53 543,-53 537,-53 531,-47 531,-41 531,-41 531,-12 531,-12 531,-6 537,0 543,0 543,0 686,0 686,0 692,0 698,-6 698,-12 698,-12 698,-41 698,-41 698,-47 692,-53 686,-53\"/>\n",
       "<text text-anchor=\"start\" x=\"539\" y=\"-37.8\" font-family=\"Helvetica,sans-Serif\" font-size=\"14.00\">squared_error = 16.139</text>\n",
       "<text text-anchor=\"start\" x=\"571\" y=\"-22.8\" font-family=\"Helvetica,sans-Serif\" font-size=\"14.00\">samples = 33</text>\n",
       "<text text-anchor=\"start\" x=\"567.5\" y=\"-7.8\" font-family=\"Helvetica,sans-Serif\" font-size=\"14.00\">value = 11.355</text>\n",
       "</g>\n",
       "<!-- 5&#45;&gt;7 -->\n",
       "<g id=\"edge7\" class=\"edge\">\n",
       "<title>5&#45;&gt;7</title>\n",
       "<path fill=\"none\" stroke=\"black\" d=\"M552.73,-88.95C562.01,-79.71 572.11,-69.67 581.39,-60.44\"/>\n",
       "<polygon fill=\"black\" stroke=\"black\" points=\"584.01,-62.77 588.63,-53.24 579.07,-57.81 584.01,-62.77\"/>\n",
       "</g>\n",
       "<!-- 9 -->\n",
       "<g id=\"node10\" class=\"node\">\n",
       "<title>9</title>\n",
       "<path fill=\"#e78a47\" stroke=\"black\" d=\"M941,-157C941,-157 806,-157 806,-157 800,-157 794,-151 794,-145 794,-145 794,-101 794,-101 794,-95 800,-89 806,-89 806,-89 941,-89 941,-89 947,-89 953,-95 953,-101 953,-101 953,-145 953,-145 953,-151 947,-157 941,-157\"/>\n",
       "<text text-anchor=\"start\" x=\"832\" y=\"-141.8\" font-family=\"Helvetica,sans-Serif\" font-size=\"14.00\">AGE ≤ 80.65</text>\n",
       "<text text-anchor=\"start\" x=\"802\" y=\"-126.8\" font-family=\"Helvetica,sans-Serif\" font-size=\"14.00\">squared_error = 8.751</text>\n",
       "<text text-anchor=\"start\" x=\"830\" y=\"-111.8\" font-family=\"Helvetica,sans-Serif\" font-size=\"14.00\">samples = 14</text>\n",
       "<text text-anchor=\"start\" x=\"826.5\" y=\"-96.8\" font-family=\"Helvetica,sans-Serif\" font-size=\"14.00\">value = 47.257</text>\n",
       "</g>\n",
       "<!-- 8&#45;&gt;9 -->\n",
       "<g id=\"edge9\" class=\"edge\">\n",
       "<title>8&#45;&gt;9</title>\n",
       "<path fill=\"none\" stroke=\"black\" d=\"M873.5,-192.88C873.5,-184.78 873.5,-175.98 873.5,-167.47\"/>\n",
       "<polygon fill=\"black\" stroke=\"black\" points=\"877,-167.3 873.5,-157.3 870,-167.3 877,-167.3\"/>\n",
       "</g>\n",
       "<!-- 12 -->\n",
       "<g id=\"node13\" class=\"node\">\n",
       "<title>12</title>\n",
       "<path fill=\"#eda673\" stroke=\"black\" d=\"M1205,-157C1205,-157 1062,-157 1062,-157 1056,-157 1050,-151 1050,-145 1050,-145 1050,-101 1050,-101 1050,-95 1056,-89 1062,-89 1062,-89 1205,-89 1205,-89 1211,-89 1217,-95 1217,-101 1217,-101 1217,-145 1217,-145 1217,-151 1211,-157 1205,-157\"/>\n",
       "<text text-anchor=\"start\" x=\"1100.5\" y=\"-141.8\" font-family=\"Helvetica,sans-Serif\" font-size=\"14.00\">RM ≤ 7.59</text>\n",
       "<text text-anchor=\"start\" x=\"1058\" y=\"-126.8\" font-family=\"Helvetica,sans-Serif\" font-size=\"14.00\">squared_error = 12.062</text>\n",
       "<text text-anchor=\"start\" x=\"1094\" y=\"-111.8\" font-family=\"Helvetica,sans-Serif\" font-size=\"14.00\">samples = 4</text>\n",
       "<text text-anchor=\"start\" x=\"1086.5\" y=\"-96.8\" font-family=\"Helvetica,sans-Serif\" font-size=\"14.00\">value = 38.625</text>\n",
       "</g>\n",
       "<!-- 8&#45;&gt;12 -->\n",
       "<g id=\"edge12\" class=\"edge\">\n",
       "<title>8&#45;&gt;12</title>\n",
       "<path fill=\"none\" stroke=\"black\" d=\"M957.2,-193.17C983.76,-182.75 1013.28,-171.16 1040.45,-160.5\"/>\n",
       "<polygon fill=\"black\" stroke=\"black\" points=\"1041.93,-163.68 1049.96,-156.77 1039.37,-157.17 1041.93,-163.68\"/>\n",
       "</g>\n",
       "<!-- 10 -->\n",
       "<g id=\"node11\" class=\"node\">\n",
       "<title>10</title>\n",
       "<path fill=\"#e88d4c\" stroke=\"black\" d=\"M863,-53C863,-53 728,-53 728,-53 722,-53 716,-47 716,-41 716,-41 716,-12 716,-12 716,-6 722,0 728,0 728,0 863,0 863,0 869,0 875,-6 875,-12 875,-12 875,-41 875,-41 875,-47 869,-53 863,-53\"/>\n",
       "<text text-anchor=\"start\" x=\"724\" y=\"-37.8\" font-family=\"Helvetica,sans-Serif\" font-size=\"14.00\">squared_error = 8.802</text>\n",
       "<text text-anchor=\"start\" x=\"752\" y=\"-22.8\" font-family=\"Helvetica,sans-Serif\" font-size=\"14.00\">samples = 10</text>\n",
       "<text text-anchor=\"start\" x=\"752.5\" y=\"-7.8\" font-family=\"Helvetica,sans-Serif\" font-size=\"14.00\">value = 46.28</text>\n",
       "</g>\n",
       "<!-- 9&#45;&gt;10 -->\n",
       "<g id=\"edge10\" class=\"edge\">\n",
       "<title>9&#45;&gt;10</title>\n",
       "<path fill=\"none\" stroke=\"black\" d=\"M846.22,-88.95C838.74,-79.89 830.64,-70.07 823.14,-60.99\"/>\n",
       "<polygon fill=\"black\" stroke=\"black\" points=\"825.81,-58.72 816.74,-53.24 820.41,-63.18 825.81,-58.72\"/>\n",
       "</g>\n",
       "<!-- 11 -->\n",
       "<g id=\"node12\" class=\"node\">\n",
       "<title>11</title>\n",
       "<path fill=\"#e5823b\" stroke=\"black\" d=\"M1032,-53C1032,-53 905,-53 905,-53 899,-53 893,-47 893,-41 893,-41 893,-12 893,-12 893,-6 899,0 905,0 905,0 1032,0 1032,0 1038,0 1044,-6 1044,-12 1044,-12 1044,-41 1044,-41 1044,-47 1038,-53 1032,-53\"/>\n",
       "<text text-anchor=\"start\" x=\"901\" y=\"-37.8\" font-family=\"Helvetica,sans-Serif\" font-size=\"14.00\">squared_error = 0.27</text>\n",
       "<text text-anchor=\"start\" x=\"929\" y=\"-22.8\" font-family=\"Helvetica,sans-Serif\" font-size=\"14.00\">samples = 4</text>\n",
       "<text text-anchor=\"start\" x=\"929.5\" y=\"-7.8\" font-family=\"Helvetica,sans-Serif\" font-size=\"14.00\">value = 49.7</text>\n",
       "</g>\n",
       "<!-- 9&#45;&gt;11 -->\n",
       "<g id=\"edge11\" class=\"edge\">\n",
       "<title>9&#45;&gt;11</title>\n",
       "<path fill=\"none\" stroke=\"black\" d=\"M906.73,-88.95C916.01,-79.71 926.11,-69.67 935.39,-60.44\"/>\n",
       "<polygon fill=\"black\" stroke=\"black\" points=\"938.01,-62.77 942.63,-53.24 933.07,-57.81 938.01,-62.77\"/>\n",
       "</g>\n",
       "<!-- 13 -->\n",
       "<g id=\"node14\" class=\"node\">\n",
       "<title>13</title>\n",
       "<path fill=\"#f0b88f\" stroke=\"black\" d=\"M1193,-53C1193,-53 1074,-53 1074,-53 1068,-53 1062,-47 1062,-41 1062,-41 1062,-12 1062,-12 1062,-6 1068,0 1074,0 1074,0 1193,0 1193,0 1199,0 1205,-6 1205,-12 1205,-12 1205,-41 1205,-41 1205,-47 1199,-53 1193,-53\"/>\n",
       "<text text-anchor=\"start\" x=\"1070\" y=\"-37.8\" font-family=\"Helvetica,sans-Serif\" font-size=\"14.00\">squared_error = 0.0</text>\n",
       "<text text-anchor=\"start\" x=\"1094\" y=\"-22.8\" font-family=\"Helvetica,sans-Serif\" font-size=\"14.00\">samples = 1</text>\n",
       "<text text-anchor=\"start\" x=\"1094.5\" y=\"-7.8\" font-family=\"Helvetica,sans-Serif\" font-size=\"14.00\">value = 33.2</text>\n",
       "</g>\n",
       "<!-- 12&#45;&gt;13 -->\n",
       "<g id=\"edge13\" class=\"edge\">\n",
       "<title>12&#45;&gt;13</title>\n",
       "<path fill=\"none\" stroke=\"black\" d=\"M1133.5,-88.95C1133.5,-80.72 1133.5,-71.85 1133.5,-63.48\"/>\n",
       "<polygon fill=\"black\" stroke=\"black\" points=\"1137,-63.24 1133.5,-53.24 1130,-63.24 1137,-63.24\"/>\n",
       "</g>\n",
       "<!-- 14 -->\n",
       "<g id=\"node15\" class=\"node\">\n",
       "<title>14</title>\n",
       "<path fill=\"#eba06a\" stroke=\"black\" d=\"M1370,-53C1370,-53 1235,-53 1235,-53 1229,-53 1223,-47 1223,-41 1223,-41 1223,-12 1223,-12 1223,-6 1229,0 1235,0 1235,0 1370,0 1370,0 1376,0 1382,-6 1382,-12 1382,-12 1382,-41 1382,-41 1382,-47 1376,-53 1370,-53\"/>\n",
       "<text text-anchor=\"start\" x=\"1231\" y=\"-37.8\" font-family=\"Helvetica,sans-Serif\" font-size=\"14.00\">squared_error = 3.002</text>\n",
       "<text text-anchor=\"start\" x=\"1263\" y=\"-22.8\" font-family=\"Helvetica,sans-Serif\" font-size=\"14.00\">samples = 3</text>\n",
       "<text text-anchor=\"start\" x=\"1255.5\" y=\"-7.8\" font-family=\"Helvetica,sans-Serif\" font-size=\"14.00\">value = 40.433</text>\n",
       "</g>\n",
       "<!-- 12&#45;&gt;14 -->\n",
       "<g id=\"edge14\" class=\"edge\">\n",
       "<title>12&#45;&gt;14</title>\n",
       "<path fill=\"none\" stroke=\"black\" d=\"M1192.61,-88.95C1210.52,-78.93 1230.11,-67.98 1247.73,-58.13\"/>\n",
       "<polygon fill=\"black\" stroke=\"black\" points=\"1249.72,-61.02 1256.74,-53.09 1246.31,-54.91 1249.72,-61.02\"/>\n",
       "</g>\n",
       "</g>\n",
       "</svg>\n"
      ],
      "text/plain": [
       "<graphviz.sources.Source at 0x2377093f010>"
      ]
     },
     "execution_count": 27,
     "metadata": {},
     "output_type": "execute_result"
    }
   ],
   "source": [
    "tree_boston_graph = export_graphviz(tree_reg, \n",
    "                                    out_file = None, \n",
    "                                    feature_names = X.columns,\n",
    "                                    filled = True, \n",
    "                                    rounded = True,  \n",
    "                                    special_characters = True)\n",
    "\n",
    "Source(tree_boston_graph)"
   ]
  },
  {
   "cell_type": "markdown",
   "id": "5323c039",
   "metadata": {},
   "source": [
    "The tree says, greater values on RM(average number of rooms per dwelling) correspond to more expensive houses."
   ]
  },
  {
   "cell_type": "code",
   "execution_count": 28,
   "id": "2bcfc1fb",
   "metadata": {},
   "outputs": [
    {
     "data": {
      "text/html": [
       "<div>\n",
       "<style scoped>\n",
       "    .dataframe tbody tr th:only-of-type {\n",
       "        vertical-align: middle;\n",
       "    }\n",
       "\n",
       "    .dataframe tbody tr th {\n",
       "        vertical-align: top;\n",
       "    }\n",
       "\n",
       "    .dataframe thead th {\n",
       "        text-align: right;\n",
       "    }\n",
       "</style>\n",
       "<table border=\"1\" class=\"dataframe\">\n",
       "  <thead>\n",
       "    <tr style=\"text-align: right;\">\n",
       "      <th></th>\n",
       "      <th>Importance</th>\n",
       "    </tr>\n",
       "  </thead>\n",
       "  <tbody>\n",
       "    <tr>\n",
       "      <th>RM</th>\n",
       "      <td>58.559967</td>\n",
       "    </tr>\n",
       "    <tr>\n",
       "      <th>LSTAT</th>\n",
       "      <td>32.778608</td>\n",
       "    </tr>\n",
       "    <tr>\n",
       "      <th>DIS</th>\n",
       "      <td>7.140213</td>\n",
       "    </tr>\n",
       "    <tr>\n",
       "      <th>B</th>\n",
       "      <td>1.329550</td>\n",
       "    </tr>\n",
       "    <tr>\n",
       "      <th>AGE</th>\n",
       "      <td>0.191662</td>\n",
       "    </tr>\n",
       "    <tr>\n",
       "      <th>CRIM</th>\n",
       "      <td>0.000000</td>\n",
       "    </tr>\n",
       "    <tr>\n",
       "      <th>ZN</th>\n",
       "      <td>0.000000</td>\n",
       "    </tr>\n",
       "    <tr>\n",
       "      <th>INDUS</th>\n",
       "      <td>0.000000</td>\n",
       "    </tr>\n",
       "    <tr>\n",
       "      <th>CHAS</th>\n",
       "      <td>0.000000</td>\n",
       "    </tr>\n",
       "    <tr>\n",
       "      <th>NOX</th>\n",
       "      <td>0.000000</td>\n",
       "    </tr>\n",
       "    <tr>\n",
       "      <th>RAD</th>\n",
       "      <td>0.000000</td>\n",
       "    </tr>\n",
       "    <tr>\n",
       "      <th>TAX</th>\n",
       "      <td>0.000000</td>\n",
       "    </tr>\n",
       "    <tr>\n",
       "      <th>PTRATIO</th>\n",
       "      <td>0.000000</td>\n",
       "    </tr>\n",
       "  </tbody>\n",
       "</table>\n",
       "</div>"
      ],
      "text/plain": [
       "         Importance\n",
       "RM        58.559967\n",
       "LSTAT     32.778608\n",
       "DIS        7.140213\n",
       "B          1.329550\n",
       "AGE        0.191662\n",
       "CRIM       0.000000\n",
       "ZN         0.000000\n",
       "INDUS      0.000000\n",
       "CHAS       0.000000\n",
       "NOX        0.000000\n",
       "RAD        0.000000\n",
       "TAX        0.000000\n",
       "PTRATIO    0.000000"
      ]
     },
     "execution_count": 28,
     "metadata": {},
     "output_type": "execute_result"
    }
   ],
   "source": [
    "# Feature Imporcances\n",
    "pd.DataFrame({'Importance': tree_reg.feature_importances_ * 100}, index = X.columns)\\\n",
    "    .sort_values('Importance', ascending = False, axis = 0)"
   ]
  },
  {
   "cell_type": "markdown",
   "id": "54eb89de",
   "metadata": {},
   "source": [
    "Now we are going to prune the tree with Cost Cmplexity Pruning."
   ]
  },
  {
   "cell_type": "code",
   "execution_count": 29,
   "id": "a8a342b9",
   "metadata": {},
   "outputs": [
    {
     "data": {
      "text/plain": [
       "GridSearchCV(cv=10, estimator=DecisionTreeRegressor(random_state=123),\n",
       "             param_grid={'ccp_alpha': array([0.00000000e+00, 1.97628458e-05, 1.97628458e-05, 1.97628458e-05,\n",
       "       1.97628458e-05, 1.97628458e-05, 1.97628458e-05, 1.97628458e-05,\n",
       "       1.97628458e-05, 1.97628458e-05, 1.97628459e-05, 1.97628459e-05,\n",
       "       1.97628459e-05, 1.97628459e-05, 1.97628459e-05, 1.97628459e-05,\n",
       "       2.63504611...\n",
       "       1.76972661e-01, 1.82877744e-01, 1.83252400e-01, 2.14338880e-01,\n",
       "       2.17194225e-01, 2.21265985e-01, 2.25690807e-01, 2.50123518e-01,\n",
       "       2.55861040e-01, 2.59689495e-01, 2.85983656e-01, 3.43639657e-01,\n",
       "       4.22843227e-01, 4.96662813e-01, 5.19873147e-01, 8.40591304e-01,\n",
       "       9.16288506e-01, 9.91339906e-01, 1.14840146e+00, 4.50943026e+00,\n",
       "       4.69277407e+00, 4.92083472e+00, 1.78973245e+01, 4.02027863e+01])},\n",
       "             return_train_score=True)"
      ]
     },
     "execution_count": 29,
     "metadata": {},
     "output_type": "execute_result"
    }
   ],
   "source": [
    "# Get the best alphas path\n",
    "tree_reg_get_alphas = DecisionTreeRegressor(random_state = 123)\n",
    "alphas_reg = tree_reg_get_alphas.cost_complexity_pruning_path(X_train, y_train)[\"ccp_alphas\"]\n",
    "\n",
    "# The tree grows as much as possible\n",
    "tree_reg_base_mdoel = DecisionTreeRegressor(\n",
    "                                        max_depth         = None,\n",
    "                                        min_samples_split = 2,\n",
    "                                        min_samples_leaf  = 1,\n",
    "                                        random_state      = 123)\n",
    "gridsearch_reg = GridSearchCV(\n",
    "                estimator = tree_reg_base_mdoel,\n",
    "                param_grid = {\"ccp_alpha\": alphas_reg},\n",
    "                cv         = 10,\n",
    "                refit      = True,\n",
    "                return_train_score = True\n",
    "              )\n",
    "\n",
    "gridsearch_reg.fit(X_train, y_train)"
   ]
  },
  {
   "cell_type": "code",
   "execution_count": 30,
   "id": "4340ef9d",
   "metadata": {},
   "outputs": [
    {
     "data": {
      "image/png": "[encoded data removed]",
      "text/plain": [
       "<Figure size 432x276.48 with 1 Axes>"
      ]
     },
     "metadata": {
      "needs_background": "light"
     },
     "output_type": "display_data"
    }
   ],
   "source": [
    "fig, ax = plt.subplots(figsize=(6, 3.84))\n",
    "scores = pd.DataFrame(gridsearch_reg.cv_results_)\n",
    "scores.plot(x='param_ccp_alpha', y='mean_train_score', yerr='std_train_score', ax=ax)\n",
    "scores.plot(x='param_ccp_alpha', y='mean_test_score', yerr='std_test_score', ax=ax)\n",
    "ax.set_title(\"Score Cross Validation\");"
   ]
  },
  {
   "cell_type": "code",
   "execution_count": 31,
   "id": "e8233ecc",
   "metadata": {},
   "outputs": [],
   "source": [
    "best_tree_reg = gridsearch_reg.best_estimator_"
   ]
  },
  {
   "cell_type": "markdown",
   "id": "0aed1f52",
   "metadata": {},
   "source": [
    "The pruned tree has improve MSE and has less leaves than beafore."
   ]
  },
  {
   "cell_type": "code",
   "execution_count": 32,
   "id": "9280cd8e",
   "metadata": {},
   "outputs": [
    {
     "name": "stdout",
     "output_type": "stream",
     "text": [
      "The MSE of the tree model is: 24.51027509903997\n"
     ]
    }
   ],
   "source": [
    "print(\"The MSE of the tree model is:\", mean_squared_error(y_test, best_tree_reg.predict(X_test)))"
   ]
  },
  {
   "cell_type": "code",
   "execution_count": 33,
   "id": "d6aa9128",
   "metadata": {},
   "outputs": [
    {
     "name": "stdout",
     "output_type": "stream",
     "text": [
      "The depth of the tree is:  5\n",
      "The number of leaves is:  11\n"
     ]
    }
   ],
   "source": [
    "print(\"The depth of the tree is: \", best_tree_reg.get_depth())\n",
    "print(\"The number of leaves is: \", best_tree_reg.get_n_leaves())"
   ]
  },
  {
   "cell_type": "markdown",
   "id": "ff98cbfd",
   "metadata": {},
   "source": [
    "The square root of MS is about Eindicating is therefore around 5.5 model leads to test predictions that are (on average) within approximately $5,5 of the true median home value for the census tract."
   ]
  },
  {
   "cell_type": "markdown",
   "id": "a2bdfcb1",
   "metadata": {},
   "source": [
    "### Bagging and Random Forests"
   ]
  },
  {
   "cell_type": "code",
   "execution_count": 34,
   "id": "18adaa9f",
   "metadata": {},
   "outputs": [],
   "source": [
    "import numpy as np\n",
    "import pandas as pd\n",
    "import matplotlib.pyplot as plt\n",
    "from sklearn.model_selection import train_test_split\n",
    "from sklearn.ensemble import RandomForestRegressor\n",
    "from sklearn.metrics import mean_squared_error"
   ]
  },
  {
   "cell_type": "markdown",
   "id": "47eb5d02",
   "metadata": {},
   "source": [
    "We import the Boston house-price data."
   ]
  },
  {
   "cell_type": "code",
   "execution_count": 35,
   "id": "48ba9a8d",
   "metadata": {},
   "outputs": [],
   "source": [
    "# Import Data\n",
    "data_url = \"http://lib.stat.cmu.edu/datasets/boston\"\n",
    "raw_df = pd.read_csv(data_url, sep=\"\\s+\", skiprows=22, header=None)\n",
    "data = np.hstack([raw_df.values[::2, :], raw_df.values[1::2, :2]])\n",
    "target = raw_df.values[1::2, 2]\n",
    "# This chunk of code is extracted from scikit-learn warning message beacuse boston data will deprectaed in 1.2 version "
   ]
  },
  {
   "cell_type": "code",
   "execution_count": 36,
   "id": "3ca32d25",
   "metadata": {},
   "outputs": [
    {
     "data": {
      "text/html": [
       "<div>\n",
       "<style scoped>\n",
       "    .dataframe tbody tr th:only-of-type {\n",
       "        vertical-align: middle;\n",
       "    }\n",
       "\n",
       "    .dataframe tbody tr th {\n",
       "        vertical-align: top;\n",
       "    }\n",
       "\n",
       "    .dataframe thead th {\n",
       "        text-align: right;\n",
       "    }\n",
       "</style>\n",
       "<table border=\"1\" class=\"dataframe\">\n",
       "  <thead>\n",
       "    <tr style=\"text-align: right;\">\n",
       "      <th></th>\n",
       "      <th>CRIM</th>\n",
       "      <th>ZN</th>\n",
       "      <th>INDUS</th>\n",
       "      <th>CHAS</th>\n",
       "      <th>NOX</th>\n",
       "      <th>RM</th>\n",
       "      <th>AGE</th>\n",
       "      <th>DIS</th>\n",
       "      <th>RAD</th>\n",
       "      <th>TAX</th>\n",
       "      <th>PTRATIO</th>\n",
       "      <th>B</th>\n",
       "      <th>LSTAT</th>\n",
       "    </tr>\n",
       "  </thead>\n",
       "  <tbody>\n",
       "    <tr>\n",
       "      <th>0</th>\n",
       "      <td>0.00632</td>\n",
       "      <td>18.0</td>\n",
       "      <td>2.31</td>\n",
       "      <td>0.0</td>\n",
       "      <td>0.538</td>\n",
       "      <td>6.575</td>\n",
       "      <td>65.2</td>\n",
       "      <td>4.0900</td>\n",
       "      <td>1.0</td>\n",
       "      <td>296.0</td>\n",
       "      <td>15.3</td>\n",
       "      <td>396.90</td>\n",
       "      <td>4.98</td>\n",
       "    </tr>\n",
       "    <tr>\n",
       "      <th>1</th>\n",
       "      <td>0.02731</td>\n",
       "      <td>0.0</td>\n",
       "      <td>7.07</td>\n",
       "      <td>0.0</td>\n",
       "      <td>0.469</td>\n",
       "      <td>6.421</td>\n",
       "      <td>78.9</td>\n",
       "      <td>4.9671</td>\n",
       "      <td>2.0</td>\n",
       "      <td>242.0</td>\n",
       "      <td>17.8</td>\n",
       "      <td>396.90</td>\n",
       "      <td>9.14</td>\n",
       "    </tr>\n",
       "    <tr>\n",
       "      <th>2</th>\n",
       "      <td>0.02729</td>\n",
       "      <td>0.0</td>\n",
       "      <td>7.07</td>\n",
       "      <td>0.0</td>\n",
       "      <td>0.469</td>\n",
       "      <td>7.185</td>\n",
       "      <td>61.1</td>\n",
       "      <td>4.9671</td>\n",
       "      <td>2.0</td>\n",
       "      <td>242.0</td>\n",
       "      <td>17.8</td>\n",
       "      <td>392.83</td>\n",
       "      <td>4.03</td>\n",
       "    </tr>\n",
       "    <tr>\n",
       "      <th>3</th>\n",
       "      <td>0.03237</td>\n",
       "      <td>0.0</td>\n",
       "      <td>2.18</td>\n",
       "      <td>0.0</td>\n",
       "      <td>0.458</td>\n",
       "      <td>6.998</td>\n",
       "      <td>45.8</td>\n",
       "      <td>6.0622</td>\n",
       "      <td>3.0</td>\n",
       "      <td>222.0</td>\n",
       "      <td>18.7</td>\n",
       "      <td>394.63</td>\n",
       "      <td>2.94</td>\n",
       "    </tr>\n",
       "    <tr>\n",
       "      <th>4</th>\n",
       "      <td>0.06905</td>\n",
       "      <td>0.0</td>\n",
       "      <td>2.18</td>\n",
       "      <td>0.0</td>\n",
       "      <td>0.458</td>\n",
       "      <td>7.147</td>\n",
       "      <td>54.2</td>\n",
       "      <td>6.0622</td>\n",
       "      <td>3.0</td>\n",
       "      <td>222.0</td>\n",
       "      <td>18.7</td>\n",
       "      <td>396.90</td>\n",
       "      <td>5.33</td>\n",
       "    </tr>\n",
       "  </tbody>\n",
       "</table>\n",
       "</div>"
      ],
      "text/plain": [
       "      CRIM    ZN  INDUS  CHAS    NOX     RM   AGE     DIS  RAD    TAX  \\\n",
       "0  0.00632  18.0   2.31   0.0  0.538  6.575  65.2  4.0900  1.0  296.0   \n",
       "1  0.02731   0.0   7.07   0.0  0.469  6.421  78.9  4.9671  2.0  242.0   \n",
       "2  0.02729   0.0   7.07   0.0  0.469  7.185  61.1  4.9671  2.0  242.0   \n",
       "3  0.03237   0.0   2.18   0.0  0.458  6.998  45.8  6.0622  3.0  222.0   \n",
       "4  0.06905   0.0   2.18   0.0  0.458  7.147  54.2  6.0622  3.0  222.0   \n",
       "\n",
       "   PTRATIO       B  LSTAT  \n",
       "0     15.3  396.90   4.98  \n",
       "1     17.8  396.90   9.14  \n",
       "2     17.8  392.83   4.03  \n",
       "3     18.7  394.63   2.94  \n",
       "4     18.7  396.90   5.33  "
      ]
     },
     "execution_count": 36,
     "metadata": {},
     "output_type": "execute_result"
    }
   ],
   "source": [
    "feature_names = ['CRIM', 'ZN', 'INDUS', 'CHAS', 'NOX', 'RM','AGE', 'DIS', 'RAD','TAX', 'PTRATIO', 'B', 'LSTAT']\n",
    "boston = pd.DataFrame(data, columns = feature_names)\n",
    "boston.head()"
   ]
  },
  {
   "cell_type": "code",
   "execution_count": 37,
   "id": "4b2b7019",
   "metadata": {},
   "outputs": [],
   "source": [
    "# Target and Predictor Variables\n",
    "X = boston.copy()\n",
    "y = target.copy()"
   ]
  },
  {
   "cell_type": "code",
   "execution_count": 38,
   "id": "bb4947d8",
   "metadata": {},
   "outputs": [],
   "source": [
    "# The test size is 50% beacuse the book takes 50% of the data for training set\n",
    "X_train, X_test, y_train, y_test = train_test_split(X, y, test_size = 0.5, random_state = 123)"
   ]
  },
  {
   "cell_type": "markdown",
   "id": "e8783198",
   "metadata": {},
   "source": [
    "**We apply a bagging model.** To do that we use all features in a Random Forest."
   ]
  },
  {
   "cell_type": "code",
   "execution_count": 39,
   "id": "d14f84d8",
   "metadata": {},
   "outputs": [
    {
     "data": {
      "text/plain": [
       "RandomForestRegressor(max_features=13, n_estimators=500, n_jobs=-1,\n",
       "                      random_state=123)"
      ]
     },
     "execution_count": 39,
     "metadata": {},
     "output_type": "execute_result"
    }
   ],
   "source": [
    "# Fit Baggin Model\n",
    "n_features = X_train.shape[1]\n",
    "baggin = RandomForestRegressor(n_estimators = 500, # The ISL book uses 500 trees \n",
    "                                max_features = n_features,\n",
    "                                random_state = 123,\n",
    "                                n_jobs = -1)  \n",
    "baggin.fit(X_train, y_train)"
   ]
  },
  {
   "cell_type": "code",
   "execution_count": 40,
   "id": "c760ebc2",
   "metadata": {},
   "outputs": [
    {
     "name": "stdout",
     "output_type": "stream",
     "text": [
      "The MSE of the tree model is: 13.488702016442634\n"
     ]
    }
   ],
   "source": [
    "y_test_predict = baggin.predict(X_test)\n",
    "print(\"The MSE of the bagging model is:\", mean_squared_error(y_test, y_test_predict))"
   ]
  },
  {
   "cell_type": "markdown",
   "id": "df90463f",
   "metadata": {},
   "source": [
    "The bagged regreession model has improve the MSE, the MSE for a ony one tree pruned was around $24.5$ but the MSE of the baggin model is around $13.5$"
   ]
  },
  {
   "cell_type": "code",
   "execution_count": 41,
   "id": "89aa028f",
   "metadata": {},
   "outputs": [
    {
     "data": {
      "image/png": "[encoded data removed]",
      "text/plain": [
       "<Figure size 432x288 with 1 Axes>"
      ]
     },
     "metadata": {
      "needs_background": "light"
     },
     "output_type": "display_data"
    }
   ],
   "source": [
    "plt.scatter(y_test, y_test_predict);"
   ]
  },
  {
   "cell_type": "markdown",
   "id": "247460b3",
   "metadata": {},
   "source": [
    "**We apply a random forest.** To do that we use 6 features(beacuse the ISL book use thaht number) instead of 13."
   ]
  },
  {
   "cell_type": "code",
   "execution_count": 42,
   "id": "56172855",
   "metadata": {},
   "outputs": [
    {
     "data": {
      "text/plain": [
       "RandomForestRegressor(max_features=6, n_estimators=500, n_jobs=-1,\n",
       "                      random_state=123)"
      ]
     },
     "execution_count": 42,
     "metadata": {},
     "output_type": "execute_result"
    }
   ],
   "source": [
    "# Fit Random Forest Model\n",
    "forest = RandomForestRegressor(n_estimators = 500, # The ISL book uses 500 trees \n",
    "                                max_features = 6,\n",
    "                                random_state = 123,\n",
    "                                n_jobs = -1)  \n",
    "forest.fit(X_train, y_train)"
   ]
  },
  {
   "cell_type": "markdown",
   "id": "d18c016a",
   "metadata": {},
   "source": [
    "The Random Forest improves the MSE now it is around  $11.3$ this indicates that random forests yielded an improvement over bagging in this case."
   ]
  },
  {
   "cell_type": "code",
   "execution_count": 43,
   "id": "0d360971",
   "metadata": {},
   "outputs": [
    {
     "name": "stdout",
     "output_type": "stream",
     "text": [
      "The MSE of the tree model is: 11.284722737707497\n"
     ]
    }
   ],
   "source": [
    "y_test_predict = forest.predict(X_test)\n",
    "print(\"The MSE of the random forest model is:\", mean_squared_error(y_test, y_test_predict))"
   ]
  },
  {
   "cell_type": "code",
   "execution_count": 44,
   "id": "2aaf7b69",
   "metadata": {},
   "outputs": [
    {
     "data": {
      "image/png": "[encoded data removed]",
      "text/plain": [
       "<Figure size 432x288 with 1 Axes>"
      ]
     },
     "metadata": {
      "needs_background": "light"
     },
     "output_type": "display_data"
    }
   ],
   "source": [
    "plt.scatter(y_test, y_test_predict);"
   ]
  },
  {
   "cell_type": "code",
   "execution_count": 45,
   "id": "fd50a55a",
   "metadata": {},
   "outputs": [
    {
     "data": {
      "image/png": "[encoded data removed]",
      "text/plain": [
       "<Figure size 432x288 with 1 Axes>"
      ]
     },
     "metadata": {
      "needs_background": "light"
     },
     "output_type": "display_data"
    }
   ],
   "source": [
    "# Feature Imporcances\n",
    "pd.DataFrame({'Importance': forest.feature_importances_ * 100}, index = X_train.columns)\\\n",
    "    .sort_values('Importance', ascending = True, axis = 0)\\\n",
    "    .plot(kind = 'barh', title = 'Feature Importance');"
   ]
  },
  {
   "cell_type": "markdown",
   "id": "0eaedacb",
   "metadata": {},
   "source": [
    "**ISL book:** The results indicate that across all of the trees considered in the random forest, the wealth of the community (lstat) and the house size (rm) are by far the two most important variables."
   ]
  },
  {
   "cell_type": "markdown",
   "id": "7b223883",
   "metadata": {},
   "source": [
    "### Boosting"
   ]
  },
  {
   "cell_type": "code",
   "execution_count": 75,
   "id": "23ab04ca",
   "metadata": {},
   "outputs": [],
   "source": [
    "import numpy as np\n",
    "import pandas as pd\n",
    "from sklearn.model_selection import train_test_split, GridSearchCV\n",
    "from sklearn.ensemble import GradientBoostingRegressor\n",
    "from sklearn.inspection import PartialDependenceDisplay\n",
    "from sklearn.metrics import mean_squared_error"
   ]
  },
  {
   "cell_type": "markdown",
   "id": "4b8825a4",
   "metadata": {},
   "source": [
    "We import the Boston house-price data."
   ]
  },
  {
   "cell_type": "code",
   "execution_count": 47,
   "id": "ecfd2729",
   "metadata": {},
   "outputs": [],
   "source": [
    "# Import Data\n",
    "data_url = \"http://lib.stat.cmu.edu/datasets/boston\"\n",
    "raw_df = pd.read_csv(data_url, sep=\"\\s+\", skiprows=22, header=None)\n",
    "data = np.hstack([raw_df.values[::2, :], raw_df.values[1::2, :2]])\n",
    "target = raw_df.values[1::2, 2]\n",
    "# This chunk of code is extracted from scikit-learn warning message beacuse boston data will deprectaed in 1.2 version "
   ]
  },
  {
   "cell_type": "code",
   "execution_count": 48,
   "id": "7065bed6",
   "metadata": {},
   "outputs": [
    {
     "data": {
      "text/html": [
       "<div>\n",
       "<style scoped>\n",
       "    .dataframe tbody tr th:only-of-type {\n",
       "        vertical-align: middle;\n",
       "    }\n",
       "\n",
       "    .dataframe tbody tr th {\n",
       "        vertical-align: top;\n",
       "    }\n",
       "\n",
       "    .dataframe thead th {\n",
       "        text-align: right;\n",
       "    }\n",
       "</style>\n",
       "<table border=\"1\" class=\"dataframe\">\n",
       "  <thead>\n",
       "    <tr style=\"text-align: right;\">\n",
       "      <th></th>\n",
       "      <th>CRIM</th>\n",
       "      <th>ZN</th>\n",
       "      <th>INDUS</th>\n",
       "      <th>CHAS</th>\n",
       "      <th>NOX</th>\n",
       "      <th>RM</th>\n",
       "      <th>AGE</th>\n",
       "      <th>DIS</th>\n",
       "      <th>RAD</th>\n",
       "      <th>TAX</th>\n",
       "      <th>PTRATIO</th>\n",
       "      <th>B</th>\n",
       "      <th>LSTAT</th>\n",
       "    </tr>\n",
       "  </thead>\n",
       "  <tbody>\n",
       "    <tr>\n",
       "      <th>0</th>\n",
       "      <td>0.00632</td>\n",
       "      <td>18.0</td>\n",
       "      <td>2.31</td>\n",
       "      <td>0.0</td>\n",
       "      <td>0.538</td>\n",
       "      <td>6.575</td>\n",
       "      <td>65.2</td>\n",
       "      <td>4.0900</td>\n",
       "      <td>1.0</td>\n",
       "      <td>296.0</td>\n",
       "      <td>15.3</td>\n",
       "      <td>396.90</td>\n",
       "      <td>4.98</td>\n",
       "    </tr>\n",
       "    <tr>\n",
       "      <th>1</th>\n",
       "      <td>0.02731</td>\n",
       "      <td>0.0</td>\n",
       "      <td>7.07</td>\n",
       "      <td>0.0</td>\n",
       "      <td>0.469</td>\n",
       "      <td>6.421</td>\n",
       "      <td>78.9</td>\n",
       "      <td>4.9671</td>\n",
       "      <td>2.0</td>\n",
       "      <td>242.0</td>\n",
       "      <td>17.8</td>\n",
       "      <td>396.90</td>\n",
       "      <td>9.14</td>\n",
       "    </tr>\n",
       "    <tr>\n",
       "      <th>2</th>\n",
       "      <td>0.02729</td>\n",
       "      <td>0.0</td>\n",
       "      <td>7.07</td>\n",
       "      <td>0.0</td>\n",
       "      <td>0.469</td>\n",
       "      <td>7.185</td>\n",
       "      <td>61.1</td>\n",
       "      <td>4.9671</td>\n",
       "      <td>2.0</td>\n",
       "      <td>242.0</td>\n",
       "      <td>17.8</td>\n",
       "      <td>392.83</td>\n",
       "      <td>4.03</td>\n",
       "    </tr>\n",
       "    <tr>\n",
       "      <th>3</th>\n",
       "      <td>0.03237</td>\n",
       "      <td>0.0</td>\n",
       "      <td>2.18</td>\n",
       "      <td>0.0</td>\n",
       "      <td>0.458</td>\n",
       "      <td>6.998</td>\n",
       "      <td>45.8</td>\n",
       "      <td>6.0622</td>\n",
       "      <td>3.0</td>\n",
       "      <td>222.0</td>\n",
       "      <td>18.7</td>\n",
       "      <td>394.63</td>\n",
       "      <td>2.94</td>\n",
       "    </tr>\n",
       "    <tr>\n",
       "      <th>4</th>\n",
       "      <td>0.06905</td>\n",
       "      <td>0.0</td>\n",
       "      <td>2.18</td>\n",
       "      <td>0.0</td>\n",
       "      <td>0.458</td>\n",
       "      <td>7.147</td>\n",
       "      <td>54.2</td>\n",
       "      <td>6.0622</td>\n",
       "      <td>3.0</td>\n",
       "      <td>222.0</td>\n",
       "      <td>18.7</td>\n",
       "      <td>396.90</td>\n",
       "      <td>5.33</td>\n",
       "    </tr>\n",
       "  </tbody>\n",
       "</table>\n",
       "</div>"
      ],
      "text/plain": [
       "      CRIM    ZN  INDUS  CHAS    NOX     RM   AGE     DIS  RAD    TAX  \\\n",
       "0  0.00632  18.0   2.31   0.0  0.538  6.575  65.2  4.0900  1.0  296.0   \n",
       "1  0.02731   0.0   7.07   0.0  0.469  6.421  78.9  4.9671  2.0  242.0   \n",
       "2  0.02729   0.0   7.07   0.0  0.469  7.185  61.1  4.9671  2.0  242.0   \n",
       "3  0.03237   0.0   2.18   0.0  0.458  6.998  45.8  6.0622  3.0  222.0   \n",
       "4  0.06905   0.0   2.18   0.0  0.458  7.147  54.2  6.0622  3.0  222.0   \n",
       "\n",
       "   PTRATIO       B  LSTAT  \n",
       "0     15.3  396.90   4.98  \n",
       "1     17.8  396.90   9.14  \n",
       "2     17.8  392.83   4.03  \n",
       "3     18.7  394.63   2.94  \n",
       "4     18.7  396.90   5.33  "
      ]
     },
     "execution_count": 48,
     "metadata": {},
     "output_type": "execute_result"
    }
   ],
   "source": [
    "feature_names = ['CRIM', 'ZN', 'INDUS', 'CHAS', 'NOX', 'RM','AGE', 'DIS', 'RAD','TAX', 'PTRATIO', 'B', 'LSTAT']\n",
    "boston = pd.DataFrame(data, columns = feature_names)\n",
    "boston.head()"
   ]
  },
  {
   "cell_type": "code",
   "execution_count": 49,
   "id": "ba71d178",
   "metadata": {},
   "outputs": [],
   "source": [
    "# Target and Predictor Variables\n",
    "X = boston.copy()\n",
    "y = target.copy()"
   ]
  },
  {
   "cell_type": "code",
   "execution_count": 50,
   "id": "051080ad",
   "metadata": {},
   "outputs": [],
   "source": [
    "# The test size is 50% beacuse the book takes 50% of the data for training set\n",
    "X_train, X_test, y_train, y_test = train_test_split(X, y, test_size = 0.5, random_state = 123)"
   ]
  },
  {
   "cell_type": "code",
   "execution_count": 57,
   "id": "8462a2df",
   "metadata": {},
   "outputs": [
    {
     "data": {
      "text/plain": [
       "GradientBoostingRegressor(max_depth=4, n_estimators=500, random_state=123)"
      ]
     },
     "execution_count": 57,
     "metadata": {},
     "output_type": "execute_result"
    }
   ],
   "source": [
    "# Fit Boosted Regression Tree\n",
    "boost = GradientBoostingRegressor(learning_rate = 0.1,\n",
    "                                  n_estimators = 500,\n",
    "                                  max_depth = 4,\n",
    "                                  random_state = 123)\n",
    "boost.fit(X_train, y_train)"
   ]
  },
  {
   "cell_type": "code",
   "execution_count": 58,
   "id": "e73238dc",
   "metadata": {},
   "outputs": [
    {
     "name": "stdout",
     "output_type": "stream",
     "text": [
      "The MSE of the tree model is: 13.740199670929412\n"
     ]
    }
   ],
   "source": [
    "y_test_predict = boost.predict(X_test)\n",
    "print(\"The MSE of the boost tree model is:\", mean_squared_error(y_test, y_test_predict))"
   ]
  },
  {
   "cell_type": "markdown",
   "id": "dd5ee8a5",
   "metadata": {},
   "source": [
    "In this case we have not improved the model respect to random forest."
   ]
  },
  {
   "cell_type": "code",
   "execution_count": 59,
   "id": "459c7aa7",
   "metadata": {},
   "outputs": [
    {
     "data": {
      "image/png": "[encoded data removed]",
      "text/plain": [
       "<Figure size 432x288 with 1 Axes>"
      ]
     },
     "metadata": {
      "needs_background": "light"
     },
     "output_type": "display_data"
    }
   ],
   "source": [
    "# Feature Imporcances\n",
    "pd.DataFrame({'Importance': boost.feature_importances_ * 100}, index = X_train.columns)\\\n",
    "    .sort_values('Importance', ascending = True, axis = 0)\\\n",
    "    .plot(kind = 'barh', title = 'Feature Importance');"
   ]
  },
  {
   "cell_type": "markdown",
   "id": "1e32327b",
   "metadata": {},
   "source": [
    "If the Average number of rooms increases then the price increase and if the lower status of the population increase the prices deacrese.\n",
    "**Partial dependence plots:** https://www.kaggle.com/dansbecker/partial-dependence-plots"
   ]
  },
  {
   "cell_type": "code",
   "execution_count": 74,
   "id": "3e64cd0b",
   "metadata": {
    "scrolled": true
   },
   "outputs": [
    {
     "data": {
      "image/png": "[encoded data removed]",
      "text/plain": [
       "<Figure size 432x288 with 3 Axes>"
      ]
     },
     "metadata": {
      "needs_background": "light"
     },
     "output_type": "display_data"
    }
   ],
   "source": [
    "PartialDependenceDisplay.from_estimator(boost, X_train, [5, 12]);"
   ]
  },
  {
   "cell_type": "markdown",
   "id": "9c91e7b7",
   "metadata": {},
   "source": [
    "Now we can try to find the best learning rate and max depth with cross validation."
   ]
  },
  {
   "cell_type": "code",
   "execution_count": 77,
   "id": "704f7965",
   "metadata": {},
   "outputs": [
    {
     "data": {
      "text/plain": [
       "GridSearchCV(cv=10,\n",
       "             estimator=GradientBoostingRegressor(n_estimators=500,\n",
       "                                                 random_state=123),\n",
       "             param_grid={'learning_rate': [0.001, 0.01, 0.1, 0.2, 0.3, 0.4],\n",
       "                         'max_depth': [1, 2, 3]})"
      ]
     },
     "execution_count": 77,
     "metadata": {},
     "output_type": "execute_result"
    }
   ],
   "source": [
    "grid = {\"learning_rate\": [0.001, 0.01, 0.1, 0.2, 0.3, 0.4],\n",
    "       \"max_depth\": [1, 2, 3]}\n",
    "\n",
    "boost_base_model = GradientBoostingRegressor(n_estimators = 500, random_state = 123)\n",
    "\n",
    "grid = GridSearchCV(estimator = boost_base_model,\n",
    "                param_grid = grid,\n",
    "                cv = 10)\n",
    "grid.fit(X_train, y_train)"
   ]
  },
  {
   "cell_type": "code",
   "execution_count": 79,
   "id": "4c72d967",
   "metadata": {},
   "outputs": [
    {
     "data": {
      "text/plain": [
       "GradientBoostingRegressor(learning_rate=0.2, n_estimators=500, random_state=123)"
      ]
     },
     "execution_count": 79,
     "metadata": {},
     "output_type": "execute_result"
    }
   ],
   "source": [
    "best_boost = grid.best_estimator_\n",
    "best_boost.fit(X_train, y_train)"
   ]
  },
  {
   "cell_type": "code",
   "execution_count": 80,
   "id": "3b984290",
   "metadata": {},
   "outputs": [
    {
     "name": "stdout",
     "output_type": "stream",
     "text": [
      "The MSE of the tree model is: 11.852598168908443\n"
     ]
    }
   ],
   "source": [
    "y_test_predict = best_boost.predict(X_test)\n",
    "print(\"The MSE of the boost tree model is:\", mean_squared_error(y_test, y_test_predict))"
   ]
  },
  {
   "cell_type": "markdown",
   "id": "d9aca99f",
   "metadata": {},
   "source": [
    "### Bibliography"
   ]
  },
  {
   "cell_type": "markdown",
   "id": "748a86ae",
   "metadata": {},
   "source": [
    "[1] An Introduction to Statistical Learning: with Applications in R (Springer Texts in Statistics), second edition [PDF Book](https://www.statlearning.com/)\n",
    "\n",
    "[2] Machine learning con Python y Scikit-learn, Joaquín Amat Rodrigo [Online Notebook](https://www.cienciadedatos.net/documentos/py06_machine_learning_python_scikitlearn.html)\n",
    "\n",
    "[3] Árboles de decisión con Python: regresión y clasificación, Joaquín Amat Rodrigo [Online Notebook](https://www.cienciadedatos.net/documentos/py07_arboles_decision_python.html)\n",
    "\n",
    "[4] Topic 3. Classification, Decision Trees and k Nearest Neighbors,  Yury Kashnitsky [Online Notebook](https://mlcourse.ai/book/topic03/topic03_decision_trees_kNN.html)\n",
    "\n",
    "[5] The Mathematics of Decision Trees, Random Forest and Feature Importance in Scikit-learn and Spark, Stacey Ronaghan [Online Notebook](https://towardsdatascience.com/the-mathematics-of-decision-trees-random-forest-and-feature-importance-in-scikit-learn-and-spark-f2861df67e3)\n",
    "\n",
    "[6] Post pruning decision trees with cost complexity pruning [scikit-learn doc](https://scikit-learn.org/stable/auto_examples/tree/plot_cost_complexity_pruning.html)\n",
    "\n",
    "[7] A practical approach to Tree Pruning using sklearn | Decision Trees [blog](https://ranvir.xyz/blog/practical-approach-to-tree-pruning-using-sklearn/)\n",
    "\n",
    "[8] Let’s Solve Overfitting! Quick Guide to Cost Complexity Pruning of Decision Trees [blog](https://www.analyticsvidhya.com/blog/2020/10/cost-complexity-pruning-decision-trees/)\n",
    "\n",
    "[9] Applied ML 2020 - 07 - Decision Trees and Random Forests, Andreas Mueller [YouTube video](https://youtu.be/nomd5ylZ2dw?t=1323)\n",
    "\n",
    "[10] Partial Dependence Plots [Kaggle](https://www.kaggle.com/dansbecker/partial-dependence-plots)"
   ]
  },
  {
   "cell_type": "code",
   "execution_count": null,
   "id": "ca3c9986",
   "metadata": {},
   "outputs": [],
   "source": []
  },
  {
   "cell_type": "code",
   "execution_count": null,
   "id": "6ecb6d53",
   "metadata": {},
   "outputs": [],
   "source": []
  },
  {
   "cell_type": "code",
   "execution_count": null,
   "id": "9325d1e2",
   "metadata": {},
   "outputs": [],
   "source": []
  }
 ],
 "metadata": {
  "kernelspec": {
   "display_name": "mlcourse.ai",
   "language": "python",
   "name": "mlcourse.ai"
  },
  "language_info": {
   "codemirror_mode": {
    "name": "ipython",
    "version": 3
   },
   "file_extension": ".py",
   "mimetype": "text/x-python",
   "name": "python",
   "nbconvert_exporter": "python",
   "pygments_lexer": "ipython3",
   "version": "3.10.0"
  },
  "toc": {
   "base_numbering": 1,
   "nav_menu": {},
   "number_sections": true,
   "sideBar": true,
   "skip_h1_title": false,
   "title_cell": "Table of Contents",
   "title_sidebar": "Contents",
   "toc_cell": false,
   "toc_position": {},
   "toc_section_display": true,
   "toc_window_display": false
  }
 },
 "nbformat": 4,
 "nbformat_minor": 5
}
