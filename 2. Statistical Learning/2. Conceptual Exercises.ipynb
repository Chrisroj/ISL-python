{
 "cells": [
  {
   "cell_type": "markdown",
   "id": "08bf1bee-8c93-4575-b5b0-0febdd28c089",
   "metadata": {},
   "source": [
    "### Exercise 1\n",
    "For each of parts a) through d), indicate whether we would generally expect the performance of a flexible statistical learning method to be better or worse than an inflexible method. Justify your answer.\n",
    "\n",
    "a) The sample size n is extremely large, and the number of predictors p is small.\n",
    "\n",
    "b) The number of predictors p is extremely large, and the number of observations n is small.\n",
    "\n",
    "c) The relationship between the predictors and response is highly non-linear.\n",
    "\n",
    "d) The variance of the error terms, i.e. σ2 = Var(ε), is extremely high."
   ]
  },
  {
   "cell_type": "markdown",
   "id": "f98a77f8-6113-4ca5-b60c-49bd8d43b261",
   "metadata": {
    "tags": []
   },
   "source": [
    "### Solution 1\n",
    "\n",
    "#### a)\n",
    "A **flexible method would be better** beacuse you have enough data to learn the patterns and the sample mean of the error term tends to be zero beacuse the law of large numbers then the error term won't play an important role not as much as if the sample were small.\n",
    "#### b)\n",
    "An **inflexible method** would be better beacuse a flexible method will try to overfit the sample beacuse there is no enough data.\n",
    "#### c)\n",
    "A **flexible method would be better** beacuse that kind of methods can learn non-linear responeses more easily.\n",
    "#### d)\n",
    "A more flexible method will try to learn the noise more than the real value of the response then an **inflexible method** would be better."
   ]
  },
  {
   "cell_type": "markdown",
   "id": "45cd6e12-8a34-487e-983a-0b80d2c2bc8a",
   "metadata": {},
   "source": [
    "### Exercise 2\n",
    "\n",
    "Explain whether each scenario is a classification or regression problem, and indicate whether we are most interested in inference or prediction. Finally, provide n and p.\n",
    "\n",
    "\n",
    "a) We collect a set of data on the top 500 firms in the US. For each firm we record profit, number of employees, industry and the CEO salary. We are interested in understanding which factors affect CEO salary.\n",
    "\n",
    "b) We are considering launching a new product and wish to know whether it will be a success or a failure. We collect data on 20 similar products that were previously launched. For each product we have recorded whether it was a success or failure, price charged for the product, marketing budget, competition price, and ten other variables.\n",
    "\n",
    "c) We are interested in predicting the % change in the USD/Euro exchange rate in relation to the weekly changes in the world stock markets. Hence we collect weekly data for all of 2012. For each week we record the % change in the USD/Euro, the % change in the US market, the % change in the British market, and the % change in the German market."
   ]
  },
  {
   "cell_type": "markdown",
   "id": "8645b37a-9482-4c26-9b1f-4f39e6915e87",
   "metadata": {},
   "source": [
    "### Solution 2\n",
    "\n",
    "\n",
    "#### a)\n",
    "**Regression** problem (CEO salary is a quantitative value).\n",
    "\n",
    "Most interested in **inference** beacuse you want to understand which factos affect CEO salary.\n",
    "\n",
    "$n = 500$\n",
    "\n",
    "$p = 3$\n",
    "\n",
    "#### b)\n",
    "**Classification** problem (two values for the target succes or failure).\n",
    "\n",
    "Most interested in **prediction** beacuse you want to know if it will be a succes or failure it doesn't matter what are the factors that affect it.\n",
    "\n",
    "$n = 20$\n",
    "\n",
    "$p = 13$\n",
    "\n",
    "#### c)\n",
    "**Regression** problem (beacuse the % change is a quantitative value).\n",
    "\n",
    "Most interested in **prediction** beacuse you want to predict the % change.\n",
    "\n",
    "$n = 52$\n",
    "$p = 3$"
   ]
  },
  {
   "cell_type": "markdown",
   "id": "8e4c7b1f-8610-48a7-b98a-094be80ef7fd",
   "metadata": {},
   "source": [
    "### Exercise 3\n",
    "\n",
    "We now revisit the bias-variance decomposition.\n",
    "\n",
    "a) Provide a sketch of typical (squared) bias, variance, training error, test error, and Bayes (or irreducible) error curves, on a single plot, as we go from less flexible statistical learning methods towards more flexible approaches. The x-axis should represent the amount of flexibility in the method, and the y-axis should represent the values for each curve. There should be five curves. Make sure to label each one.\n",
    "\n",
    "\n",
    "b) Explain why each of the five curves has the shape displayed in part (a)."
   ]
  },
  {
   "cell_type": "markdown",
   "id": "62598e98-9ebd-4fcd-b3f3-b611d319d9ad",
   "metadata": {},
   "source": [
    "### Solution 3\n",
    "\n",
    "The $E[(y_0 - \\hat{f}(x_0))^2]$ is the *expected test MSE at at $x_0$* and can be descomposed in:\n",
    "$$E[(y_0 - \\hat{f}(x_0))^2] = Var[\\hat{f}(x_0)] + [Bias(\\hat{f}(x_0))]^2 + Var(\\varepsilon)$$\n",
    "\n",
    "#### a)\n",
    "\n",
    "![](./images/t_error_descomposition.PNG)\n",
    "\n",
    "#### b)\n",
    "**Test Error**: With a simple model the error is high but start to deacrese as the complexity increases but at some point it starts to increase beacuse the model start to overfit the training data.\n",
    "\n",
    "**Train Error**: It always decreases as the complexity increases, but at some point starts deacreses faster beacuse it is overfitting the data.\n",
    "\n",
    "**Test Variance**: With a simple model the variance is low but as the flexiblity of the model increase the bias increases slower than the variance deacreses, but in a point the variance start to increase more rapidly the model start to overfit the data.\n",
    "\n",
    "**Test Bias**: With a simple model the bias is high but as the flexiblity of the model increase the bias deacreses faster than the variance increases, but in a point the bias start to deacrese more slowly.\n",
    "\n",
    "**Variance Error (Bayes error)**: This is the irreducible error and is constant beacuse in depends on the data and not in the model complexity.\n",
    "\n",
    "\n",
    "**Notes**: \n",
    "**Bias**: is the difference between the average prediction of our model and the correct value which we are trying to predict. Model with high bias pays very little attention to the training data and oversimplifies the model. It always leads to high error on training and test data.\n",
    "\n",
    "**Variance**: Variance is the variability of model prediction for a given data point or a value which tells us spread of our data. Model with high variance pays a lot of attention to training data and does not generalize on the data which it hasn’t seen before. As a result, such models perform very well on training data but has high error rates on test data.\n",
    "\n",
    "Source:https://towardsdatascience.com/understanding-the-bias-variance-tradeoff-165e6942b229"
   ]
  },
  {
   "cell_type": "markdown",
   "id": "57a26e41-7724-4083-a06d-85683aca5328",
   "metadata": {},
   "source": [
    "### Exercise 4\n",
    "\n",
    "You will now think of some real-life applications for statistical learning.\n",
    "\n",
    "a) Describe three real-life applications in which classification might be useful. Describe the response, as well as the predictors. Is the goal of each application inference or prediction? Explain your answer.\n",
    "\n",
    "b) Describe three real-life applications in which regression might be useful. Describe the response, as well as the predictors. Is the goal of each application inference or prediction? Explain your answer.\n",
    "\n",
    "c) Describe three real-life applications in which cluster analysis might be useful."
   ]
  },
  {
   "cell_type": "markdown",
   "id": "22f9e372-e6f8-4528-b9ee-2794ab8a72e7",
   "metadata": {},
   "source": [
    "### Solution 4\n",
    "\n",
    "#### a)\n",
    "**Credit Fraud**:\n",
    "\n",
    "    - Response: is fraud or not.\n",
    "    - Predictors: age, balance, sex, etc. \n",
    "    - Prediction\n",
    "    \n",
    "**Customer Churn**:\n",
    "\n",
    "    - Response: will be churn or not.\n",
    "    - Predictors: age, years as customer, sex, etc. \n",
    "    - Prediction and Inference \n",
    "    \n",
    "**Bitcoin Price Increase**:\n",
    "  \n",
    "    - Response: will increase or decrease the bitcoin price in the next year.\n",
    "    - Predictors: prices or bitcoin in the last n years. \n",
    "    - Prediction \n",
    " \n",
    "    \n",
    "\n",
    "#### b)\n",
    "\n",
    "**Market Share**:\n",
    "  \n",
    "    - Response: market share.\n",
    "    - Predictors: inflation, marketing investment, amount of sales promotions, etc. \n",
    "    - Inference (to understand what factors affect the market share)\n",
    "    \n",
    "**Price Prediction in Real State**:\n",
    "  \n",
    "    - Response: property price.\n",
    "    - Predictors: num bedrooms, num bathrooms,  sourranding prices, etc. \n",
    "    - Prediction \n",
    "    \n",
    "**Data Science Salary Prediction**:\n",
    "  \n",
    "    - Response: Data Science Salary.\n",
    "    - Predictors: years of experience, bachelor's degree, num projects, etc. \n",
    "    - Inference (to understand what factors affect the DS Salary) \n",
    "    \n",
    "#### c)\n",
    "\n",
    "**Customer Segmentation**\n",
    "    - To understand clusters of customers to offer customized promotions.\n",
    "    \n",
    "**Segmentation of Planets**\n",
    "    - To study similar planets and understand their similarities.\n",
    "    \n",
    "**Segmentation of Living Beings**\n",
    "    - To study the patterns of similar living beings."
   ]
  },
  {
   "cell_type": "markdown",
   "id": "d1366ef0-34ae-4f6a-a105-3cb8d6930f1e",
   "metadata": {},
   "source": [
    "### Exercise 5\n",
    "\n",
    "\n",
    "What are the advantages and disadvantages of a very flexible (versus a less flexible) approach for regression or classification? Under what circumstances might a more flexible approach be preferred to a less flexible approach? When might a less flexible approach be preferred?"
   ]
  },
  {
   "cell_type": "markdown",
   "id": "6364917e-6b7f-4aa8-bce5-4647d1bfcd7b",
   "metadata": {},
   "source": [
    "### Solution 5\n",
    "\n",
    "\n",
    "**Flexible Models**\n",
    "\n",
    "    Advantages:\n",
    "    \n",
    "        - Non-linear patterns\n",
    "        \n",
    "    Disadvantages:\n",
    "    \n",
    "        - Tends to overfit\n",
    "        - No interpretable\n",
    "        - Requires a big sample\n",
    "        - Estimation of greater number of parameters\n",
    "\n",
    "**Inflexible Models**\n",
    "\n",
    "    Advantages:\n",
    "    \n",
    "        - Interpretable\n",
    "        - Easy to compute\n",
    "        \n",
    "    Disadvantages:\n",
    "    \n",
    "        - No learns complex patterns\n",
    "        \n",
    "It is prefered to use a flexible model when you have to do prediction over a complex phenomenom and a inflexible model when you want to do inference."
   ]
  },
  {
   "cell_type": "markdown",
   "id": "eb819f7c-0372-458c-9be5-0c65fc9426ca",
   "metadata": {},
   "source": [
    "### Exercise 6\n",
    "Describe the differences between a parametric and a non-parametric statistical learning approach. What are the advantages of a para- metric approach to regression or classification (as opposed to a non- parametric approach)? What are its disadvantages?"
   ]
  },
  {
   "cell_type": "markdown",
   "id": "66993530-d124-498f-8b42-51781a8b04b4",
   "metadata": {},
   "source": [
    "### Solution 6\n",
    "\n",
    "**Parametric Model:** Assumptions about the functional form of $f$, the problem is reduce to estimate a small set of parameters. The models usually are interpretables. The potential disadvantage of a parametric approach is that the model we choose will usually not match the true unknown form of f\n",
    "\n",
    "**Non-Parametric Model:** Non-Assumptions about the functional form of $f$, then the model is more flexible but a very large number of observations (far more than is typically needed for a parametric approach) is required in order to obtain an accurate estimate for f. This kind of models tends to overfit."
   ]
  },
  {
   "cell_type": "markdown",
   "id": "da2fe1b4-6374-40b7-ab15-cfc82b9b9b20",
   "metadata": {},
   "source": [
    "### Exercise 7\n",
    "\n",
    "The table below provides a training data set containing six observations, three predictors, and one qualitative response variable.\n",
    "\n",
    "![](./images/problem7.PNG)\n",
    "\n",
    "Suppose we wish to use this data set to make a prediction for $Y$ when $X_1 = X_2 = X_3 = 0$ using K-nearest neighbors.\n",
    "\n",
    "a) Compute the Euclidean distance between each observation and the test point, $X1 =X2 =X3 =0$.\n",
    "\n",
    "b) What is our prediction with $K = 1$? Why?\n",
    "\n",
    "c) What is our prediction with $K = 3$? Why?\n",
    "\n",
    "d) If the Bayes decision boundary in this problem is highly non-linear, then would we expect the best value for $K$ to be large or small? Why?"
   ]
  },
  {
   "cell_type": "markdown",
   "id": "ed125d56-e0a6-4608-9de0-7f06a973601a",
   "metadata": {},
   "source": [
    "### Solution 7\n",
    "\n",
    "#### a)\n",
    "\n",
    "|   |  test error |\n",
    "|---|---|\n",
    "| 1  |  3 |\n",
    "|  2 |  2 |\n",
    "|  3 |  $\\sqrt{10}$ |\n",
    "|  4 |   $\\sqrt{5}$|\n",
    "|  5 |  $\\sqrt{2}$ |\n",
    "|  6 | $\\sqrt{3}$  |\n",
    "\n",
    "#### b)\n",
    "Green, beacuse the observation 5 is Green.\n",
    "#### c)\n",
    "\n",
    "Red, beacuse the observations 2, 5 and 6 are the closest with Y= Red, Green and Red, the most common value is Red.\n",
    "#### d)\n",
    "\n",
    "Small $K$ beacuse a smaller $K$ results in complex model.\n"
   ]
  }
 ],
 "metadata": {
  "kernelspec": {
   "display_name": "ds",
   "language": "python",
   "name": "ds"
  },
  "language_info": {
   "codemirror_mode": {
    "name": "ipython",
    "version": 3
   },
   "file_extension": ".py",
   "mimetype": "text/x-python",
   "name": "python",
   "nbconvert_exporter": "python",
   "pygments_lexer": "ipython3",
   "version": "3.9.13"
  }
 },
 "nbformat": 4,
 "nbformat_minor": 5
}
